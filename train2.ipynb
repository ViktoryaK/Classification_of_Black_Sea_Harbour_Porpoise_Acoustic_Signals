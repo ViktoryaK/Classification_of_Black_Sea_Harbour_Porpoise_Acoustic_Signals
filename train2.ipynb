{
 "cells": [
  {
   "cell_type": "code",
   "id": "initial_id",
   "metadata": {
    "collapsed": true,
    "ExecuteTime": {
     "end_time": "2025-03-27T00:51:47.301693Z",
     "start_time": "2025-03-27T00:51:44.218167Z"
    }
   },
   "source": [
    "from torch.utils.data import DataLoader, TensorDataset\n",
    "from sklearn.model_selection import train_test_split\n",
    "import torch\n",
    "import torch.optim as optim\n",
    "from datasets import ClickDataset\n",
    "from sklearn.preprocessing import MinMaxScaler\n",
    "from utils import create_dtw_pairs\n",
    "from models import SiameseNetwork, ContrastiveLoss, train_siamese, evaluate_siamese\n",
    "\n",
    "dataset = ClickDataset('Click_details', transform=MinMaxScaler())\n",
    "print(\"Dataset created\")\n",
    "pairs1, pairs2, labels = create_dtw_pairs(dataset, 6000)\n",
    "print(\"Pairs created\")\n",
    "\n",
    "pairs1 = torch.tensor(pairs1, dtype=torch.float32)\n",
    "pairs2 = torch.tensor(pairs2, dtype=torch.float32)\n",
    "labels = torch.tensor(labels, dtype=torch.float32)\n",
    "\n",
    "model = SiameseNetwork()\n",
    "criterion = ContrastiveLoss()\n",
    "\n",
    "optimizer = optim.Adam(model.parameters(), lr=1e-3)\n",
    "\n",
    "pairs1_train, pairs1_val, pairs2_train, pairs2_val, labels_train, labels_val = train_test_split(pairs1, pairs2, labels, test_size=0.2, random_state=42)\n",
    "\n",
    "train_dataset = TensorDataset(pairs1_train,\n",
    "                             pairs2_train,\n",
    "                             labels_train)\n",
    "\n",
    "val_dataset = TensorDataset(pairs1_val,\n",
    "                           pairs2_val,\n",
    "                           labels_val)\n",
    "\n",
    "\n",
    "train_loader = DataLoader(train_dataset, batch_size=64, shuffle=True)\n",
    "val_loader = DataLoader(val_dataset, batch_size=64, shuffle=False)\n",
    "\n",
    "train_siamese(model, train_loader, criterion, optimizer, epochs=5)\n",
    "\n",
    "evaluate_siamese(model, val_loader)"
   ],
   "outputs": [
    {
     "ename": "NameError",
     "evalue": "name 'ClickDataset' is not defined",
     "output_type": "error",
     "traceback": [
      "\u001B[1;31m---------------------------------------------------------------------------\u001B[0m",
      "\u001B[1;31mNameError\u001B[0m                                 Traceback (most recent call last)",
      "Cell \u001B[1;32mIn[2], line 5\u001B[0m\n\u001B[0;32m      1\u001B[0m \u001B[38;5;28;01mfrom\u001B[39;00m \u001B[38;5;21;01mtorch\u001B[39;00m\u001B[38;5;21;01m.\u001B[39;00m\u001B[38;5;21;01mutils\u001B[39;00m\u001B[38;5;21;01m.\u001B[39;00m\u001B[38;5;21;01mdata\u001B[39;00m \u001B[38;5;28;01mimport\u001B[39;00m DataLoader, TensorDataset\n\u001B[0;32m      2\u001B[0m \u001B[38;5;28;01mfrom\u001B[39;00m \u001B[38;5;21;01msklearn\u001B[39;00m\u001B[38;5;21;01m.\u001B[39;00m\u001B[38;5;21;01mmodel_selection\u001B[39;00m \u001B[38;5;28;01mimport\u001B[39;00m train_test_split\n\u001B[1;32m----> 5\u001B[0m dataset \u001B[38;5;241m=\u001B[39m \u001B[43mClickDataset\u001B[49m(\u001B[38;5;124m'\u001B[39m\u001B[38;5;124mClick_details\u001B[39m\u001B[38;5;124m'\u001B[39m, transform\u001B[38;5;241m=\u001B[39mMinMaxScaler())\n\u001B[0;32m      6\u001B[0m \u001B[38;5;66;03m# print(dtw_distance(dataset[0], dataset[1]))\u001B[39;00m\n\u001B[0;32m      7\u001B[0m \u001B[38;5;28mprint\u001B[39m(\u001B[38;5;124m\"\u001B[39m\u001B[38;5;124mDataset created\u001B[39m\u001B[38;5;124m\"\u001B[39m)\n",
      "\u001B[1;31mNameError\u001B[0m: name 'ClickDataset' is not defined"
     ]
    }
   ],
   "execution_count": 2
  }
 ],
 "metadata": {
  "kernelspec": {
   "display_name": "Python 3",
   "language": "python",
   "name": "python3"
  },
  "language_info": {
   "codemirror_mode": {
    "name": "ipython",
    "version": 2
   },
   "file_extension": ".py",
   "mimetype": "text/x-python",
   "name": "python",
   "nbconvert_exporter": "python",
   "pygments_lexer": "ipython2",
   "version": "2.7.6"
  }
 },
 "nbformat": 4,
 "nbformat_minor": 5
}
