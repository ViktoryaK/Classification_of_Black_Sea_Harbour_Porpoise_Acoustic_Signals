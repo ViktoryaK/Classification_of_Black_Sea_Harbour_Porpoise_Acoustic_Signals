{
 "cells": [
  {
   "metadata": {},
   "cell_type": "markdown",
   "source": "## Reqirements",
   "id": "cafd57f962978134"
  },
  {
   "metadata": {
    "ExecuteTime": {
     "end_time": "2025-05-01T20:24:04.829956Z",
     "start_time": "2025-05-01T20:24:01.188205Z"
    }
   },
   "cell_type": "code",
   "source": "!pip install -r requirements.txt",
   "id": "d85845f12526e7b7",
   "outputs": [
    {
     "name": "stdout",
     "output_type": "stream",
     "text": [
      "Requirement already satisfied: numpy~=1.26.4 in c:\\users\\admin\\appdata\\local\\programs\\python\\python312\\lib\\site-packages (from -r requirements.txt (line 1)) (1.26.4)\n",
      "Requirement already satisfied: scikit-learn~=1.6.1 in c:\\users\\admin\\appdata\\local\\programs\\python\\python312\\lib\\site-packages (from -r requirements.txt (line 2)) (1.6.1)\n",
      "Requirement already satisfied: torch~=2.7.0 in c:\\users\\admin\\appdata\\local\\programs\\python\\python312\\lib\\site-packages (from -r requirements.txt (line 3)) (2.7.0)\n",
      "Requirement already satisfied: matplotlib~=3.9.2 in c:\\users\\admin\\appdata\\local\\programs\\python\\python312\\lib\\site-packages (from -r requirements.txt (line 4)) (3.9.2)\n",
      "Requirement already satisfied: tqdm~=4.67.1 in c:\\users\\admin\\appdata\\local\\programs\\python\\python312\\lib\\site-packages (from -r requirements.txt (line 5)) (4.67.1)\n",
      "Requirement already satisfied: joblib in c:\\users\\admin\\appdata\\local\\programs\\python\\python312\\lib\\site-packages (from -r requirements.txt (line 6)) (1.4.2)\n",
      "Requirement already satisfied: xgboost~=3.0.0 in c:\\users\\admin\\appdata\\local\\programs\\python\\python312\\lib\\site-packages (from -r requirements.txt (line 7)) (3.0.0)\n",
      "Requirement already satisfied: gdown~=5.2.0 in c:\\users\\admin\\appdata\\local\\programs\\python\\python312\\lib\\site-packages (from -r requirements.txt (line 8)) (5.2.0)\n",
      "Requirement already satisfied: imbalanced-learn~=0.13.0 in c:\\users\\admin\\appdata\\local\\programs\\python\\python312\\lib\\site-packages (from -r requirements.txt (line 9)) (0.13.0)\n",
      "Requirement already satisfied: pandas~=2.2.3 in c:\\users\\admin\\appdata\\local\\programs\\python\\python312\\lib\\site-packages (from -r requirements.txt (line 10)) (2.2.3)\n",
      "Requirement already satisfied: umap-learn~=0.5.7 in c:\\users\\admin\\appdata\\local\\programs\\python\\python312\\lib\\site-packages (from -r requirements.txt (line 11)) (0.5.7)\n",
      "Requirement already satisfied: fastdtw~=0.3.4 in c:\\users\\admin\\appdata\\local\\programs\\python\\python312\\lib\\site-packages (from -r requirements.txt (line 12)) (0.3.4)\n",
      "Requirement already satisfied: scipy~=1.15.1 in c:\\users\\admin\\appdata\\local\\programs\\python\\python312\\lib\\site-packages (from -r requirements.txt (line 13)) (1.15.1)\n",
      "Requirement already satisfied: shap~=0.47.2 in c:\\users\\admin\\appdata\\local\\programs\\python\\python312\\lib\\site-packages (from -r requirements.txt (line 14)) (0.47.2)\n",
      "Requirement already satisfied: threadpoolctl>=3.1.0 in c:\\users\\admin\\appdata\\local\\programs\\python\\python312\\lib\\site-packages (from scikit-learn~=1.6.1->-r requirements.txt (line 2)) (3.5.0)\n",
      "Requirement already satisfied: filelock in c:\\users\\admin\\appdata\\local\\programs\\python\\python312\\lib\\site-packages (from torch~=2.7.0->-r requirements.txt (line 3)) (3.17.0)\n",
      "Requirement already satisfied: typing-extensions>=4.10.0 in c:\\users\\admin\\appdata\\local\\programs\\python\\python312\\lib\\site-packages (from torch~=2.7.0->-r requirements.txt (line 3)) (4.12.2)\n",
      "Requirement already satisfied: sympy>=1.13.3 in c:\\users\\admin\\appdata\\local\\programs\\python\\python312\\lib\\site-packages (from torch~=2.7.0->-r requirements.txt (line 3)) (1.14.0)\n",
      "Requirement already satisfied: networkx in c:\\users\\admin\\appdata\\local\\programs\\python\\python312\\lib\\site-packages (from torch~=2.7.0->-r requirements.txt (line 3)) (3.4.2)\n",
      "Requirement already satisfied: jinja2 in c:\\users\\admin\\appdata\\local\\programs\\python\\python312\\lib\\site-packages (from torch~=2.7.0->-r requirements.txt (line 3)) (3.1.4)\n",
      "Requirement already satisfied: fsspec in c:\\users\\admin\\appdata\\local\\programs\\python\\python312\\lib\\site-packages (from torch~=2.7.0->-r requirements.txt (line 3)) (2024.12.0)\n",
      "Requirement already satisfied: setuptools in c:\\users\\admin\\appdata\\local\\programs\\python\\python312\\lib\\site-packages (from torch~=2.7.0->-r requirements.txt (line 3)) (75.5.0)\n",
      "Requirement already satisfied: contourpy>=1.0.1 in c:\\users\\admin\\appdata\\local\\programs\\python\\python312\\lib\\site-packages (from matplotlib~=3.9.2->-r requirements.txt (line 4)) (1.3.1)\n",
      "Requirement already satisfied: cycler>=0.10 in c:\\users\\admin\\appdata\\local\\programs\\python\\python312\\lib\\site-packages (from matplotlib~=3.9.2->-r requirements.txt (line 4)) (0.12.1)\n",
      "Requirement already satisfied: fonttools>=4.22.0 in c:\\users\\admin\\appdata\\local\\programs\\python\\python312\\lib\\site-packages (from matplotlib~=3.9.2->-r requirements.txt (line 4)) (4.55.0)\n",
      "Requirement already satisfied: kiwisolver>=1.3.1 in c:\\users\\admin\\appdata\\local\\programs\\python\\python312\\lib\\site-packages (from matplotlib~=3.9.2->-r requirements.txt (line 4)) (1.4.7)\n",
      "Requirement already satisfied: packaging>=20.0 in c:\\users\\admin\\appdata\\local\\programs\\python\\python312\\lib\\site-packages (from matplotlib~=3.9.2->-r requirements.txt (line 4)) (24.2)\n",
      "Requirement already satisfied: pillow>=8 in c:\\users\\admin\\appdata\\local\\programs\\python\\python312\\lib\\site-packages (from matplotlib~=3.9.2->-r requirements.txt (line 4)) (11.0.0)\n",
      "Requirement already satisfied: pyparsing>=2.3.1 in c:\\users\\admin\\appdata\\local\\programs\\python\\python312\\lib\\site-packages (from matplotlib~=3.9.2->-r requirements.txt (line 4)) (3.2.0)\n",
      "Requirement already satisfied: python-dateutil>=2.7 in c:\\users\\admin\\appdata\\local\\programs\\python\\python312\\lib\\site-packages (from matplotlib~=3.9.2->-r requirements.txt (line 4)) (2.9.0.post0)\n",
      "Requirement already satisfied: colorama in c:\\users\\admin\\appdata\\local\\programs\\python\\python312\\lib\\site-packages (from tqdm~=4.67.1->-r requirements.txt (line 5)) (0.4.6)\n",
      "Requirement already satisfied: beautifulsoup4 in c:\\users\\admin\\appdata\\local\\programs\\python\\python312\\lib\\site-packages (from gdown~=5.2.0->-r requirements.txt (line 8)) (4.12.3)\n",
      "Requirement already satisfied: requests[socks] in c:\\users\\admin\\appdata\\local\\programs\\python\\python312\\lib\\site-packages (from gdown~=5.2.0->-r requirements.txt (line 8)) (2.32.3)\n",
      "Requirement already satisfied: sklearn-compat<1,>=0.1 in c:\\users\\admin\\appdata\\local\\programs\\python\\python312\\lib\\site-packages (from imbalanced-learn~=0.13.0->-r requirements.txt (line 9)) (0.1.3)\n",
      "Requirement already satisfied: pytz>=2020.1 in c:\\users\\admin\\appdata\\local\\programs\\python\\python312\\lib\\site-packages (from pandas~=2.2.3->-r requirements.txt (line 10)) (2024.2)\n",
      "Requirement already satisfied: tzdata>=2022.7 in c:\\users\\admin\\appdata\\local\\programs\\python\\python312\\lib\\site-packages (from pandas~=2.2.3->-r requirements.txt (line 10)) (2024.2)\n",
      "Requirement already satisfied: numba>=0.51.2 in c:\\users\\admin\\appdata\\local\\programs\\python\\python312\\lib\\site-packages (from umap-learn~=0.5.7->-r requirements.txt (line 11)) (0.61.0)\n",
      "Requirement already satisfied: pynndescent>=0.5 in c:\\users\\admin\\appdata\\local\\programs\\python\\python312\\lib\\site-packages (from umap-learn~=0.5.7->-r requirements.txt (line 11)) (0.5.13)\n",
      "Requirement already satisfied: slicer==0.0.8 in c:\\users\\admin\\appdata\\local\\programs\\python\\python312\\lib\\site-packages (from shap~=0.47.2->-r requirements.txt (line 14)) (0.0.8)\n",
      "Requirement already satisfied: cloudpickle in c:\\users\\admin\\appdata\\local\\programs\\python\\python312\\lib\\site-packages (from shap~=0.47.2->-r requirements.txt (line 14)) (3.1.1)\n",
      "Requirement already satisfied: llvmlite<0.45,>=0.44.0dev0 in c:\\users\\admin\\appdata\\local\\programs\\python\\python312\\lib\\site-packages (from numba>=0.51.2->umap-learn~=0.5.7->-r requirements.txt (line 11)) (0.44.0)\n",
      "Requirement already satisfied: six>=1.5 in c:\\users\\admin\\appdata\\local\\programs\\python\\python312\\lib\\site-packages (from python-dateutil>=2.7->matplotlib~=3.9.2->-r requirements.txt (line 4)) (1.16.0)\n",
      "Requirement already satisfied: mpmath<1.4,>=1.1.0 in c:\\users\\admin\\appdata\\local\\programs\\python\\python312\\lib\\site-packages (from sympy>=1.13.3->torch~=2.7.0->-r requirements.txt (line 3)) (1.3.0)\n",
      "Requirement already satisfied: soupsieve>1.2 in c:\\users\\admin\\appdata\\local\\programs\\python\\python312\\lib\\site-packages (from beautifulsoup4->gdown~=5.2.0->-r requirements.txt (line 8)) (2.6)\n",
      "Requirement already satisfied: MarkupSafe>=2.0 in c:\\users\\admin\\appdata\\local\\programs\\python\\python312\\lib\\site-packages (from jinja2->torch~=2.7.0->-r requirements.txt (line 3)) (3.0.2)\n",
      "Requirement already satisfied: charset-normalizer<4,>=2 in c:\\users\\admin\\appdata\\local\\programs\\python\\python312\\lib\\site-packages (from requests[socks]->gdown~=5.2.0->-r requirements.txt (line 8)) (3.4.0)\n",
      "Requirement already satisfied: idna<4,>=2.5 in c:\\users\\admin\\appdata\\local\\programs\\python\\python312\\lib\\site-packages (from requests[socks]->gdown~=5.2.0->-r requirements.txt (line 8)) (3.10)\n",
      "Requirement already satisfied: urllib3<3,>=1.21.1 in c:\\users\\admin\\appdata\\local\\programs\\python\\python312\\lib\\site-packages (from requests[socks]->gdown~=5.2.0->-r requirements.txt (line 8)) (2.2.3)\n",
      "Requirement already satisfied: certifi>=2017.4.17 in c:\\users\\admin\\appdata\\local\\programs\\python\\python312\\lib\\site-packages (from requests[socks]->gdown~=5.2.0->-r requirements.txt (line 8)) (2024.8.30)\n",
      "Requirement already satisfied: PySocks!=1.5.7,>=1.5.6 in c:\\users\\admin\\appdata\\local\\programs\\python\\python312\\lib\\site-packages (from requests[socks]->gdown~=5.2.0->-r requirements.txt (line 8)) (1.7.1)\n"
     ]
    },
    {
     "name": "stderr",
     "output_type": "stream",
     "text": [
      "\n",
      "[notice] A new release of pip is available: 24.0 -> 25.1\n",
      "[notice] To update, run: C:\\Users\\Admin\\AppData\\Local\\Programs\\Python\\Python312\\python.exe -m pip install --upgrade pip\n"
     ]
    }
   ],
   "execution_count": 1
  },
  {
   "metadata": {},
   "cell_type": "markdown",
   "source": "## Imports",
   "id": "232a0fbaae0d428b"
  },
  {
   "cell_type": "code",
   "id": "initial_id",
   "metadata": {
    "collapsed": true,
    "ExecuteTime": {
     "end_time": "2025-05-01T20:24:14.325470Z",
     "start_time": "2025-05-01T20:24:05.082217Z"
    }
   },
   "source": [
    "import joblib\n",
    "import torch\n",
    "import numpy as np\n",
    "from models import predict_ae, predict_proba_ae\n",
    "from datasets import AcousticDataset\n",
    "from sklearn.ensemble import IsolationForest\n",
    "from collections import Counter, defaultdict\n",
    "from models import AutoencoderClassifier"
   ],
   "outputs": [],
   "execution_count": 2
  },
  {
   "metadata": {},
   "cell_type": "markdown",
   "source": "## Data and model loading",
   "id": "f7aedeb5508e37c7"
  },
  {
   "metadata": {
    "ExecuteTime": {
     "end_time": "2025-05-01T20:29:52.716588Z",
     "start_time": "2025-05-01T20:27:44.685998Z"
    }
   },
   "cell_type": "code",
   "source": [
    "device = torch.device(\"cuda\" if torch.cuda.is_available() else \"cpu\")\n",
    "scaler = joblib.load(\"save/scaler.pkl\")\n",
    "train_dataset = AcousticDataset(\n",
    "    \"data_files/Train_details/B Balchik 2020 11 14 FPOD_6288 file0 PART 79d 23h 19m train details\", \"data_files/datasets/CLICK TRAINS.xlsx\")\n",
    "\n",
    "unlabeled_x, unlabeled_meta = train_dataset.get_unlabeled()\n",
    "model = AutoencoderClassifier(unlabeled_x.shape[1], dropout_rate=0.2).to(device)\n",
    "model.load_state_dict(torch.load(\"save/final_ae_model.pth\"))\n",
    "model.eval()\n"
   ],
   "id": "c1445ed6d32d8e11",
   "outputs": [
    {
     "data": {
      "text/plain": [
       "AutoencoderClassifier(\n",
       "  (encoder): Sequential(\n",
       "    (0): Linear(in_features=24, out_features=128, bias=True)\n",
       "    (1): BatchNorm1d(128, eps=1e-05, momentum=0.1, affine=True, track_running_stats=True)\n",
       "    (2): ReLU()\n",
       "    (3): Dropout(p=0.2, inplace=False)\n",
       "    (4): Linear(in_features=128, out_features=64, bias=True)\n",
       "    (5): BatchNorm1d(64, eps=1e-05, momentum=0.1, affine=True, track_running_stats=True)\n",
       "    (6): ReLU()\n",
       "    (7): Dropout(p=0.2, inplace=False)\n",
       "  )\n",
       "  (decoder): Sequential(\n",
       "    (0): Linear(in_features=64, out_features=128, bias=True)\n",
       "    (1): ReLU()\n",
       "    (2): Linear(in_features=128, out_features=24, bias=True)\n",
       "  )\n",
       "  (classifier): Linear(in_features=64, out_features=2, bias=True)\n",
       ")"
      ]
     },
     "execution_count": 4,
     "metadata": {},
     "output_type": "execute_result"
    }
   ],
   "execution_count": 4
  },
  {
   "metadata": {},
   "cell_type": "markdown",
   "source": [
    "## Filtering\n",
    "\n",
    "Filters the unlabeled data using the Isolation Forest, to keep only the entries which are promising to belong to one of the classes."
   ],
   "id": "d79b2ecc935728ba"
  },
  {
   "metadata": {
    "ExecuteTime": {
     "end_time": "2025-05-01T20:32:03.069738Z",
     "start_time": "2025-05-01T20:29:52.810052Z"
    }
   },
   "cell_type": "code",
   "source": [
    "# Define feature columns to be used for filtering unlabeled data.\n",
    "FEATURE_COLUMNS = [\n",
    "    'ClksThisMin', 'medianKHz', 'avSPL', 'avPkAt',\n",
    "    'AvPRF', 'avEndF', 'tWUTrisk', 'nActualClx', 'nRisingIPIs',\n",
    "    'TrDur_us', 'nICIrising', 'MinICI_us', 'midpointICI', 'MaxICI_us',\n",
    "    'ClkNofMinICI', 'ClkNofMaxICI', 'NofClstrs', 'avClstrNx8', 'avPkIPI',\n",
    "    'BeforeIPIratio', 'PreIPIratio', 'Post1IPIratio', 'Post2IPIratio', 'EndIPIratio'\n",
    "]\n",
    "\n",
    "def filter_unlabeled_with_isolation_forest(unlabeled_features, unlabeled_meta, contamination=0.08, random_state=42):\n",
    "    \"\"\"\n",
    "    Filters out likely outliers from unlabeled data using Isolation Forest.\n",
    "\n",
    "    Args:\n",
    "        unlabeled_features (np.ndarray): Unlabeled feature matrix (samples x features).\n",
    "        unlabeled_meta (np.ndarray): Corresponding metadata for each sample.\n",
    "        contamination (float): Expected proportion of outliers in the data.\n",
    "        random_state (int): Seed for reproducibility.\n",
    "\n",
    "    Returns:\n",
    "        Tuple[np.ndarray, np.ndarray]: Filtered feature array and corresponding metadata.\n",
    "    \"\"\"\n",
    "    iso_forest = IsolationForest(contamination=contamination, random_state=random_state)\n",
    "    outlier_flags = iso_forest.fit_predict(unlabeled_features)\n",
    "\n",
    "    # Keep only samples predicted as outliers (-1)\n",
    "    is_outlier = outlier_flags == -1\n",
    "    filtered_features = unlabeled_features[is_outlier]\n",
    "    filtered_meta = unlabeled_meta[is_outlier]\n",
    "\n",
    "    return filtered_features, filtered_meta\n",
    "\n",
    "filtered_unlabeled, filtered_meta = filter_unlabeled_with_isolation_forest(unlabeled_x, unlabeled_meta)"
   ],
   "id": "34fccc58b0aa88e0",
   "outputs": [],
   "execution_count": 5
  },
  {
   "metadata": {},
   "cell_type": "markdown",
   "source": [
    "## Classification\n",
    "\n",
    "Applies the trained classification."
   ],
   "id": "395fd226fa11ee31"
  },
  {
   "metadata": {
    "ExecuteTime": {
     "end_time": "2025-05-01T20:33:05.915021Z",
     "start_time": "2025-05-01T20:33:03.601787Z"
    }
   },
   "cell_type": "code",
   "source": [
    "# === Predict on full unlabeled set ===\n",
    "filtered_unlabeled = scaler.transform(filtered_unlabeled)\n",
    "unlabeled_probs = predict_proba_ae(model, filtered_unlabeled, device=device)\n",
    "unlabeled_preds = predict_ae(model, filtered_unlabeled, device=device)\n",
    "\n",
    "confidence_threshold = 0.9\n",
    "\n",
    "# Generate final predictions and mask for confident samples\n",
    "final_unlabeled_preds = []\n",
    "final_unlabeled_meta = []\n",
    "for pred, prob, meta in zip(unlabeled_preds, unlabeled_probs, filtered_meta):\n",
    "    if max(prob) >= confidence_threshold:\n",
    "        final_unlabeled_preds.append(pred)\n",
    "        final_unlabeled_meta.append(meta)\n",
    "    else:\n",
    "        final_unlabeled_preds.append(2)  # Assign to class 2 (noise)\n",
    "        final_unlabeled_meta.append(meta)\n",
    "\n",
    "final_unlabeled_preds = np.array(final_unlabeled_preds)\n",
    "final_unlabeled_meta = np.array(final_unlabeled_meta)\n",
    "\n",
    "# === Print stats ===\n",
    "distribution = Counter(final_unlabeled_preds)\n",
    "total = len(final_unlabeled_preds)\n",
    "print(\"\\nFinal Unlabeled Predictions Distribution:\")\n",
    "for label, count in distribution.items():\n",
    "    pct = (count / total) * 100\n",
    "    print(f\"Class {label}: {count} ({pct:.2f}%)\")"
   ],
   "id": "fb9f8036dec03f64",
   "outputs": [
    {
     "name": "stdout",
     "output_type": "stream",
     "text": [
      "\n",
      "Final Unlabeled Predictions Distribution:\n",
      "Class 1: 995233 (94.64%)\n",
      "Class 2: 41240 (3.92%)\n",
      "Class 0: 15086 (1.43%)\n"
     ]
    }
   ],
   "execution_count": 9
  },
  {
   "metadata": {},
   "cell_type": "markdown",
   "source": [
    "## Postprocessing\n",
    "\n",
    "Applies the time-based grouping for entries of class 1."
   ],
   "id": "61ba91cddaa549f8"
  },
  {
   "metadata": {
    "ExecuteTime": {
     "end_time": "2025-05-01T20:33:30.688254Z",
     "start_time": "2025-05-01T20:33:26.308844Z"
    }
   },
   "cell_type": "code",
   "source": [
    "def postprocess_class1_sequences(unlabeled_x, unlabeled_y, unlabeled_meta, time_gap_threshold_us=5_000_000):\n",
    "    \"\"\"\n",
    "    Postprocess predicted class 1 (communication) sequences by checking temporal continuity.\n",
    "\n",
    "    This function groups signals by location and ensures that only sequences of class 1 instances\n",
    "    with short temporal gaps are kept as class 1. Isolated class 1 instances are relabeled as class 2 (noise).\n",
    "\n",
    "    Args:\n",
    "        unlabeled_x (np.ndarray): Unlabeled feature array (samples x features).\n",
    "        unlabeled_y (np.ndarray): Predicted class labels (0, 1, or 2) for the samples.\n",
    "        unlabeled_meta (np.ndarray): Metadata for each sample, expected to include\n",
    "                                     (Location, Minute, Microseconds).\n",
    "        time_gap_threshold_us (int): Maximum time gap (in microseconds) allowed between\n",
    "                                     consecutive class 1 samples to consider them part of a sequence.\n",
    "\n",
    "    Returns:\n",
    "        np.ndarray: Updated labels where short/isolated class 1 samples are reassigned to class 2.\n",
    "    \"\"\"\n",
    "    # List of feature column names and the index of the 'TrDur_us' (duration) column\n",
    "    feature_column_names = [\n",
    "        'ClksThisMin', 'medianKHz', 'avSPL', 'avPkAt',\n",
    "        'AvPRF', 'avEndF', 'tWUTrisk', 'nActualClx', 'nRisingIPIs',\n",
    "        'TrDur_us', 'nICIrising', 'MinICI_us', 'midpointICI', 'MaxICI_us',\n",
    "        'ClkNofMinICI', 'ClkNofMaxICI', 'NofClstrs', 'avClstrNx8', 'avPkIPI',\n",
    "        'BeforeIPIratio', 'PreIPIratio', 'Post1IPIratio', 'Post2IPIratio', 'EndIPIratio'\n",
    "    ]\n",
    "    trdur_idx = feature_column_names.index('TrDur_us')\n",
    "\n",
    "    # Group samples by location, mapping each to a list of (start_time, end_time, index)\n",
    "    data_by_location = defaultdict(list)\n",
    "    for idx, meta in enumerate(unlabeled_meta):\n",
    "        location, minute_str, micro_str = meta\n",
    "        start_us = np.int64(int(minute_str)) * 60 * 1_000_000 + np.int64(int(micro_str))\n",
    "        duration_us = np.int64(unlabeled_x[idx, trdur_idx])\n",
    "        end_us = start_us + duration_us\n",
    "        data_by_location[location].append((start_us, end_us, idx))\n",
    "\n",
    "    # Sort each location's entries by time\n",
    "    for loc in data_by_location:\n",
    "        data_by_location[loc].sort()\n",
    "\n",
    "    # Copy labels to modify safely\n",
    "    new_labels = unlabeled_y.copy()\n",
    "\n",
    "    # Process each location independently\n",
    "    for loc, entries in data_by_location.items():\n",
    "        # Get only the entries currently labeled as class 1\n",
    "        class1_entries = [(s, e, i) for (s, e, i) in entries if unlabeled_y[i] == 1]\n",
    "        class1_entries.sort()\n",
    "\n",
    "        current_sequence = []\n",
    "        for j in range(len(class1_entries)):\n",
    "            s, e, idx = class1_entries[j]\n",
    "            if not current_sequence:\n",
    "                current_sequence.append((s, e, idx))\n",
    "            else:\n",
    "                prev_s, prev_e, _ = current_sequence[-1]\n",
    "                # If current start is close enough to previous end, extend the sequence\n",
    "                if s - prev_e <= time_gap_threshold_us:\n",
    "                    current_sequence.append((s, e, idx))\n",
    "                else:\n",
    "                    # End the current sequence and relabel accordingly\n",
    "                    if len(current_sequence) >= 2:\n",
    "                        for _, _, seq_idx in current_sequence:\n",
    "                            new_labels[seq_idx] = 1  # Keep as class 1\n",
    "                    else:\n",
    "                        for _, _, seq_idx in current_sequence:\n",
    "                            new_labels[seq_idx] = 2  # Reassign to noise\n",
    "                    current_sequence = [(s, e, idx)]\n",
    "\n",
    "        # Process any remaining sequence at the end\n",
    "        if current_sequence:\n",
    "            if len(current_sequence) >= 2:\n",
    "                for _, _, seq_idx in current_sequence:\n",
    "                    new_labels[seq_idx] = 1\n",
    "            else:\n",
    "                for _, _, seq_idx in current_sequence:\n",
    "                    new_labels[seq_idx] = 2\n",
    "\n",
    "    return new_labels\n",
    "\n",
    "# Example usage\n",
    "new_labels = postprocess_class1_sequences(\n",
    "    filtered_unlabeled,         # feature array\n",
    "    final_unlabeled_preds,      # predicted labels (from model)\n",
    "    filtered_meta               # corresponding metadata\n",
    ")\n"
   ],
   "id": "a9027203723c590d",
   "outputs": [],
   "execution_count": 12
  },
  {
   "metadata": {
    "ExecuteTime": {
     "end_time": "2025-05-01T20:33:10.594347Z",
     "start_time": "2025-05-01T20:33:10.488757Z"
    }
   },
   "cell_type": "code",
   "source": [
    "distribution = Counter(new_labels)\n",
    "total = len(new_labels)\n",
    "print(\"\\nFinal Unlabeled Predictions Distribution:\")\n",
    "for label, count in distribution.items():\n",
    "    pct = (count / total) * 100\n",
    "    print(f\"Class {label}: {count} ({pct:.2f}%)\")"
   ],
   "id": "ab959c1430c45980",
   "outputs": [
    {
     "name": "stdout",
     "output_type": "stream",
     "text": [
      "\n",
      "Final Unlabeled Predictions Distribution:\n",
      "Class 2: 384701 (36.58%)\n",
      "Class 1: 651772 (61.98%)\n",
      "Class 0: 15086 (1.43%)\n"
     ]
    }
   ],
   "execution_count": 11
  }
 ],
 "metadata": {
  "kernelspec": {
   "display_name": "Python (Torch + CUDA)",
   "language": "python",
   "name": "mytorchenv"
  },
  "language_info": {
   "codemirror_mode": {
    "name": "ipython",
    "version": 2
   },
   "file_extension": ".py",
   "mimetype": "text/x-python",
   "name": "python",
   "nbconvert_exporter": "python",
   "pygments_lexer": "ipython2",
   "version": "2.7.6"
  }
 },
 "nbformat": 4,
 "nbformat_minor": 5
}
