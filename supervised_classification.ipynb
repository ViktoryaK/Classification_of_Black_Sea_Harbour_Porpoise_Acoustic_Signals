{
 "cells": [
  {
   "metadata": {},
   "cell_type": "markdown",
   "source": "## Requirements",
   "id": "56ad65a3c392a04d"
  },
  {
   "metadata": {
    "ExecuteTime": {
     "end_time": "2025-05-01T19:09:27.727455Z",
     "start_time": "2025-05-01T19:09:24.656143Z"
    }
   },
   "cell_type": "code",
   "source": "!pip install -r requirements.txt",
   "id": "997c698f98ea052f",
   "outputs": [
    {
     "name": "stdout",
     "output_type": "stream",
     "text": [
      "Requirement already satisfied: numpy~=1.26.4 in c:\\users\\admin\\appdata\\local\\programs\\python\\python312\\lib\\site-packages (from -r requirements.txt (line 1)) (1.26.4)\n",
      "Requirement already satisfied: scikit-learn~=1.6.1 in c:\\users\\admin\\appdata\\local\\programs\\python\\python312\\lib\\site-packages (from -r requirements.txt (line 2)) (1.6.1)\n",
      "Requirement already satisfied: torch~=2.7.0 in c:\\users\\admin\\appdata\\local\\programs\\python\\python312\\lib\\site-packages (from -r requirements.txt (line 3)) (2.7.0)\n",
      "Requirement already satisfied: matplotlib~=3.9.2 in c:\\users\\admin\\appdata\\local\\programs\\python\\python312\\lib\\site-packages (from -r requirements.txt (line 4)) (3.9.2)\n",
      "Requirement already satisfied: tqdm~=4.67.1 in c:\\users\\admin\\appdata\\local\\programs\\python\\python312\\lib\\site-packages (from -r requirements.txt (line 5)) (4.67.1)\n",
      "Requirement already satisfied: joblib in c:\\users\\admin\\appdata\\local\\programs\\python\\python312\\lib\\site-packages (from -r requirements.txt (line 6)) (1.4.2)\n",
      "Requirement already satisfied: xgboost~=3.0.0 in c:\\users\\admin\\appdata\\local\\programs\\python\\python312\\lib\\site-packages (from -r requirements.txt (line 7)) (3.0.0)\n",
      "Requirement already satisfied: gdown~=5.2.0 in c:\\users\\admin\\appdata\\local\\programs\\python\\python312\\lib\\site-packages (from -r requirements.txt (line 8)) (5.2.0)\n",
      "Requirement already satisfied: imbalanced-learn~=0.13.0 in c:\\users\\admin\\appdata\\local\\programs\\python\\python312\\lib\\site-packages (from -r requirements.txt (line 9)) (0.13.0)\n",
      "Requirement already satisfied: pandas~=2.2.3 in c:\\users\\admin\\appdata\\local\\programs\\python\\python312\\lib\\site-packages (from -r requirements.txt (line 10)) (2.2.3)\n",
      "Requirement already satisfied: umap-learn~=0.5.7 in c:\\users\\admin\\appdata\\local\\programs\\python\\python312\\lib\\site-packages (from -r requirements.txt (line 11)) (0.5.7)\n",
      "Requirement already satisfied: fastdtw~=0.3.4 in c:\\users\\admin\\appdata\\local\\programs\\python\\python312\\lib\\site-packages (from -r requirements.txt (line 12)) (0.3.4)\n",
      "Requirement already satisfied: scipy~=1.15.1 in c:\\users\\admin\\appdata\\local\\programs\\python\\python312\\lib\\site-packages (from -r requirements.txt (line 13)) (1.15.1)\n",
      "Requirement already satisfied: shap~=0.47.2 in c:\\users\\admin\\appdata\\local\\programs\\python\\python312\\lib\\site-packages (from -r requirements.txt (line 14)) (0.47.2)\n",
      "Requirement already satisfied: threadpoolctl>=3.1.0 in c:\\users\\admin\\appdata\\local\\programs\\python\\python312\\lib\\site-packages (from scikit-learn~=1.6.1->-r requirements.txt (line 2)) (3.5.0)\n",
      "Requirement already satisfied: filelock in c:\\users\\admin\\appdata\\local\\programs\\python\\python312\\lib\\site-packages (from torch~=2.7.0->-r requirements.txt (line 3)) (3.17.0)\n",
      "Requirement already satisfied: typing-extensions>=4.10.0 in c:\\users\\admin\\appdata\\local\\programs\\python\\python312\\lib\\site-packages (from torch~=2.7.0->-r requirements.txt (line 3)) (4.12.2)\n",
      "Requirement already satisfied: sympy>=1.13.3 in c:\\users\\admin\\appdata\\local\\programs\\python\\python312\\lib\\site-packages (from torch~=2.7.0->-r requirements.txt (line 3)) (1.14.0)\n",
      "Requirement already satisfied: networkx in c:\\users\\admin\\appdata\\local\\programs\\python\\python312\\lib\\site-packages (from torch~=2.7.0->-r requirements.txt (line 3)) (3.4.2)\n",
      "Requirement already satisfied: jinja2 in c:\\users\\admin\\appdata\\local\\programs\\python\\python312\\lib\\site-packages (from torch~=2.7.0->-r requirements.txt (line 3)) (3.1.4)\n",
      "Requirement already satisfied: fsspec in c:\\users\\admin\\appdata\\local\\programs\\python\\python312\\lib\\site-packages (from torch~=2.7.0->-r requirements.txt (line 3)) (2024.12.0)\n",
      "Requirement already satisfied: setuptools in c:\\users\\admin\\appdata\\local\\programs\\python\\python312\\lib\\site-packages (from torch~=2.7.0->-r requirements.txt (line 3)) (75.5.0)\n",
      "Requirement already satisfied: contourpy>=1.0.1 in c:\\users\\admin\\appdata\\local\\programs\\python\\python312\\lib\\site-packages (from matplotlib~=3.9.2->-r requirements.txt (line 4)) (1.3.1)\n",
      "Requirement already satisfied: cycler>=0.10 in c:\\users\\admin\\appdata\\local\\programs\\python\\python312\\lib\\site-packages (from matplotlib~=3.9.2->-r requirements.txt (line 4)) (0.12.1)\n",
      "Requirement already satisfied: fonttools>=4.22.0 in c:\\users\\admin\\appdata\\local\\programs\\python\\python312\\lib\\site-packages (from matplotlib~=3.9.2->-r requirements.txt (line 4)) (4.55.0)\n",
      "Requirement already satisfied: kiwisolver>=1.3.1 in c:\\users\\admin\\appdata\\local\\programs\\python\\python312\\lib\\site-packages (from matplotlib~=3.9.2->-r requirements.txt (line 4)) (1.4.7)\n",
      "Requirement already satisfied: packaging>=20.0 in c:\\users\\admin\\appdata\\local\\programs\\python\\python312\\lib\\site-packages (from matplotlib~=3.9.2->-r requirements.txt (line 4)) (24.2)\n",
      "Requirement already satisfied: pillow>=8 in c:\\users\\admin\\appdata\\local\\programs\\python\\python312\\lib\\site-packages (from matplotlib~=3.9.2->-r requirements.txt (line 4)) (11.0.0)\n",
      "Requirement already satisfied: pyparsing>=2.3.1 in c:\\users\\admin\\appdata\\local\\programs\\python\\python312\\lib\\site-packages (from matplotlib~=3.9.2->-r requirements.txt (line 4)) (3.2.0)\n",
      "Requirement already satisfied: python-dateutil>=2.7 in c:\\users\\admin\\appdata\\local\\programs\\python\\python312\\lib\\site-packages (from matplotlib~=3.9.2->-r requirements.txt (line 4)) (2.9.0.post0)\n",
      "Requirement already satisfied: colorama in c:\\users\\admin\\appdata\\local\\programs\\python\\python312\\lib\\site-packages (from tqdm~=4.67.1->-r requirements.txt (line 5)) (0.4.6)\n",
      "Requirement already satisfied: beautifulsoup4 in c:\\users\\admin\\appdata\\local\\programs\\python\\python312\\lib\\site-packages (from gdown~=5.2.0->-r requirements.txt (line 8)) (4.12.3)\n",
      "Requirement already satisfied: requests[socks] in c:\\users\\admin\\appdata\\local\\programs\\python\\python312\\lib\\site-packages (from gdown~=5.2.0->-r requirements.txt (line 8)) (2.32.3)\n",
      "Requirement already satisfied: sklearn-compat<1,>=0.1 in c:\\users\\admin\\appdata\\local\\programs\\python\\python312\\lib\\site-packages (from imbalanced-learn~=0.13.0->-r requirements.txt (line 9)) (0.1.3)\n",
      "Requirement already satisfied: pytz>=2020.1 in c:\\users\\admin\\appdata\\local\\programs\\python\\python312\\lib\\site-packages (from pandas~=2.2.3->-r requirements.txt (line 10)) (2024.2)\n",
      "Requirement already satisfied: tzdata>=2022.7 in c:\\users\\admin\\appdata\\local\\programs\\python\\python312\\lib\\site-packages (from pandas~=2.2.3->-r requirements.txt (line 10)) (2024.2)\n",
      "Requirement already satisfied: numba>=0.51.2 in c:\\users\\admin\\appdata\\local\\programs\\python\\python312\\lib\\site-packages (from umap-learn~=0.5.7->-r requirements.txt (line 11)) (0.61.0)\n",
      "Requirement already satisfied: pynndescent>=0.5 in c:\\users\\admin\\appdata\\local\\programs\\python\\python312\\lib\\site-packages (from umap-learn~=0.5.7->-r requirements.txt (line 11)) (0.5.13)\n",
      "Requirement already satisfied: slicer==0.0.8 in c:\\users\\admin\\appdata\\local\\programs\\python\\python312\\lib\\site-packages (from shap~=0.47.2->-r requirements.txt (line 14)) (0.0.8)\n",
      "Requirement already satisfied: cloudpickle in c:\\users\\admin\\appdata\\local\\programs\\python\\python312\\lib\\site-packages (from shap~=0.47.2->-r requirements.txt (line 14)) (3.1.1)\n",
      "Requirement already satisfied: llvmlite<0.45,>=0.44.0dev0 in c:\\users\\admin\\appdata\\local\\programs\\python\\python312\\lib\\site-packages (from numba>=0.51.2->umap-learn~=0.5.7->-r requirements.txt (line 11)) (0.44.0)\n",
      "Requirement already satisfied: six>=1.5 in c:\\users\\admin\\appdata\\local\\programs\\python\\python312\\lib\\site-packages (from python-dateutil>=2.7->matplotlib~=3.9.2->-r requirements.txt (line 4)) (1.16.0)\n",
      "Requirement already satisfied: mpmath<1.4,>=1.1.0 in c:\\users\\admin\\appdata\\local\\programs\\python\\python312\\lib\\site-packages (from sympy>=1.13.3->torch~=2.7.0->-r requirements.txt (line 3)) (1.3.0)\n",
      "Requirement already satisfied: soupsieve>1.2 in c:\\users\\admin\\appdata\\local\\programs\\python\\python312\\lib\\site-packages (from beautifulsoup4->gdown~=5.2.0->-r requirements.txt (line 8)) (2.6)\n",
      "Requirement already satisfied: MarkupSafe>=2.0 in c:\\users\\admin\\appdata\\local\\programs\\python\\python312\\lib\\site-packages (from jinja2->torch~=2.7.0->-r requirements.txt (line 3)) (3.0.2)\n",
      "Requirement already satisfied: charset-normalizer<4,>=2 in c:\\users\\admin\\appdata\\local\\programs\\python\\python312\\lib\\site-packages (from requests[socks]->gdown~=5.2.0->-r requirements.txt (line 8)) (3.4.0)\n",
      "Requirement already satisfied: idna<4,>=2.5 in c:\\users\\admin\\appdata\\local\\programs\\python\\python312\\lib\\site-packages (from requests[socks]->gdown~=5.2.0->-r requirements.txt (line 8)) (3.10)\n",
      "Requirement already satisfied: urllib3<3,>=1.21.1 in c:\\users\\admin\\appdata\\local\\programs\\python\\python312\\lib\\site-packages (from requests[socks]->gdown~=5.2.0->-r requirements.txt (line 8)) (2.2.3)\n",
      "Requirement already satisfied: certifi>=2017.4.17 in c:\\users\\admin\\appdata\\local\\programs\\python\\python312\\lib\\site-packages (from requests[socks]->gdown~=5.2.0->-r requirements.txt (line 8)) (2024.8.30)\n",
      "Requirement already satisfied: PySocks!=1.5.7,>=1.5.6 in c:\\users\\admin\\appdata\\local\\programs\\python\\python312\\lib\\site-packages (from requests[socks]->gdown~=5.2.0->-r requirements.txt (line 8)) (1.7.1)\n"
     ]
    },
    {
     "name": "stderr",
     "output_type": "stream",
     "text": [
      "\n",
      "[notice] A new release of pip is available: 24.0 -> 25.1\n",
      "[notice] To update, run: C:\\Users\\Admin\\AppData\\Local\\Programs\\Python\\Python312\\python.exe -m pip install --upgrade pip\n"
     ]
    }
   ],
   "execution_count": 1
  },
  {
   "metadata": {},
   "cell_type": "markdown",
   "source": "## Imports",
   "id": "ef41e34419390471"
  },
  {
   "cell_type": "code",
   "id": "initial_id",
   "metadata": {
    "collapsed": true,
    "ExecuteTime": {
     "end_time": "2025-05-01T19:09:31.725474Z",
     "start_time": "2025-05-01T19:09:27.922430Z"
    }
   },
   "source": [
    "from collections import Counter\n",
    "\n",
    "import joblib\n",
    "import numpy as np\n",
    "import torch\n",
    "from sklearn.metrics import f1_score, accuracy_score, classification_report, confusion_matrix\n",
    "from sklearn.model_selection import train_test_split\n",
    "from torch import nn\n",
    "from tqdm import tqdm\n",
    "\n",
    "from models import rf_model, xgb_model, MLPClassifier, AutoencoderClassifier"
   ],
   "outputs": [],
   "execution_count": 2
  },
  {
   "metadata": {
    "ExecuteTime": {
     "end_time": "2025-05-01T19:09:37.783121Z",
     "start_time": "2025-05-01T19:09:31.875432Z"
    }
   },
   "cell_type": "code",
   "source": [
    "from datasets import TestDataset, AcousticDataset\n",
    "from utility_functions import find_knn_per_class, apply_smote, normalize_and_shuffle, balance_test_set, \\\n",
    "    prepare_dataloaders, print_class_distribution, plot_roc_curves, plot_training_curves"
   ],
   "id": "15f9631d296f95df",
   "outputs": [],
   "execution_count": 3
  },
  {
   "metadata": {},
   "cell_type": "markdown",
   "source": "## Data loading and preprocessing",
   "id": "f5c916a4e40743e7"
  },
  {
   "metadata": {
    "ExecuteTime": {
     "end_time": "2025-05-01T19:13:06.918801Z",
     "start_time": "2025-05-01T19:09:37.793971Z"
    }
   },
   "cell_type": "code",
   "source": [
    "dataset = TestDataset(\"data_files/new click trains (Bulgaria)\")\n",
    "test_x, test_y, test_meta = dataset.get_labeled()\n",
    "\n",
    "print(f\"Test samples: {len(test_x)}\")\n",
    "\n",
    "train_dataset = AcousticDataset(\n",
    "    \"data_files/Train_details/B Balchik 2020 11 14 FPOD_6288 file0 PART 79d 23h 19m train details\",\n",
    "    \"data_files/datasets/CLICK TRAINS.xlsx\")\n",
    "\n",
    "labeled_x, labeled_y, labeled_meta = train_dataset.get_labeled()\n",
    "unlabeled_x, unlabeled_meta = train_dataset.get_unlabeled()"
   ],
   "id": "59be4c9de0134eff",
   "outputs": [
    {
     "name": "stdout",
     "output_type": "stream",
     "text": [
      "Test samples: 64\n"
     ]
    }
   ],
   "execution_count": 4
  },
  {
   "metadata": {},
   "cell_type": "markdown",
   "source": "## Upsampling",
   "id": "653a10e3679648cf"
  },
  {
   "metadata": {
    "ExecuteTime": {
     "end_time": "2025-05-01T19:16:41.117944Z",
     "start_time": "2025-05-01T19:13:07.083501Z"
    }
   },
   "cell_type": "code",
   "source": [
    "# ===================================\n",
    "# Step 1: Upsample Each Class via KNN\n",
    "# ===================================\n",
    "\n",
    "n_to_add_per_class = 3000  # Target number of samples per class after upsampling\n",
    "\n",
    "all_new_x = []  # To store pseudo-labeled features for each class\n",
    "all_new_y = []  # To store pseudo-labels for each class\n",
    "\n",
    "# Iterate over each unique class in the labeled dataset\n",
    "for cls in np.unique(labeled_y):\n",
    "    # Calculate how many new samples are needed for this class\n",
    "    current_class_count = np.sum(labeled_y == cls)\n",
    "    n_to_add = n_to_add_per_class - current_class_count\n",
    "\n",
    "    # Skip if no samples need to be added\n",
    "    if n_to_add <= 0:\n",
    "        print(f\"Class {cls}: no samples to add (already has {current_class_count}).\")\n",
    "        continue\n",
    "\n",
    "    # Apply KNN to find similar samples from the unlabeled pool\n",
    "    results, new_x, new_y, unlabeled_x, unlabeled_meta = find_knn_per_class(\n",
    "        labeled_x, labeled_y,\n",
    "        unlabeled_x, unlabeled_meta,\n",
    "        target_class=cls,\n",
    "        n_to_add=n_to_add,\n",
    "        distance_threshold=2000  # Distance threshold for selecting neighbors\n",
    "    )\n",
    "\n",
    "    print(f\"Class {cls}: added {len(new_y)} new samples.\")\n",
    "\n",
    "    all_new_x.append(new_x)\n",
    "    all_new_y.append(new_y)\n",
    "\n",
    "# Stack pseudo-labeled samples\n",
    "pseudo_x = np.vstack(all_new_x)\n",
    "pseudo_y = np.concatenate(all_new_y)\n",
    "\n",
    "print(\"Final upsampled pseudo-labeled set size:\", pseudo_x.shape)\n",
    "print(\"Remaining unlabeled sample count:\", unlabeled_x.shape)\n",
    "\n",
    "# ===================================\n",
    "# Step 2: Combine Labeled and Pseudo-Labeled Data\n",
    "# ===================================\n",
    "\n",
    "X_combined = np.concatenate([labeled_x, pseudo_x])\n",
    "y_combined = np.concatenate([labeled_y, pseudo_y])\n",
    "\n",
    "print(\"Class distribution before SMOTE:\", Counter(y_combined))\n",
    "\n",
    "# ===================================\n",
    "# Step 3: Apply SMOTE for Final Balancing\n",
    "# ===================================\n",
    "\n",
    "X_resampled, y_resampled = apply_smote(X_combined, y_combined)\n",
    "\n",
    "print(\"Class distribution after SMOTE:\", Counter(y_resampled))\n"
   ],
   "id": "b268b62791ebc3b8",
   "outputs": [
    {
     "name": "stdout",
     "output_type": "stream",
     "text": [
      "Class 0: added 2471 new samples.\n",
      "Class 1: added 2672 new samples.\n",
      "Final upsampled pseudo-labeled set size: (5143, 24)\n",
      "Remaining unlabeled sample count: (13139340, 24)\n",
      "Class distribution before SMOTE: Counter({np.int64(1): 3000, np.int64(0): 2644})\n",
      "Original class distribution: Counter({np.int64(1): 3000, np.int64(0): 2644})\n",
      "Resampled class distribution: Counter({np.int64(0): 3000, np.int64(1): 3000})\n",
      "Class distribution after SMOTE: Counter({np.int64(0): 3000, np.int64(1): 3000})\n"
     ]
    }
   ],
   "execution_count": 5
  },
  {
   "metadata": {},
   "cell_type": "markdown",
   "source": "## Data preprocessing",
   "id": "d5ecbc63d1029cb7"
  },
  {
   "metadata": {
    "ExecuteTime": {
     "end_time": "2025-05-01T19:16:41.223186Z",
     "start_time": "2025-05-01T19:16:41.205494Z"
    }
   },
   "cell_type": "code",
   "source": [
    "# Normalize and shuffle\n",
    "X_all, y_all, scaler = normalize_and_shuffle(X_resampled, y_resampled)\n",
    "test_x = scaler.transform(test_x)\n",
    "joblib.dump(scaler, \"./save/scaler.pkl\")\n",
    "# Split\n",
    "train_x, val_x, train_y, val_y = train_test_split(X_all, y_all, test_size=0.3, random_state=42)\n",
    "\n",
    "# Balance test set\n",
    "test_x, test_y, test_meta = balance_test_set(test_x, test_y, test_meta)\n",
    "# Print distributions\n",
    "print_class_distribution(\"Train\", train_y)\n",
    "print_class_distribution(\"Validation\", val_y)\n",
    "print_class_distribution(\"Test\", test_y)"
   ],
   "id": "b8e37d9333f14859",
   "outputs": [
    {
     "name": "stdout",
     "output_type": "stream",
     "text": [
      "\n",
      "Train Distribution:\n",
      "  Class 0: 2117 (50.40%)\n",
      "  Class 1: 2083 (49.60%)\n",
      "\n",
      "Validation Distribution:\n",
      "  Class 1: 917 (50.94%)\n",
      "  Class 0: 883 (49.06%)\n",
      "\n",
      "Test Distribution:\n",
      "  Class 1: 22 (50.00%)\n",
      "  Class 0: 22 (50.00%)\n"
     ]
    }
   ],
   "execution_count": 6
  },
  {
   "metadata": {},
   "cell_type": "markdown",
   "source": [
    "# Models training\n",
    "\n",
    "## Random Forest"
   ],
   "id": "717ce66b8db1b6c"
  },
  {
   "metadata": {
    "ExecuteTime": {
     "end_time": "2025-05-01T19:16:42.232407Z",
     "start_time": "2025-05-01T19:16:41.277297Z"
    }
   },
   "cell_type": "code",
   "source": [
    "rf_model.fit(train_x, train_y)\n",
    "\n",
    "probs = rf_model.predict_proba(test_x)\n",
    "preds = rf_model.predict(test_x)\n",
    "\n",
    "print(\"Evaluation:\")\n",
    "print(f\"Accuracy: {accuracy_score(test_y, preds):.4f}\")\n",
    "print(f\"F1 Score (macro): {f1_score(test_y, preds, average='macro'):.4f}\")\n",
    "print(f\"F1 Score (weighted): {f1_score(test_y, preds, average='weighted'):.4f}\")\n",
    "print(\"\\nPer-Class Classification Report:\")\n",
    "print(classification_report(test_y, preds, digits=4))\n",
    "\n",
    "print(\"Confusion Matrix:\")\n",
    "print(confusion_matrix(test_y, preds))\n",
    "plot_roc_curves(test_y, probs)"
   ],
   "id": "7aca99c073ad52eb",
   "outputs": [
    {
     "name": "stdout",
     "output_type": "stream",
     "text": [
      "Evaluation:\n",
      "Accuracy: 0.8864\n",
      "F1 Score (macro): 0.8863\n",
      "F1 Score (weighted): 0.8863\n",
      "\n",
      "Per-Class Classification Report:\n",
      "              precision    recall  f1-score   support\n",
      "\n",
      "           0     0.8696    0.9091    0.8889        22\n",
      "           1     0.9048    0.8636    0.8837        22\n",
      "\n",
      "    accuracy                         0.8864        44\n",
      "   macro avg     0.8872    0.8864    0.8863        44\n",
      "weighted avg     0.8872    0.8864    0.8863        44\n",
      "\n",
      "Confusion Matrix:\n",
      "[[20  2]\n",
      " [ 3 19]]\n"
     ]
    },
    {
     "data": {
      "text/plain": [
       "<Figure size 800x600 with 1 Axes>"
      ],
      "image/png": "[encoded data removed]"
     },
     "metadata": {},
     "output_type": "display_data"
    }
   ],
   "execution_count": 7
  },
  {
   "metadata": {},
   "cell_type": "markdown",
   "source": "## XGBoost",
   "id": "e340bf2f94fa440b"
  },
  {
   "metadata": {
    "ExecuteTime": {
     "end_time": "2025-05-01T19:16:45.803933Z",
     "start_time": "2025-05-01T19:16:43.528751Z"
    }
   },
   "cell_type": "code",
   "source": [
    "xgb_model.fit(train_x, train_y)\n",
    "\n",
    "probs = xgb_model.predict_proba(test_x)\n",
    "preds = xgb_model.predict(test_x)\n",
    "\n",
    "print(\"Evaluation:\")\n",
    "print(f\"Accuracy: {accuracy_score(test_y, preds):.4f}\")\n",
    "print(f\"F1 Score (macro): {f1_score(test_y, preds, average='macro'):.4f}\")\n",
    "print(f\"F1 Score (weighted): {f1_score(test_y, preds, average='weighted'):.4f}\")\n",
    "print(\"\\nPer-Class Classification Report:\")\n",
    "print(classification_report(test_y, preds, digits=4))\n",
    "\n",
    "print(\"Confusion Matrix:\")\n",
    "print(confusion_matrix(test_y, preds))\n",
    "plot_roc_curves(test_y, probs)"
   ],
   "id": "a75c6d6a09e6919c",
   "outputs": [
    {
     "name": "stdout",
     "output_type": "stream",
     "text": [
      "Evaluation:\n",
      "Accuracy: 0.8864\n",
      "F1 Score (macro): 0.8863\n",
      "F1 Score (weighted): 0.8863\n",
      "\n",
      "Per-Class Classification Report:\n",
      "              precision    recall  f1-score   support\n",
      "\n",
      "           0     0.8696    0.9091    0.8889        22\n",
      "           1     0.9048    0.8636    0.8837        22\n",
      "\n",
      "    accuracy                         0.8864        44\n",
      "   macro avg     0.8872    0.8864    0.8863        44\n",
      "weighted avg     0.8872    0.8864    0.8863        44\n",
      "\n",
      "Confusion Matrix:\n",
      "[[20  2]\n",
      " [ 3 19]]\n"
     ]
    },
    {
     "data": {
      "text/plain": [
       "<Figure size 800x600 with 1 Axes>"
      ],
      "image/png": "[encoded data removed]"
     },
     "metadata": {},
     "output_type": "display_data"
    }
   ],
   "execution_count": 8
  },
  {
   "metadata": {},
   "cell_type": "markdown",
   "source": "## MLP",
   "id": "e61a2b9721c25fcf"
  },
  {
   "metadata": {
    "ExecuteTime": {
     "end_time": "2025-05-01T19:19:15.376427Z",
     "start_time": "2025-05-01T19:19:11.061123Z"
    }
   },
   "cell_type": "code",
   "source": [
    "def train_one_epoch(model, loader, criterion, optimizer, device):\n",
    "    \"\"\"\n",
    "    Run one training epoch.\n",
    "\n",
    "    Returns:\n",
    "        Tuple[float, float]: Average loss, accuracy.\n",
    "    \"\"\"\n",
    "    model.train()\n",
    "    total_loss, correct, total = 0, 0, 0\n",
    "\n",
    "    for xb, yb in tqdm(loader, desc=\"Training\", leave=False):\n",
    "        xb, yb = xb.to(device), yb.to(device)\n",
    "        logits = model(xb)\n",
    "        loss = criterion(logits, yb)\n",
    "\n",
    "        optimizer.zero_grad()\n",
    "        loss.backward()\n",
    "        optimizer.step()\n",
    "\n",
    "        total_loss += loss.item()\n",
    "        preds = logits.argmax(1)\n",
    "        correct += (preds == yb).sum().item()\n",
    "        total += yb.size(0)\n",
    "\n",
    "    return total_loss / len(loader), correct / total\n",
    "\n",
    "\n",
    "def evaluate(model, loader, criterion, device):\n",
    "    \"\"\"\n",
    "    Evaluate model on validation/test set.\n",
    "\n",
    "    Returns:\n",
    "        Tuple[float, float, float, List[int], List[int]]:\n",
    "        average loss, accuracy, macro F1, true labels, predicted labels.\n",
    "    \"\"\"\n",
    "    model.eval()\n",
    "    total_loss, correct, total = 0, 0, 0\n",
    "    all_preds, all_labels = [], []\n",
    "\n",
    "    with torch.no_grad():\n",
    "        for xb, yb in loader:\n",
    "            xb, yb = xb.to(device), yb.to(device)\n",
    "            logits = model(xb)\n",
    "            loss = criterion(logits, yb)\n",
    "            total_loss += loss.item()\n",
    "\n",
    "            preds = logits.argmax(1)\n",
    "            all_preds.extend(preds.cpu().numpy())\n",
    "            all_labels.extend(yb.cpu().numpy())\n",
    "            correct += (preds == yb).sum().item()\n",
    "            total += yb.size(0)\n",
    "\n",
    "    f1 = f1_score(all_labels, all_preds, average='macro')\n",
    "    return total_loss / len(loader), correct / total, f1, all_labels, all_preds\n",
    "\n",
    "\n",
    "def run_training_pipeline_mlp(train_x, train_y, val_x, val_y, test_x, test_y):\n",
    "    \"\"\"\n",
    "    Full training and evaluation pipeline for MLP classification.\n",
    "    \"\"\"\n",
    "    device = torch.device(\"cuda\" if torch.cuda.is_available() else \"cpu\")\n",
    "    train_loader, val_loader, test_loader = prepare_dataloaders(train_x, train_y, val_x, val_y, test_x, test_y)\n",
    "\n",
    "    model = MLPClassifier(input_dim=train_x.shape[1], hidden_dims=[64]).to(device)\n",
    "    criterion = nn.CrossEntropyLoss()\n",
    "    optimizer = torch.optim.Adam(model.parameters(), lr=1e-3)\n",
    "    scheduler = torch.optim.lr_scheduler.ReduceLROnPlateau(optimizer, mode='min', factor=0.5, patience=2)\n",
    "\n",
    "    train_losses, val_losses = [], []\n",
    "    train_accs, val_accs, val_f1s = [], [], []\n",
    "    best_val_f1 = 0\n",
    "\n",
    "    for epoch in range(20):\n",
    "        train_loss, train_acc = train_one_epoch(model, train_loader, criterion, optimizer, device)\n",
    "        val_loss, val_acc, val_f1, _, _ = evaluate(model, val_loader, criterion, device)\n",
    "        scheduler.step(val_loss)\n",
    "\n",
    "        train_losses.append(train_loss)\n",
    "        val_losses.append(val_loss)\n",
    "        train_accs.append(train_acc)\n",
    "        val_accs.append(val_acc)\n",
    "        val_f1s.append(val_f1)\n",
    "\n",
    "        print(f\"\\nEpoch {epoch + 1} Summary:\")\n",
    "        print(f\"Train Loss: {train_loss:.4f}, Train Acc: {train_acc:.4f}\")\n",
    "        print(f\"Val Loss: {val_loss:.4f}, Val Acc: {val_acc:.4f}, Val F1: {val_f1:.4f}\")\n",
    "\n",
    "        if val_f1 > best_val_f1:\n",
    "            best_val_f1 = val_f1\n",
    "            torch.save(model.state_dict(), \"./save/best_mlp_model.pt\")\n",
    "\n",
    "    plot_training_curves(train_losses, val_losses, train_accs, val_accs)\n",
    "\n",
    "    # Final evaluation\n",
    "    model.load_state_dict(torch.load(\"./save/best_mlp_model.pt\"))\n",
    "    _, test_acc, test_f1, test_labels, test_preds = evaluate(model, test_loader, criterion, device)\n",
    "\n",
    "    print(\"\\nFinal Test Evaluation (MLP):\")\n",
    "    print(f\"Accuracy: {test_acc:.4f}\")\n",
    "    print(f\"F1 Score (macro): {test_f1:.4f}\")\n",
    "    print(f\"F1 Score (weighted): {f1_score(test_labels, test_preds, average='weighted'):.4f}\")\n",
    "    print(\"\\nClassification Report:\")\n",
    "    print(classification_report(test_labels, test_preds, digits=4))\n",
    "    print(\"Confusion Matrix:\")\n",
    "    print(confusion_matrix(test_labels, test_preds))\n",
    "\n",
    "\n",
    "run_training_pipeline_mlp(train_x, train_y, val_x, val_y, test_x, test_y)"
   ],
   "id": "c14a28299d287b7a",
   "outputs": [
    {
     "name": "stderr",
     "output_type": "stream",
     "text": [
      "                                                          \r"
     ]
    },
    {
     "name": "stdout",
     "output_type": "stream",
     "text": [
      "\n",
      "Epoch 1 Summary:\n",
      "Train Loss: 0.4466, Train Acc: 0.8014\n",
      "Val Loss: 0.2971, Val Acc: 0.8900, Val F1: 0.8898\n"
     ]
    },
    {
     "name": "stderr",
     "output_type": "stream",
     "text": [
      "                                                          \r"
     ]
    },
    {
     "name": "stdout",
     "output_type": "stream",
     "text": [
      "\n",
      "Epoch 2 Summary:\n",
      "Train Loss: 0.2522, Train Acc: 0.9145\n",
      "Val Loss: 0.2290, Val Acc: 0.9239, Val F1: 0.9237\n"
     ]
    },
    {
     "name": "stderr",
     "output_type": "stream",
     "text": [
      "                                                          \r"
     ]
    },
    {
     "name": "stdout",
     "output_type": "stream",
     "text": [
      "\n",
      "Epoch 3 Summary:\n",
      "Train Loss: 0.2107, Train Acc: 0.9295\n",
      "Val Loss: 0.1922, Val Acc: 0.9328, Val F1: 0.9326\n"
     ]
    },
    {
     "name": "stderr",
     "output_type": "stream",
     "text": [
      "                                                          \r"
     ]
    },
    {
     "name": "stdout",
     "output_type": "stream",
     "text": [
      "\n",
      "Epoch 4 Summary:\n",
      "Train Loss: 0.1855, Train Acc: 0.9395\n",
      "Val Loss: 0.1738, Val Acc: 0.9389, Val F1: 0.9388\n"
     ]
    },
    {
     "name": "stderr",
     "output_type": "stream",
     "text": [
      "                                                          \r"
     ]
    },
    {
     "name": "stdout",
     "output_type": "stream",
     "text": [
      "\n",
      "Epoch 5 Summary:\n",
      "Train Loss: 0.1709, Train Acc: 0.9414\n",
      "Val Loss: 0.1646, Val Acc: 0.9417, Val F1: 0.9415\n"
     ]
    },
    {
     "name": "stderr",
     "output_type": "stream",
     "text": [
      "                                                          \r"
     ]
    },
    {
     "name": "stdout",
     "output_type": "stream",
     "text": [
      "\n",
      "Epoch 6 Summary:\n",
      "Train Loss: 0.1690, Train Acc: 0.9424\n",
      "Val Loss: 0.1587, Val Acc: 0.9439, Val F1: 0.9438\n"
     ]
    },
    {
     "name": "stderr",
     "output_type": "stream",
     "text": [
      "                                                          \r"
     ]
    },
    {
     "name": "stdout",
     "output_type": "stream",
     "text": [
      "\n",
      "Epoch 7 Summary:\n",
      "Train Loss: 0.1615, Train Acc: 0.9445\n",
      "Val Loss: 0.1543, Val Acc: 0.9467, Val F1: 0.9466\n"
     ]
    },
    {
     "name": "stderr",
     "output_type": "stream",
     "text": [
      "                                                          \r"
     ]
    },
    {
     "name": "stdout",
     "output_type": "stream",
     "text": [
      "\n",
      "Epoch 8 Summary:\n",
      "Train Loss: 0.1525, Train Acc: 0.9476\n",
      "Val Loss: 0.1539, Val Acc: 0.9461, Val F1: 0.9460\n"
     ]
    },
    {
     "name": "stderr",
     "output_type": "stream",
     "text": [
      "                                                          \r"
     ]
    },
    {
     "name": "stdout",
     "output_type": "stream",
     "text": [
      "\n",
      "Epoch 9 Summary:\n",
      "Train Loss: 0.1539, Train Acc: 0.9469\n",
      "Val Loss: 0.1491, Val Acc: 0.9517, Val F1: 0.9516\n"
     ]
    },
    {
     "name": "stderr",
     "output_type": "stream",
     "text": [
      "                                                          \r"
     ]
    },
    {
     "name": "stdout",
     "output_type": "stream",
     "text": [
      "\n",
      "Epoch 10 Summary:\n",
      "Train Loss: 0.1532, Train Acc: 0.9498\n",
      "Val Loss: 0.1490, Val Acc: 0.9494, Val F1: 0.9494\n"
     ]
    },
    {
     "name": "stderr",
     "output_type": "stream",
     "text": [
      "                                                          \r"
     ]
    },
    {
     "name": "stdout",
     "output_type": "stream",
     "text": [
      "\n",
      "Epoch 11 Summary:\n",
      "Train Loss: 0.1462, Train Acc: 0.9443\n",
      "Val Loss: 0.1495, Val Acc: 0.9467, Val F1: 0.9466\n"
     ]
    },
    {
     "name": "stderr",
     "output_type": "stream",
     "text": [
      "                                                          \r"
     ]
    },
    {
     "name": "stdout",
     "output_type": "stream",
     "text": [
      "\n",
      "Epoch 12 Summary:\n",
      "Train Loss: 0.1458, Train Acc: 0.9517\n",
      "Val Loss: 0.1472, Val Acc: 0.9478, Val F1: 0.9477\n"
     ]
    },
    {
     "name": "stderr",
     "output_type": "stream",
     "text": [
      "                                                          \r"
     ]
    },
    {
     "name": "stdout",
     "output_type": "stream",
     "text": [
      "\n",
      "Epoch 13 Summary:\n",
      "Train Loss: 0.1446, Train Acc: 0.9486\n",
      "Val Loss: 0.1420, Val Acc: 0.9500, Val F1: 0.9500\n"
     ]
    },
    {
     "name": "stderr",
     "output_type": "stream",
     "text": [
      "                                                          \r"
     ]
    },
    {
     "name": "stdout",
     "output_type": "stream",
     "text": [
      "\n",
      "Epoch 14 Summary:\n",
      "Train Loss: 0.1397, Train Acc: 0.9505\n",
      "Val Loss: 0.1420, Val Acc: 0.9517, Val F1: 0.9516\n"
     ]
    },
    {
     "name": "stderr",
     "output_type": "stream",
     "text": [
      "                                                          \r"
     ]
    },
    {
     "name": "stdout",
     "output_type": "stream",
     "text": [
      "\n",
      "Epoch 15 Summary:\n",
      "Train Loss: 0.1444, Train Acc: 0.9498\n",
      "Val Loss: 0.1444, Val Acc: 0.9489, Val F1: 0.9488\n"
     ]
    },
    {
     "name": "stderr",
     "output_type": "stream",
     "text": [
      "                                                          \r"
     ]
    },
    {
     "name": "stdout",
     "output_type": "stream",
     "text": [
      "\n",
      "Epoch 16 Summary:\n",
      "Train Loss: 0.1368, Train Acc: 0.9521\n",
      "Val Loss: 0.1404, Val Acc: 0.9500, Val F1: 0.9500\n"
     ]
    },
    {
     "name": "stderr",
     "output_type": "stream",
     "text": [
      "                                                          \r"
     ]
    },
    {
     "name": "stdout",
     "output_type": "stream",
     "text": [
      "\n",
      "Epoch 17 Summary:\n",
      "Train Loss: 0.1351, Train Acc: 0.9512\n",
      "Val Loss: 0.1404, Val Acc: 0.9511, Val F1: 0.9511\n"
     ]
    },
    {
     "name": "stderr",
     "output_type": "stream",
     "text": [
      "                                                          \r"
     ]
    },
    {
     "name": "stdout",
     "output_type": "stream",
     "text": [
      "\n",
      "Epoch 18 Summary:\n",
      "Train Loss: 0.1362, Train Acc: 0.9507\n",
      "Val Loss: 0.1386, Val Acc: 0.9511, Val F1: 0.9511\n"
     ]
    },
    {
     "name": "stderr",
     "output_type": "stream",
     "text": [
      "                                                          \r"
     ]
    },
    {
     "name": "stdout",
     "output_type": "stream",
     "text": [
      "\n",
      "Epoch 19 Summary:\n",
      "Train Loss: 0.1312, Train Acc: 0.9521\n",
      "Val Loss: 0.1385, Val Acc: 0.9511, Val F1: 0.9511\n"
     ]
    },
    {
     "name": "stderr",
     "output_type": "stream",
     "text": [
      "                                                          \r"
     ]
    },
    {
     "name": "stdout",
     "output_type": "stream",
     "text": [
      "\n",
      "Epoch 20 Summary:\n",
      "Train Loss: 0.1304, Train Acc: 0.9550\n",
      "Val Loss: 0.1380, Val Acc: 0.9511, Val F1: 0.9511\n"
     ]
    },
    {
     "data": {
      "text/plain": [
       "<Figure size 1200x500 with 2 Axes>"
      ],
      "image/png": "[encoded data removed]"
     },
     "metadata": {},
     "output_type": "display_data"
    },
    {
     "name": "stdout",
     "output_type": "stream",
     "text": [
      "\n",
      "Final Test Evaluation (MLP):\n",
      "Accuracy: 0.9545\n",
      "F1 Score (macro): 0.9545\n",
      "F1 Score (weighted): 0.9545\n",
      "\n",
      "Classification Report:\n",
      "              precision    recall  f1-score   support\n",
      "\n",
      "           0     0.9545    0.9545    0.9545        22\n",
      "           1     0.9545    0.9545    0.9545        22\n",
      "\n",
      "    accuracy                         0.9545        44\n",
      "   macro avg     0.9545    0.9545    0.9545        44\n",
      "weighted avg     0.9545    0.9545    0.9545        44\n",
      "\n",
      "Confusion Matrix:\n",
      "[[21  1]\n",
      " [ 1 21]]\n"
     ]
    }
   ],
   "execution_count": 11
  },
  {
   "metadata": {},
   "cell_type": "markdown",
   "source": "## Autoencoder-based Classifier",
   "id": "df5da2dfd59bb649"
  },
  {
   "metadata": {
    "ExecuteTime": {
     "end_time": "2025-05-01T19:20:16.902899Z",
     "start_time": "2025-05-01T19:20:01.789369Z"
    }
   },
   "cell_type": "code",
   "source": [
    "def run_training_pipeline_ae(train_x, train_y, val_x, val_y, test_x, test_y):\n",
    "    \"\"\"\n",
    "    Full training and evaluation pipeline for MLP classification.\n",
    "    \"\"\"\n",
    "    device = torch.device(\"cuda\" if torch.cuda.is_available() else \"cpu\")\n",
    "    train_loader, val_loader, test_loader = prepare_dataloaders(train_x, train_y, val_x, val_y, test_x, test_y)\n",
    "\n",
    "    model = AutoencoderClassifier(train_x.shape[1], dropout_rate=0.2).to(device)\n",
    "    criterion_recon = nn.MSELoss()\n",
    "    criterion_cls = nn.CrossEntropyLoss()\n",
    "    optimizer = torch.optim.Adam(model.parameters(), lr=1e-3)\n",
    "    scheduler = torch.optim.lr_scheduler.ReduceLROnPlateau(optimizer, mode='max', factor=0.5, patience=3)\n",
    "\n",
    "    train_losses, val_losses = [], []\n",
    "    train_accs, val_accs = [], []\n",
    "    val_f1s = []\n",
    "\n",
    "    best_val_f1 = 0\n",
    "    for epoch in range(50):\n",
    "        model.train()\n",
    "        total_loss = 0\n",
    "        total_recon_loss = 0\n",
    "        total_cls_loss = 0\n",
    "        correct = 0\n",
    "        total = 0\n",
    "        for xb, yb in tqdm(train_loader, desc=f\"Epoch {epoch + 1}/50\", leave=False):\n",
    "            xb, yb = xb.to(device), yb.to(device)\n",
    "            recon, logits = model(xb)\n",
    "            recon_loss = criterion_recon(recon, xb)\n",
    "            cls_loss = criterion_cls(logits, yb)\n",
    "            loss = 0.3 * recon_loss + 0.7 * cls_loss\n",
    "\n",
    "            optimizer.zero_grad()\n",
    "            loss.backward()\n",
    "            optimizer.step()\n",
    "\n",
    "            total_loss += loss.item()\n",
    "            total_recon_loss += recon_loss.item()\n",
    "            total_cls_loss += cls_loss.item()\n",
    "            preds = logits.argmax(1)\n",
    "            correct += (preds == yb).sum().item()\n",
    "            total += yb.size(0)\n",
    "\n",
    "        train_acc = correct / total\n",
    "\n",
    "        # Validation loop\n",
    "        model.eval()\n",
    "        val_loss, val_correct, val_total = 0, 0, 0\n",
    "        val_preds, val_labels = [], []\n",
    "        with torch.no_grad():\n",
    "            for xb, yb in val_loader:\n",
    "                xb, yb = xb.to(device), yb.to(device)\n",
    "                recon, logits = model(xb)\n",
    "                recon_loss = criterion_recon(recon, xb)\n",
    "                cls_loss = criterion_cls(logits, yb)\n",
    "                loss = 0.3 * recon_loss + 0.7 * cls_loss\n",
    "\n",
    "                val_loss += loss.item()\n",
    "                preds = logits.argmax(1)\n",
    "                val_preds.extend(preds.cpu().numpy())\n",
    "                val_labels.extend(yb.cpu().numpy())\n",
    "                val_correct += (preds == yb).sum().item()\n",
    "                val_total += yb.size(0)\n",
    "\n",
    "        val_acc = val_correct / val_total\n",
    "        val_f1 = f1_score(val_labels, val_preds, average='macro')\n",
    "        scheduler.step(val_f1)\n",
    "\n",
    "        # Save best model\n",
    "        if val_f1 > best_val_f1:\n",
    "            best_val_f1 = val_f1\n",
    "            torch.save(model.state_dict(), \"./save/best_ae_model.pt\")\n",
    "\n",
    "        # Log for plotting\n",
    "        train_losses.append(total_loss / len(train_loader))\n",
    "        val_losses.append(val_loss / len(val_loader))\n",
    "        train_accs.append(train_acc)\n",
    "        val_accs.append(val_acc)\n",
    "        val_f1s.append(val_f1)\n",
    "\n",
    "        print(f\"\\nEpoch {epoch + 1} Summary:\")\n",
    "        print(f\"Train Acc: {train_acc:.4f}, Train Loss: {train_losses[-1]:.4f}\")\n",
    "        print(f\"Val Acc: {val_acc:.4f}, Val F1 (macro): {val_f1:.4f}, Val Loss: {val_losses[-1]:.4f}\")\n",
    "\n",
    "    plot_training_curves(train_losses, val_losses, train_accs, val_accs)\n",
    "\n",
    "    # Final evaluation\n",
    "    model.load_state_dict(torch.load(\"./save/best_ae_model.pt\"))\n",
    "    model.eval()\n",
    "    test_preds, test_labels = [], []\n",
    "    with torch.no_grad():\n",
    "        for xb, yb in test_loader:\n",
    "            xb = xb.to(device)\n",
    "            _, logits = model(xb)\n",
    "            preds = logits.argmax(1).cpu().numpy()\n",
    "            test_preds.extend(preds)\n",
    "            test_labels.extend(yb.numpy())\n",
    "\n",
    "    print(\"\\nFinal Test Evaluation (AE):\")\n",
    "    print(f\"Accuracy: {accuracy_score(test_labels, test_preds):.4f}\")\n",
    "    print(f\"F1 Score (macro): {f1_score(test_labels, test_preds, average='macro'):.4f}\")\n",
    "    print(f\"F1 Score (weighted): {f1_score(test_labels, test_preds, average='weighted'):.4f}\")\n",
    "    print(\"\\nPer-Class Classification Report:\")\n",
    "    print(classification_report(test_labels, test_preds, digits=4))\n",
    "    print(\"Confusion Matrix:\")\n",
    "    print(confusion_matrix(test_labels, test_preds))\n",
    "    torch.save(model.state_dict(), \"./save/final_ae_model.pth\")\n",
    "\n",
    "\n",
    "run_training_pipeline_ae(train_x, train_y, val_x, val_y, test_x, test_y)"
   ],
   "id": "3682cbea47034c51",
   "outputs": [
    {
     "name": "stderr",
     "output_type": "stream",
     "text": [
      "                                                            \r"
     ]
    },
    {
     "name": "stdout",
     "output_type": "stream",
     "text": [
      "\n",
      "Epoch 1 Summary:\n",
      "Train Acc: 0.8876, Train Loss: 0.4420\n",
      "Val Acc: 0.9283, Val F1 (macro): 0.9281, Val Loss: 0.2728\n"
     ]
    },
    {
     "name": "stderr",
     "output_type": "stream",
     "text": [
      "                                                            \r"
     ]
    },
    {
     "name": "stdout",
     "output_type": "stream",
     "text": [
      "\n",
      "Epoch 2 Summary:\n",
      "Train Acc: 0.9369, Train Loss: 0.2650\n",
      "Val Acc: 0.9378, Val F1 (macro): 0.9377, Val Loss: 0.1897\n"
     ]
    },
    {
     "name": "stderr",
     "output_type": "stream",
     "text": [
      "                                                            \r"
     ]
    },
    {
     "name": "stdout",
     "output_type": "stream",
     "text": [
      "\n",
      "Epoch 3 Summary:\n",
      "Train Acc: 0.9429, Train Loss: 0.2253\n",
      "Val Acc: 0.9433, Val F1 (macro): 0.9433, Val Loss: 0.1647\n"
     ]
    },
    {
     "name": "stderr",
     "output_type": "stream",
     "text": [
      "                                                            \r"
     ]
    },
    {
     "name": "stdout",
     "output_type": "stream",
     "text": [
      "\n",
      "Epoch 4 Summary:\n",
      "Train Acc: 0.9417, Train Loss: 0.2024\n",
      "Val Acc: 0.9417, Val F1 (macro): 0.9417, Val Loss: 0.1544\n"
     ]
    },
    {
     "name": "stderr",
     "output_type": "stream",
     "text": [
      "                                                            \r"
     ]
    },
    {
     "name": "stdout",
     "output_type": "stream",
     "text": [
      "\n",
      "Epoch 5 Summary:\n",
      "Train Acc: 0.9469, Train Loss: 0.1935\n",
      "Val Acc: 0.9439, Val F1 (macro): 0.9439, Val Loss: 0.1502\n"
     ]
    },
    {
     "name": "stderr",
     "output_type": "stream",
     "text": [
      "                                                            \r"
     ]
    },
    {
     "name": "stdout",
     "output_type": "stream",
     "text": [
      "\n",
      "Epoch 6 Summary:\n",
      "Train Acc: 0.9481, Train Loss: 0.1897\n",
      "Val Acc: 0.9489, Val F1 (macro): 0.9489, Val Loss: 0.1469\n"
     ]
    },
    {
     "name": "stderr",
     "output_type": "stream",
     "text": [
      "                                                            \r"
     ]
    },
    {
     "name": "stdout",
     "output_type": "stream",
     "text": [
      "\n",
      "Epoch 7 Summary:\n",
      "Train Acc: 0.9455, Train Loss: 0.1830\n",
      "Val Acc: 0.9489, Val F1 (macro): 0.9488, Val Loss: 0.1386\n"
     ]
    },
    {
     "name": "stderr",
     "output_type": "stream",
     "text": [
      "                                                            \r"
     ]
    },
    {
     "name": "stdout",
     "output_type": "stream",
     "text": [
      "\n",
      "Epoch 8 Summary:\n",
      "Train Acc: 0.9476, Train Loss: 0.1801\n",
      "Val Acc: 0.9522, Val F1 (macro): 0.9522, Val Loss: 0.1377\n"
     ]
    },
    {
     "name": "stderr",
     "output_type": "stream",
     "text": [
      "                                                            \r"
     ]
    },
    {
     "name": "stdout",
     "output_type": "stream",
     "text": [
      "\n",
      "Epoch 9 Summary:\n",
      "Train Acc: 0.9517, Train Loss: 0.1644\n",
      "Val Acc: 0.9506, Val F1 (macro): 0.9505, Val Loss: 0.1330\n"
     ]
    },
    {
     "name": "stderr",
     "output_type": "stream",
     "text": [
      "                                                             \r"
     ]
    },
    {
     "name": "stdout",
     "output_type": "stream",
     "text": [
      "\n",
      "Epoch 10 Summary:\n",
      "Train Acc: 0.9529, Train Loss: 0.1671\n",
      "Val Acc: 0.9467, Val F1 (macro): 0.9466, Val Loss: 0.1302\n"
     ]
    },
    {
     "name": "stderr",
     "output_type": "stream",
     "text": [
      "                                                             \r"
     ]
    },
    {
     "name": "stdout",
     "output_type": "stream",
     "text": [
      "\n",
      "Epoch 11 Summary:\n",
      "Train Acc: 0.9531, Train Loss: 0.1635\n",
      "Val Acc: 0.9500, Val F1 (macro): 0.9499, Val Loss: 0.1286\n"
     ]
    },
    {
     "name": "stderr",
     "output_type": "stream",
     "text": [
      "                                                             \r"
     ]
    },
    {
     "name": "stdout",
     "output_type": "stream",
     "text": [
      "\n",
      "Epoch 12 Summary:\n",
      "Train Acc: 0.9531, Train Loss: 0.1557\n",
      "Val Acc: 0.9500, Val F1 (macro): 0.9499, Val Loss: 0.1292\n"
     ]
    },
    {
     "name": "stderr",
     "output_type": "stream",
     "text": [
      "                                                             \r"
     ]
    },
    {
     "name": "stdout",
     "output_type": "stream",
     "text": [
      "\n",
      "Epoch 13 Summary:\n",
      "Train Acc: 0.9500, Train Loss: 0.1614\n",
      "Val Acc: 0.9483, Val F1 (macro): 0.9483, Val Loss: 0.1269\n"
     ]
    },
    {
     "name": "stderr",
     "output_type": "stream",
     "text": [
      "                                                             \r"
     ]
    },
    {
     "name": "stdout",
     "output_type": "stream",
     "text": [
      "\n",
      "Epoch 14 Summary:\n",
      "Train Acc: 0.9505, Train Loss: 0.1593\n",
      "Val Acc: 0.9517, Val F1 (macro): 0.9516, Val Loss: 0.1272\n"
     ]
    },
    {
     "name": "stderr",
     "output_type": "stream",
     "text": [
      "                                                             \r"
     ]
    },
    {
     "name": "stdout",
     "output_type": "stream",
     "text": [
      "\n",
      "Epoch 15 Summary:\n",
      "Train Acc: 0.9574, Train Loss: 0.1515\n",
      "Val Acc: 0.9483, Val F1 (macro): 0.9483, Val Loss: 0.1255\n"
     ]
    },
    {
     "name": "stderr",
     "output_type": "stream",
     "text": [
      "                                                             \r"
     ]
    },
    {
     "name": "stdout",
     "output_type": "stream",
     "text": [
      "\n",
      "Epoch 16 Summary:\n",
      "Train Acc: 0.9512, Train Loss: 0.1495\n",
      "Val Acc: 0.9472, Val F1 (macro): 0.9472, Val Loss: 0.1271\n"
     ]
    },
    {
     "name": "stderr",
     "output_type": "stream",
     "text": [
      "                                                             \r"
     ]
    },
    {
     "name": "stdout",
     "output_type": "stream",
     "text": [
      "\n",
      "Epoch 17 Summary:\n",
      "Train Acc: 0.9540, Train Loss: 0.1482\n",
      "Val Acc: 0.9500, Val F1 (macro): 0.9500, Val Loss: 0.1255\n"
     ]
    },
    {
     "name": "stderr",
     "output_type": "stream",
     "text": [
      "                                                             \r"
     ]
    },
    {
     "name": "stdout",
     "output_type": "stream",
     "text": [
      "\n",
      "Epoch 18 Summary:\n",
      "Train Acc: 0.9524, Train Loss: 0.1506\n",
      "Val Acc: 0.9483, Val F1 (macro): 0.9483, Val Loss: 0.1242\n"
     ]
    },
    {
     "name": "stderr",
     "output_type": "stream",
     "text": [
      "                                                             \r"
     ]
    },
    {
     "name": "stdout",
     "output_type": "stream",
     "text": [
      "\n",
      "Epoch 19 Summary:\n",
      "Train Acc: 0.9581, Train Loss: 0.1506\n",
      "Val Acc: 0.9511, Val F1 (macro): 0.9511, Val Loss: 0.1237\n"
     ]
    },
    {
     "name": "stderr",
     "output_type": "stream",
     "text": [
      "                                                             \r"
     ]
    },
    {
     "name": "stdout",
     "output_type": "stream",
     "text": [
      "\n",
      "Epoch 20 Summary:\n",
      "Train Acc: 0.9550, Train Loss: 0.1485\n",
      "Val Acc: 0.9517, Val F1 (macro): 0.9516, Val Loss: 0.1246\n"
     ]
    },
    {
     "name": "stderr",
     "output_type": "stream",
     "text": [
      "                                                             \r"
     ]
    },
    {
     "name": "stdout",
     "output_type": "stream",
     "text": [
      "\n",
      "Epoch 21 Summary:\n",
      "Train Acc: 0.9536, Train Loss: 0.1489\n",
      "Val Acc: 0.9478, Val F1 (macro): 0.9478, Val Loss: 0.1268\n"
     ]
    },
    {
     "name": "stderr",
     "output_type": "stream",
     "text": [
      "                                                             \r"
     ]
    },
    {
     "name": "stdout",
     "output_type": "stream",
     "text": [
      "\n",
      "Epoch 22 Summary:\n",
      "Train Acc: 0.9579, Train Loss: 0.1453\n",
      "Val Acc: 0.9500, Val F1 (macro): 0.9500, Val Loss: 0.1236\n"
     ]
    },
    {
     "name": "stderr",
     "output_type": "stream",
     "text": [
      "                                                             \r"
     ]
    },
    {
     "name": "stdout",
     "output_type": "stream",
     "text": [
      "\n",
      "Epoch 23 Summary:\n",
      "Train Acc: 0.9533, Train Loss: 0.1494\n",
      "Val Acc: 0.9500, Val F1 (macro): 0.9500, Val Loss: 0.1235\n"
     ]
    },
    {
     "name": "stderr",
     "output_type": "stream",
     "text": [
      "                                                             \r"
     ]
    },
    {
     "name": "stdout",
     "output_type": "stream",
     "text": [
      "\n",
      "Epoch 24 Summary:\n",
      "Train Acc: 0.9524, Train Loss: 0.1486\n",
      "Val Acc: 0.9517, Val F1 (macro): 0.9516, Val Loss: 0.1239\n"
     ]
    },
    {
     "name": "stderr",
     "output_type": "stream",
     "text": [
      "                                                             \r"
     ]
    },
    {
     "name": "stdout",
     "output_type": "stream",
     "text": [
      "\n",
      "Epoch 25 Summary:\n",
      "Train Acc: 0.9531, Train Loss: 0.1504\n",
      "Val Acc: 0.9500, Val F1 (macro): 0.9500, Val Loss: 0.1252\n"
     ]
    },
    {
     "name": "stderr",
     "output_type": "stream",
     "text": [
      "                                                             \r"
     ]
    },
    {
     "name": "stdout",
     "output_type": "stream",
     "text": [
      "\n",
      "Epoch 26 Summary:\n",
      "Train Acc: 0.9564, Train Loss: 0.1482\n",
      "Val Acc: 0.9522, Val F1 (macro): 0.9522, Val Loss: 0.1238\n"
     ]
    },
    {
     "name": "stderr",
     "output_type": "stream",
     "text": [
      "                                                             \r"
     ]
    },
    {
     "name": "stdout",
     "output_type": "stream",
     "text": [
      "\n",
      "Epoch 27 Summary:\n",
      "Train Acc: 0.9564, Train Loss: 0.1429\n",
      "Val Acc: 0.9517, Val F1 (macro): 0.9516, Val Loss: 0.1262\n"
     ]
    },
    {
     "name": "stderr",
     "output_type": "stream",
     "text": [
      "                                                             \r"
     ]
    },
    {
     "name": "stdout",
     "output_type": "stream",
     "text": [
      "\n",
      "Epoch 28 Summary:\n",
      "Train Acc: 0.9569, Train Loss: 0.1422\n",
      "Val Acc: 0.9506, Val F1 (macro): 0.9505, Val Loss: 0.1238\n"
     ]
    },
    {
     "name": "stderr",
     "output_type": "stream",
     "text": [
      "                                                             \r"
     ]
    },
    {
     "name": "stdout",
     "output_type": "stream",
     "text": [
      "\n",
      "Epoch 29 Summary:\n",
      "Train Acc: 0.9536, Train Loss: 0.1468\n",
      "Val Acc: 0.9517, Val F1 (macro): 0.9516, Val Loss: 0.1243\n"
     ]
    },
    {
     "name": "stderr",
     "output_type": "stream",
     "text": [
      "                                                             \r"
     ]
    },
    {
     "name": "stdout",
     "output_type": "stream",
     "text": [
      "\n",
      "Epoch 30 Summary:\n",
      "Train Acc: 0.9545, Train Loss: 0.1451\n",
      "Val Acc: 0.9517, Val F1 (macro): 0.9516, Val Loss: 0.1270\n"
     ]
    },
    {
     "name": "stderr",
     "output_type": "stream",
     "text": [
      "                                                             \r"
     ]
    },
    {
     "name": "stdout",
     "output_type": "stream",
     "text": [
      "\n",
      "Epoch 31 Summary:\n",
      "Train Acc: 0.9560, Train Loss: 0.1497\n",
      "Val Acc: 0.9511, Val F1 (macro): 0.9511, Val Loss: 0.1227\n"
     ]
    },
    {
     "name": "stderr",
     "output_type": "stream",
     "text": [
      "                                                             \r"
     ]
    },
    {
     "name": "stdout",
     "output_type": "stream",
     "text": [
      "\n",
      "Epoch 32 Summary:\n",
      "Train Acc: 0.9600, Train Loss: 0.1358\n",
      "Val Acc: 0.9506, Val F1 (macro): 0.9505, Val Loss: 0.1234\n"
     ]
    },
    {
     "name": "stderr",
     "output_type": "stream",
     "text": [
      "                                                             \r"
     ]
    },
    {
     "name": "stdout",
     "output_type": "stream",
     "text": [
      "\n",
      "Epoch 33 Summary:\n",
      "Train Acc: 0.9557, Train Loss: 0.1473\n",
      "Val Acc: 0.9506, Val F1 (macro): 0.9505, Val Loss: 0.1241\n"
     ]
    },
    {
     "name": "stderr",
     "output_type": "stream",
     "text": [
      "                                                             \r"
     ]
    },
    {
     "name": "stdout",
     "output_type": "stream",
     "text": [
      "\n",
      "Epoch 34 Summary:\n",
      "Train Acc: 0.9545, Train Loss: 0.1490\n",
      "Val Acc: 0.9522, Val F1 (macro): 0.9522, Val Loss: 0.1241\n"
     ]
    },
    {
     "name": "stderr",
     "output_type": "stream",
     "text": [
      "                                                             \r"
     ]
    },
    {
     "name": "stdout",
     "output_type": "stream",
     "text": [
      "\n",
      "Epoch 35 Summary:\n",
      "Train Acc: 0.9548, Train Loss: 0.1456\n",
      "Val Acc: 0.9500, Val F1 (macro): 0.9500, Val Loss: 0.1252\n"
     ]
    },
    {
     "name": "stderr",
     "output_type": "stream",
     "text": [
      "                                                             \r"
     ]
    },
    {
     "name": "stdout",
     "output_type": "stream",
     "text": [
      "\n",
      "Epoch 36 Summary:\n",
      "Train Acc: 0.9581, Train Loss: 0.1429\n",
      "Val Acc: 0.9528, Val F1 (macro): 0.9527, Val Loss: 0.1236\n"
     ]
    },
    {
     "name": "stderr",
     "output_type": "stream",
     "text": [
      "                                                             \r"
     ]
    },
    {
     "name": "stdout",
     "output_type": "stream",
     "text": [
      "\n",
      "Epoch 37 Summary:\n",
      "Train Acc: 0.9548, Train Loss: 0.1462\n",
      "Val Acc: 0.9511, Val F1 (macro): 0.9511, Val Loss: 0.1236\n"
     ]
    },
    {
     "name": "stderr",
     "output_type": "stream",
     "text": [
      "                                                             \r"
     ]
    },
    {
     "name": "stdout",
     "output_type": "stream",
     "text": [
      "\n",
      "Epoch 38 Summary:\n",
      "Train Acc: 0.9564, Train Loss: 0.1467\n",
      "Val Acc: 0.9517, Val F1 (macro): 0.9516, Val Loss: 0.1228\n"
     ]
    },
    {
     "name": "stderr",
     "output_type": "stream",
     "text": [
      "                                                             \r"
     ]
    },
    {
     "name": "stdout",
     "output_type": "stream",
     "text": [
      "\n",
      "Epoch 39 Summary:\n",
      "Train Acc: 0.9579, Train Loss: 0.1401\n",
      "Val Acc: 0.9517, Val F1 (macro): 0.9516, Val Loss: 0.1230\n"
     ]
    },
    {
     "name": "stderr",
     "output_type": "stream",
     "text": [
      "                                                             \r"
     ]
    },
    {
     "name": "stdout",
     "output_type": "stream",
     "text": [
      "\n",
      "Epoch 40 Summary:\n",
      "Train Acc: 0.9545, Train Loss: 0.1448\n",
      "Val Acc: 0.9506, Val F1 (macro): 0.9505, Val Loss: 0.1235\n"
     ]
    },
    {
     "name": "stderr",
     "output_type": "stream",
     "text": [
      "                                                             \r"
     ]
    },
    {
     "name": "stdout",
     "output_type": "stream",
     "text": [
      "\n",
      "Epoch 41 Summary:\n",
      "Train Acc: 0.9562, Train Loss: 0.1436\n",
      "Val Acc: 0.9528, Val F1 (macro): 0.9527, Val Loss: 0.1226\n"
     ]
    },
    {
     "name": "stderr",
     "output_type": "stream",
     "text": [
      "                                                             \r"
     ]
    },
    {
     "name": "stdout",
     "output_type": "stream",
     "text": [
      "\n",
      "Epoch 42 Summary:\n",
      "Train Acc: 0.9531, Train Loss: 0.1465\n",
      "Val Acc: 0.9517, Val F1 (macro): 0.9516, Val Loss: 0.1233\n"
     ]
    },
    {
     "name": "stderr",
     "output_type": "stream",
     "text": [
      "                                                             \r"
     ]
    },
    {
     "name": "stdout",
     "output_type": "stream",
     "text": [
      "\n",
      "Epoch 43 Summary:\n",
      "Train Acc: 0.9583, Train Loss: 0.1427\n",
      "Val Acc: 0.9511, Val F1 (macro): 0.9511, Val Loss: 0.1226\n"
     ]
    },
    {
     "name": "stderr",
     "output_type": "stream",
     "text": [
      "                                                             \r"
     ]
    },
    {
     "name": "stdout",
     "output_type": "stream",
     "text": [
      "\n",
      "Epoch 44 Summary:\n",
      "Train Acc: 0.9590, Train Loss: 0.1425\n",
      "Val Acc: 0.9506, Val F1 (macro): 0.9505, Val Loss: 0.1236\n"
     ]
    },
    {
     "name": "stderr",
     "output_type": "stream",
     "text": [
      "                                                             \r"
     ]
    },
    {
     "name": "stdout",
     "output_type": "stream",
     "text": [
      "\n",
      "Epoch 45 Summary:\n",
      "Train Acc: 0.9579, Train Loss: 0.1455\n",
      "Val Acc: 0.9444, Val F1 (macro): 0.9444, Val Loss: 0.1275\n"
     ]
    },
    {
     "name": "stderr",
     "output_type": "stream",
     "text": [
      "                                                             \r"
     ]
    },
    {
     "name": "stdout",
     "output_type": "stream",
     "text": [
      "\n",
      "Epoch 46 Summary:\n",
      "Train Acc: 0.9538, Train Loss: 0.1477\n",
      "Val Acc: 0.9494, Val F1 (macro): 0.9494, Val Loss: 0.1240\n"
     ]
    },
    {
     "name": "stderr",
     "output_type": "stream",
     "text": [
      "                                                             \r"
     ]
    },
    {
     "name": "stdout",
     "output_type": "stream",
     "text": [
      "\n",
      "Epoch 47 Summary:\n",
      "Train Acc: 0.9560, Train Loss: 0.1452\n",
      "Val Acc: 0.9506, Val F1 (macro): 0.9505, Val Loss: 0.1220\n"
     ]
    },
    {
     "name": "stderr",
     "output_type": "stream",
     "text": [
      "                                                             \r"
     ]
    },
    {
     "name": "stdout",
     "output_type": "stream",
     "text": [
      "\n",
      "Epoch 48 Summary:\n",
      "Train Acc: 0.9555, Train Loss: 0.1465\n",
      "Val Acc: 0.9517, Val F1 (macro): 0.9516, Val Loss: 0.1220\n"
     ]
    },
    {
     "name": "stderr",
     "output_type": "stream",
     "text": [
      "                                                             \r"
     ]
    },
    {
     "name": "stdout",
     "output_type": "stream",
     "text": [
      "\n",
      "Epoch 49 Summary:\n",
      "Train Acc: 0.9550, Train Loss: 0.1402\n",
      "Val Acc: 0.9511, Val F1 (macro): 0.9511, Val Loss: 0.1236\n"
     ]
    },
    {
     "name": "stderr",
     "output_type": "stream",
     "text": [
      "                                                             \r"
     ]
    },
    {
     "name": "stdout",
     "output_type": "stream",
     "text": [
      "\n",
      "Epoch 50 Summary:\n",
      "Train Acc: 0.9562, Train Loss: 0.1481\n",
      "Val Acc: 0.9500, Val F1 (macro): 0.9500, Val Loss: 0.1252\n"
     ]
    },
    {
     "data": {
      "text/plain": [
       "<Figure size 1200x500 with 2 Axes>"
      ],
      "image/png": "[encoded data removed]"
     },
     "metadata": {},
     "output_type": "display_data"
    },
    {
     "name": "stdout",
     "output_type": "stream",
     "text": [
      "\n",
      "Final Test Evaluation (AE):\n",
      "Accuracy: 0.9545\n",
      "F1 Score (macro): 0.9545\n",
      "F1 Score (weighted): 0.9545\n",
      "\n",
      "Per-Class Classification Report:\n",
      "              precision    recall  f1-score   support\n",
      "\n",
      "           0     0.9545    0.9545    0.9545        22\n",
      "           1     0.9545    0.9545    0.9545        22\n",
      "\n",
      "    accuracy                         0.9545        44\n",
      "   macro avg     0.9545    0.9545    0.9545        44\n",
      "weighted avg     0.9545    0.9545    0.9545        44\n",
      "\n",
      "Confusion Matrix:\n",
      "[[21  1]\n",
      " [ 1 21]]\n"
     ]
    }
   ],
   "execution_count": 13
  }
 ],
 "metadata": {
  "kernelspec": {
   "display_name": "Python (Torch + CUDA)",
   "language": "python",
   "name": "mytorchenv"
  },
  "language_info": {
   "codemirror_mode": {
    "name": "ipython",
    "version": 2
   },
   "file_extension": ".py",
   "mimetype": "text/x-python",
   "name": "python",
   "nbconvert_exporter": "python",
   "pygments_lexer": "ipython2",
   "version": "2.7.6"
  }
 },
 "nbformat": 4,
 "nbformat_minor": 5
}
