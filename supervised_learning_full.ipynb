{
 "cells": [
  {
   "metadata": {
    "id": "341274901ba456ae"
   },
   "cell_type": "markdown",
   "source": [
    "## Imports"
   ],
   "id": "341274901ba456ae"
  },
  {
   "metadata": {
    "id": "a8d9b6b64db34b36",
    "ExecuteTime": {
     "end_time": "2025-04-29T08:49:12.187236Z",
     "start_time": "2025-04-29T08:49:12.182899Z"
    }
   },
   "cell_type": "code",
   "source": [
    "from adodbapi.apibase import pythonTimeConverter\n",
    "from sklearn.ensemble import RandomForestClassifier\n",
    "from sklearn.metrics import accuracy_score, f1_score, roc_curve, auc, roc_auc_score, classification_report, confusion_matrix\n",
    "import re\n",
    "from collections import defaultdict\n",
    "from torch.utils.data import Dataset\n",
    "from sklearn.preprocessing import LabelEncoder\n",
    "from datetime import datetime\n",
    "from xgboost import XGBClassifier\n",
    "from sklearn.preprocessing import label_binarize\n",
    "import os\n",
    "from tqdm import tqdm\n",
    "import shap\n",
    "import pandas as pd\n",
    "import numpy as np\n",
    "from sklearn.neighbors import NearestNeighbors\n",
    "import matplotlib.pyplot as plt\n",
    "from imblearn.over_sampling import SMOTE\n",
    "from collections import Counter\n",
    "import zipfile\n",
    "import gdown\n",
    "from sklearn.preprocessing import StandardScaler\n",
    "from sklearn.model_selection import train_test_split"
   ],
   "id": "a8d9b6b64db34b36",
   "outputs": [],
   "execution_count": 250
  },
  {
   "metadata": {
    "id": "d1d7fe402a001e66"
   },
   "cell_type": "markdown",
   "source": [
    "## Data preprocessing"
   ],
   "id": "d1d7fe402a001e66"
  },
  {
   "metadata": {
    "id": "83506ad251f584cd",
    "ExecuteTime": {
     "end_time": "2025-04-29T08:49:12.228366Z",
     "start_time": "2025-04-29T08:49:12.220060Z"
    }
   },
   "cell_type": "code",
   "source": [
    "def apply_smote(labeled_x, labeled_y, random_state=42):\n",
    "    \"\"\"\n",
    "    Applies SMOTE oversampling to balance class distribution in labeled data.\n",
    "\n",
    "    Args:\n",
    "        labeled_x (np.ndarray): Feature array of shape (n_samples, ...) for labeled data.\n",
    "        labeled_y (np.ndarray): Corresponding class labels.\n",
    "        random_state (int): Random seed for reproducibility.\n",
    "\n",
    "    Returns:\n",
    "        X_resampled (np.ndarray): Resampled feature array in original shape.\n",
    "        y_resampled (np.ndarray): Resampled labels.\n",
    "    \"\"\"\n",
    "    print(\"Original class distribution:\", Counter(labeled_y))\n",
    "\n",
    "    X = labeled_x.reshape((labeled_x.shape[0], -1))\n",
    "\n",
    "    smote = SMOTE(random_state=random_state)\n",
    "    X_resampled, y_resampled = smote.fit_resample(X, labeled_y)\n",
    "\n",
    "    print(\"Resampled class distribution:\", Counter(y_resampled))\n",
    "\n",
    "    original_shape = labeled_x.shape[1:]\n",
    "    X_resampled = X_resampled.reshape((X_resampled.shape[0],) + original_shape)\n",
    "\n",
    "    return X_resampled, y_resampled\n",
    "def find_knn_per_class_fixed(\n",
    "    labeled_x, labeled_y,\n",
    "    unlabeled_x, unlabeled_meta=None,\n",
    "    target_class=0,\n",
    "    n_to_add=20,\n",
    "    max_K=10,\n",
    "    distance_threshold=50\n",
    "):\n",
    "    \"\"\"\n",
    "    For labeled samples of a given class, find neighbors in unlabeled_x\n",
    "    and select the n_to_add closest ones total for the class.\n",
    "\n",
    "    Returns:\n",
    "    - results: list of neighbor info per labeled sample\n",
    "    - new_labeled_x: np.ndarray of new samples\n",
    "    - new_labeled_y: np.ndarray of pseudo-labels (same as target_class)\n",
    "    - updated_unlabeled_x: np.ndarray of unlabeled_x with selected neighbors removed\n",
    "    - updated_unlabeled_meta: same shape as unlabeled_meta (if given), else None\n",
    "    \"\"\"\n",
    "    import numpy as np\n",
    "    from sklearn.neighbors import NearestNeighbors\n",
    "\n",
    "    class_mask = labeled_y == target_class\n",
    "    class_x = labeled_x[class_mask]\n",
    "    class_indices = np.where(class_mask)[0]\n",
    "\n",
    "    if len(unlabeled_x) == 0:\n",
    "        return [], np.empty((0, labeled_x.shape[1])), np.array([]), unlabeled_x, unlabeled_meta\n",
    "\n",
    "    nn = NearestNeighbors(n_neighbors=min(max_K * 3, len(unlabeled_x)), metric='euclidean')\n",
    "    nn.fit(unlabeled_x)\n",
    "\n",
    "    all_candidates = []\n",
    "    candidate_sources = []\n",
    "\n",
    "    for l_idx, sample in zip(class_indices, class_x):\n",
    "        dists, nbrs = nn.kneighbors(sample.reshape(1, -1), return_distance=True)\n",
    "        dists = dists[0]\n",
    "        nbrs = nbrs[0]\n",
    "\n",
    "        for i, d in zip(nbrs, dists):\n",
    "            if 0 < d <= distance_threshold:\n",
    "                all_candidates.append((i, d))\n",
    "                candidate_sources.append((l_idx, sample))\n",
    "\n",
    "    if not all_candidates:\n",
    "        return [], np.empty((0, labeled_x.shape[1])), np.array([]), unlabeled_x, unlabeled_meta\n",
    "\n",
    "    # Sort all candidate neighbors by distance\n",
    "    all_candidates_sorted = sorted(all_candidates, key=lambda x: x[1])\n",
    "\n",
    "    # Keep only the nearest n_to_add samples (without repetition)\n",
    "    selected_indices = []\n",
    "    used_unlabeled = set()\n",
    "\n",
    "    for i, (unlabeled_idx, dist) in enumerate(all_candidates_sorted):\n",
    "        if unlabeled_idx not in used_unlabeled:\n",
    "            selected_indices.append(unlabeled_idx)\n",
    "            used_unlabeled.add(unlabeled_idx)\n",
    "        if len(selected_indices) >= n_to_add:\n",
    "            break\n",
    "\n",
    "    # Prepare new labeled data\n",
    "    new_labeled_x = unlabeled_x[selected_indices]\n",
    "    new_labeled_y = np.full(len(new_labeled_x), target_class)\n",
    "\n",
    "    # Remove selected from unlabeled_x and unlabeled_meta\n",
    "    mask = np.ones(len(unlabeled_x), dtype=bool)\n",
    "    mask[selected_indices] = False\n",
    "    updated_unlabeled_x = unlabeled_x[mask]\n",
    "\n",
    "    if unlabeled_meta is not None:\n",
    "        updated_unlabeled_meta = unlabeled_meta[mask]\n",
    "    else:\n",
    "        updated_unlabeled_meta = None\n",
    "\n",
    "    # For info/debugging\n",
    "    results = {\n",
    "        'selected_indices': selected_indices,\n",
    "        'num_added': len(selected_indices)\n",
    "    }\n",
    "\n",
    "    return results, new_labeled_x, new_labeled_y, updated_unlabeled_x, updated_unlabeled_meta\n"
   ],
   "id": "83506ad251f584cd",
   "outputs": [],
   "execution_count": 251
  },
  {
   "metadata": {
    "id": "1a3e792cda8e15d0",
    "outputId": "7fd7241d-ca18-4d36-e36c-a2b85aae76d2",
    "colab": {
     "base_uri": "https://localhost:8080/"
    },
    "ExecuteTime": {
     "end_time": "2025-04-29T08:49:12.358619Z",
     "start_time": "2025-04-29T08:49:12.310361Z"
    }
   },
   "cell_type": "code",
   "source": [
    "class LabeledAcousticDataset(Dataset):\n",
    "    def __init__(self, base_folder, feature_columns=None, id_columns=('File', 'Minute', 'Time')):\n",
    "        self.base_folder = base_folder\n",
    "        self.id_columns = id_columns\n",
    "        self.feature_columns = feature_columns or [\n",
    "            'ClksThisMin', 'medianKHz', 'avSPL', 'avPkAt', 'AvPRF', 'avEndF',\n",
    "            'tWUTrisk', 'nActualClx', 'nRisingIPIs', 'TrDur_us', 'nICIrising',\n",
    "            'MinICI_us', 'midpointICI', 'MaxICI_us', 'ClkNofMinICI', 'ClkNofMaxICI',\n",
    "            'NofClstrs', 'avClstrNx8', 'avPkIPI', 'BeforeIPIratio', 'PreIPIratio',\n",
    "            'Post1IPIratio', 'Post2IPIratio', 'EndIPIratio'\n",
    "        ]\n",
    "\n",
    "        self.labeled_data, self.labels = self._load_all_labeled_data()\n",
    "\n",
    "    def _load_all_labeled_data(self):\n",
    "        labeled_data = []\n",
    "        labels = []\n",
    "\n",
    "        label_map = {\n",
    "            \"FeedingBuzzes\": 0,\n",
    "            \"NonFeedingClickTrains\": 1\n",
    "        }\n",
    "\n",
    "        for class_folder, label in label_map.items():\n",
    "            folder_path = os.path.join(self.base_folder, class_folder)\n",
    "            excel_file = os.path.join(folder_path, f\"{class_folder}.xlsx\")\n",
    "\n",
    "            if not os.path.exists(excel_file):\n",
    "                raise FileNotFoundError(f\"Excel file not found: {excel_file}\")\n",
    "\n",
    "            df = pd.read_excel(excel_file)\n",
    "\n",
    "            # Ensure alignment with ID columns\n",
    "            df[self.id_columns[0]] = df[self.id_columns[0]].astype(str)\n",
    "            df[self.id_columns[1]] = df[self.id_columns[1]].astype(int)\n",
    "            df[self.id_columns[2]] = df[self.id_columns[2]].astype(int)\n",
    "\n",
    "            df['label'] = label\n",
    "            labeled_data.append(df)\n",
    "            labels.extend([label] * len(df))\n",
    "\n",
    "        full_df = pd.concat(labeled_data, ignore_index=True)\n",
    "\n",
    "        return full_df, np.array(labels, dtype=np.int64)\n",
    "\n",
    "    def get_labeled(self):\n",
    "        df = self.labeled_data[self.feature_columns].apply(\n",
    "            lambda col: col.astype(str).str.replace(',', '.').astype(np.float32)\n",
    "        )\n",
    "\n",
    "        X = df.to_numpy()\n",
    "        y = self.labels\n",
    "        meta = self.labeled_data[['File', 'Minute', 'Time']].values\n",
    "\n",
    "        return X, y, meta\n",
    "\n",
    "    def __len__(self):\n",
    "        return len(self.labels)\n",
    "\n",
    "    def __getitem__(self, idx):\n",
    "        row = self.labeled_data.iloc[idx]\n",
    "        features = row[self.feature_columns].astype(str).str.replace(',', '.').astype(np.float32).to_numpy()\n",
    "        label = self.labels[idx]\n",
    "        return features, label\n",
    "\n",
    "dataset = LabeledAcousticDataset(\"new click trains (Bulgaria)\")\n",
    "test_x, test_y, test_meta = dataset.get_labeled()\n",
    "\n",
    "test_mask = test_x[:, 4] > 50\n",
    "test_x = test_x[test_mask]\n",
    "test_y = test_y[test_mask]\n",
    "test_meta = test_meta[test_mask]\n",
    "print(f\"Labeled samples: {len(test_x)}\")\n"
   ],
   "id": "1a3e792cda8e15d0",
   "outputs": [
    {
     "name": "stdout",
     "output_type": "stream",
     "text": [
      "Labeled samples: 62\n"
     ]
    }
   ],
   "execution_count": 252
  },
  {
   "metadata": {
    "id": "d5aed01c534f98d3",
    "ExecuteTime": {
     "end_time": "2025-04-29T08:49:13.231211Z",
     "start_time": "2025-04-29T08:49:12.431660Z"
    }
   },
   "cell_type": "code",
   "source": [
    "special_areas = ['U Dzha Bay', 'U Dzha Sea']\n",
    "\n",
    "signal_meta = np.array(test_meta)\n",
    "def extract_area_name(entry):\n",
    "    entry_str = str(entry)\n",
    "    for area in special_areas:\n",
    "        if entry_str.startswith(area):\n",
    "            return area\n",
    "    match = re.match(r'^(\\w+ \\w+)', entry_str)\n",
    "    return match.group(1) if match else entry_str\n",
    "\n",
    "vectorized_extractor = np.vectorize(extract_area_name)\n",
    "\n",
    "clean_unlabeled_meta = vectorized_extractor(signal_meta[:, 0])\n",
    "test_meta = np.column_stack((clean_unlabeled_meta, signal_meta[:, 1:3]))"
   ],
   "id": "d5aed01c534f98d3",
   "outputs": [],
   "execution_count": 253
  },
  {
   "metadata": {
    "id": "d38964462c91e753",
    "ExecuteTime": {
     "end_time": "2025-04-29T08:49:30.575361Z",
     "start_time": "2025-04-29T08:49:13.302598Z"
    }
   },
   "cell_type": "code",
   "source": [
    "data = np.load(\"full_acoustic_dataset.npz\", allow_pickle=True)\n",
    "labeled_x = data['labeled_x']\n",
    "labeled_y = data['labeled_y']\n",
    "unlabeled_x = data['unlabeled_x']\n",
    "unlabeled_meta = data['unlabeled_meta']\n",
    "labeled_meta = data['labeled_meta']\n",
    "\n",
    "labeled_x = np.delete(labeled_x, 1, axis=1)\n",
    "unlabeled_x = np.delete(unlabeled_x, 1, axis=1)\n",
    "\n",
    "labeled_mask = labeled_x[:, 4] > 50\n",
    "unlabeled_mask = unlabeled_x[:, 4] > 50\n",
    "\n",
    "# Filter arrays\n",
    "labeled_x = labeled_x[labeled_mask]\n",
    "labeled_y = labeled_y[labeled_mask]\n",
    "labeled_meta = labeled_meta[labeled_mask]\n",
    "\n",
    "unlabeled_x = unlabeled_x[unlabeled_mask]\n",
    "unlabeled_meta = unlabeled_meta[unlabeled_mask]"
   ],
   "id": "d38964462c91e753",
   "outputs": [],
   "execution_count": 254
  },
  {
   "metadata": {
    "id": "b8cd2ea2814e9cc1",
    "outputId": "468be287-134d-45ac-f655-aa99a753a0a5",
    "colab": {
     "base_uri": "https://localhost:8080/"
    },
    "ExecuteTime": {
     "end_time": "2025-04-29T08:50:18.920514Z",
     "start_time": "2025-04-29T08:49:30.786655Z"
    }
   },
   "cell_type": "code",
   "source": [
    "# === Pseudo-labeling from training set only ===\n",
    "n_to_add_per_class = 3000  # for example\n",
    "\n",
    "all_new_x = []\n",
    "all_new_y = []\n",
    "for cls in np.unique(labeled_y):\n",
    "    results, new_x, new_y, unlabeled_x, unlabeled_meta = find_knn_per_class_fixed(\n",
    "        labeled_x, labeled_y,\n",
    "        unlabeled_x, unlabeled_meta,\n",
    "        target_class=cls,\n",
    "        n_to_add=n_to_add_per_class - len(labeled_y[np.where(labeled_y == cls)]), \n",
    "        distance_threshold=2000\n",
    "    )\n",
    "    print(f\"Class {cls}: added {len(new_y)} new samples.\")\n",
    "    all_new_x.append(new_x)\n",
    "    all_new_y.append(new_y)\n",
    "\n",
    "pseudo_x = np.vstack(all_new_x)\n",
    "pseudo_y = np.concatenate(all_new_y)\n",
    "\n",
    "print(\"Final up-sampled size:\", pseudo_x.shape)\n",
    "print(\"Remaining unlabeled:\", unlabeled_x.shape)\n",
    "\n",
    "# === Combine and apply SMOTE ===\n",
    "X_resampled = np.concatenate([labeled_x, pseudo_x])\n",
    "y_resampled = np.concatenate([labeled_y, pseudo_y])\n",
    "\n",
    "# print(\"Original class distribution:\", Counter(all_train_y))\n",
    "X_resampled, y_resampled = apply_smote(X_resampled, y_resampled)\n",
    "print(\"Resampled class distribution:\", Counter(y_resampled))"
   ],
   "id": "b8cd2ea2814e9cc1",
   "outputs": [
    {
     "name": "stdout",
     "output_type": "stream",
     "text": [
      "Class 0: added 2378 new samples.\n",
      "Class 1: added 2677 new samples.\n",
      "Final up-sampled size: (5055, 24)\n",
      "Remaining unlabeled: (5232172, 24)\n",
      "Original class distribution: Counter({np.int64(1): 3000, np.int64(0): 2531})\n",
      "Resampled class distribution: Counter({np.int64(0): 3000, np.int64(1): 3000})\n",
      "Resampled class distribution: Counter({np.int64(0): 3000, np.int64(1): 3000})\n"
     ]
    }
   ],
   "execution_count": 255
  },
  {
   "metadata": {
    "ExecuteTime": {
     "end_time": "2025-04-29T08:50:19.090412Z",
     "start_time": "2025-04-29T08:50:19.077378Z"
    }
   },
   "cell_type": "code",
   "source": [
    "scaler = StandardScaler()\n",
    "X_all = scaler.fit_transform(X_resampled)\n",
    "test_x = scaler.transform(test_x)\n",
    "indices = np.arange(X_all.shape[0])\n",
    "rng = np.random.default_rng(seed=42) \n",
    "rng.shuffle(indices)\n",
    "\n",
    "X_all = X_all[indices]\n",
    "y_all = y_resampled[indices]\n",
    "\n",
    "train_x, val_x, train_y, val_y = train_test_split(X_all, y_all, test_size=0.3, random_state=42)\n",
    "\n",
    "# Find indices for each class\n",
    "class0_indices = np.where(test_y == 0)[0]\n",
    "class1_indices = np.where(test_y == 1)[0]\n",
    "\n",
    "# Randomly select 22 samples from Class 1\n",
    "np.random.seed(42)  # for reproducibility\n",
    "selected_class1_indices = np.random.choice(class1_indices, size=len(class0_indices), replace=False)\n",
    "\n",
    "# Combine indices\n",
    "balanced_indices = np.concatenate([class0_indices, selected_class1_indices])\n",
    "\n",
    "# Shuffle the indices\n",
    "np.random.shuffle(balanced_indices)\n",
    "\n",
    "# Create balanced test sets\n",
    "test_x = test_x[balanced_indices]\n",
    "test_y = test_y[balanced_indices]\n",
    "test_meta = test_meta[balanced_indices]\n",
    "\n",
    "distribution = Counter(train_y)\n",
    "total = len(train_y)\n",
    "print(\"\\nTrain Distribution:\")\n",
    "for label, count in distribution.items():\n",
    "    pct = (count / total) * 100\n",
    "    print(f\"Class {label}: {count} ({pct:.2f}%)\")\n",
    "    \n",
    "distribution = Counter(val_y)\n",
    "total = len(val_y)\n",
    "print(\"\\nValidation Distribution:\")\n",
    "for label, count in distribution.items():\n",
    "    pct = (count / total) * 100\n",
    "    print(f\"Class {label}: {count} ({pct:.2f}%)\")\n",
    "    \n",
    "distribution = Counter(test_y)\n",
    "total = len(test_y)\n",
    "print(\"\\nTest Distribution:\")\n",
    "for label, count in distribution.items():\n",
    "    pct = (count / total) * 100\n",
    "    print(f\"Class {label}: {count} ({pct:.2f}%)\")\n",
    "    "
   ],
   "id": "7d63f88cb1f10991",
   "outputs": [
    {
     "name": "stdout",
     "output_type": "stream",
     "text": [
      "\n",
      "Train Distribution:\n",
      "Class 0: 2108 (50.19%)\n",
      "Class 1: 2092 (49.81%)\n",
      "\n",
      "Validation Distribution:\n",
      "Class 1: 908 (50.44%)\n",
      "Class 0: 892 (49.56%)\n",
      "\n",
      "Test Distribution:\n",
      "Class 1: 20 (50.00%)\n",
      "Class 0: 20 (50.00%)\n"
     ]
    }
   ],
   "execution_count": 256
  },
  {
   "metadata": {
    "id": "8754a1ffde2047f3"
   },
   "cell_type": "markdown",
   "source": [
    "## Random forest"
   ],
   "id": "8754a1ffde2047f3"
  },
  {
   "cell_type": "code",
   "id": "initial_id",
   "metadata": {
    "collapsed": true,
    "id": "initial_id",
    "outputId": "a1cb26ef-6dbe-48b0-9642-84758768eab7",
    "colab": {
     "base_uri": "https://localhost:8080/"
    },
    "ExecuteTime": {
     "end_time": "2025-04-29T08:50:19.816354Z",
     "start_time": "2025-04-29T08:50:19.165404Z"
    }
   },
   "source": [
    "# rf_model = RandomForestClassifier(\n",
    "#     n_estimators=50,\n",
    "#     max_depth=10,\n",
    "#     class_weight='balanced',\n",
    "#     random_state=42\n",
    "# )\n",
    "rf_model = RandomForestClassifier(\n",
    "    n_estimators=100,\n",
    "    max_depth=10,\n",
    "    min_samples_split=5,\n",
    "    min_samples_leaf=2,\n",
    "    class_weight='balanced',\n",
    "    bootstrap=True,\n",
    "    random_state=42\n",
    ")\n",
    "rf_model.fit(train_x, train_y)\n",
    "\n",
    "probs = rf_model.predict_proba(test_x)\n",
    "preds = rf_model.predict(test_x)\n",
    "\n",
    "print(\"Evaluation:\")\n",
    "print(f\"Accuracy: {accuracy_score(test_y, preds):.4f}\")\n",
    "print(f\"F1 Score (macro): {f1_score(test_y, preds, average='macro'):.4f}\")\n",
    "print(f\"F1 Score (weighted): {f1_score(test_y, preds, average='weighted'):.4f}\")"
   ],
   "outputs": [
    {
     "name": "stdout",
     "output_type": "stream",
     "text": [
      "Evaluation:\n",
      "Accuracy: 0.9000\n",
      "F1 Score (macro): 0.8997\n",
      "F1 Score (weighted): 0.8997\n"
     ]
    }
   ],
   "execution_count": 257
  },
  {
   "metadata": {
    "id": "4d96fe3730a5ac4b",
    "outputId": "9188c621-f056-42c7-e9b8-b2a4111d302a",
    "colab": {
     "base_uri": "https://localhost:8080/"
    },
    "ExecuteTime": {
     "end_time": "2025-04-29T08:50:19.905675Z",
     "start_time": "2025-04-29T08:50:19.903350Z"
    }
   },
   "cell_type": "code",
   "source": [
    "# print(\"\\nPer-Class Classification Report:\")\n",
    "# print(classification_report(test_y, preds, digits=4))\n",
    "# \n",
    "# print(\"Confusion Matrix:\")\n",
    "# print(confusion_matrix(test_y, preds))\n"
   ],
   "id": "4d96fe3730a5ac4b",
   "outputs": [],
   "execution_count": 258
  },
  {
   "metadata": {
    "id": "95d2bf236faaae07",
    "outputId": "018e08b4-4f0d-4282-af19-bbe568962a0c",
    "colab": {
     "base_uri": "https://localhost:8080/",
     "height": 564
    },
    "ExecuteTime": {
     "end_time": "2025-04-29T08:50:20.015901Z",
     "start_time": "2025-04-29T08:50:20.012852Z"
    }
   },
   "cell_type": "code",
   "source": [
    "# y_bin = label_binarize(test_y, classes=[0, 1])\n",
    "# if y_bin.shape[1] == 1:\n",
    "#     y_bin = np.hstack((1 - y_bin, y_bin))\n",
    "# fpr = {}\n",
    "# tpr = {}\n",
    "# roc_auc = {}\n",
    "# \n",
    "# for i in range(2):\n",
    "#     fpr[i], tpr[i], _ = roc_curve(y_bin[:, i], probs[:, i])\n",
    "#     roc_auc[i] = auc(fpr[i], tpr[i])\n",
    "# \n",
    "# plt.figure(figsize=(8, 6))\n",
    "# colors = ['blue', 'green']\n",
    "# for i, color in zip(range(2), colors):\n",
    "#     plt.plot(fpr[i], tpr[i], color=color, lw=2,\n",
    "#              label=f\"Class {i} (AUC = {roc_auc[i]:.2f})\")\n",
    "# \n",
    "# plt.plot([0, 1], [0, 1], 'k--', lw=1)\n",
    "# plt.xlabel(\"False Positive Rate\")\n",
    "# plt.ylabel(\"True Positive Rate\")\n",
    "# plt.title(\"Random Forest Classifier ROC Curves (Classes 0 and 1)\")\n",
    "# plt.legend(loc=\"lower right\")\n",
    "# plt.grid(True)\n",
    "# plt.show()\n"
   ],
   "id": "95d2bf236faaae07",
   "outputs": [],
   "execution_count": 259
  },
  {
   "metadata": {
    "id": "58ae3dff46c6003d",
    "outputId": "0b1ec06b-5fd6-48c4-c99c-e31c04b20da7",
    "colab": {
     "base_uri": "https://localhost:8080/",
     "height": 1000
    },
    "ExecuteTime": {
     "end_time": "2025-04-29T08:50:20.114029Z",
     "start_time": "2025-04-29T08:50:20.110685Z"
    }
   },
   "cell_type": "code",
   "source": [
    "# explainer = shap.Explainer(rf_model, train_x)\n",
    "# \n",
    "# shap_values = explainer(test_x, check_additivity=False)\n",
    "# \n",
    "# feature_columns = [\n",
    "#             'ClksThisMin', 'NofClx', 'medianKHz', 'avSPL', 'avPkAt', 'AvPRF', 'avEndF',\n",
    "#             'tWUTrisk', 'nActualClx', 'nRisingIPIs', 'TrDur_us', 'nICIrising',\n",
    "#             'MinICI_us', 'midpointICI', 'MaxICI_us', 'ClkNofMinICI', 'ClkNofMaxICI',\n",
    "#             'NofClstrs', 'avClstrNx8', 'avPkIPI', 'BeforeIPIratio', 'PreIPIratio',\n",
    "#             'Post1IPIratio', 'Post2IPIratio', 'EndIPIratio'\n",
    "#         ]\n",
    "# shap.plots.waterfall(shap.Explanation(\n",
    "#     values=shap_values.values[0][:, 1],\n",
    "#     base_values=shap_values.base_values[0][1],\n",
    "#     data=shap_values.data[0],\n",
    "#     feature_names=feature_columns\n",
    "# ))\n",
    "# \n",
    "# shap.plots.waterfall(shap.Explanation(\n",
    "#     values=shap_values.values[0][:, 0],\n",
    "#     base_values=shap_values.base_values[0][0],\n",
    "#     data=shap_values.data[0],\n",
    "#     feature_names=feature_columns\n",
    "# ))"
   ],
   "id": "58ae3dff46c6003d",
   "outputs": [],
   "execution_count": 260
  },
  {
   "metadata": {
    "id": "70ce59dad8b172d",
    "outputId": "05adf7a3-e59c-4e6c-c656-0079d394e9a1",
    "colab": {
     "base_uri": "https://localhost:8080/",
     "height": 1000
    },
    "ExecuteTime": {
     "end_time": "2025-04-29T08:50:20.201523Z",
     "start_time": "2025-04-29T08:50:20.198251Z"
    }
   },
   "cell_type": "code",
   "source": [
    "# shap.plots.beeswarm(shap.Explanation(\n",
    "#     values=shap_values.values[:, :, 1],\n",
    "#     base_values=shap_values.base_values[:, 1],\n",
    "#     data=shap_values.data,\n",
    "#     feature_names=feature_columns\n",
    "# ))\n",
    "# \n",
    "# shap.plots.beeswarm(shap.Explanation(\n",
    "#     values=shap_values.values[:, :, 0],\n",
    "#     base_values=shap_values.base_values[:, 0],\n",
    "#     data=shap_values.data,\n",
    "#     feature_names=feature_columns\n",
    "# ))\n"
   ],
   "id": "70ce59dad8b172d",
   "outputs": [],
   "execution_count": 261
  },
  {
   "metadata": {
    "id": "e8d1e269a4cebf3d"
   },
   "cell_type": "markdown",
   "source": [
    "## XGBoost"
   ],
   "id": "e8d1e269a4cebf3d"
  },
  {
   "metadata": {
    "id": "d1ec8c55c0ee3850",
    "outputId": "e281377b-e384-4b51-dc58-a670505330fc",
    "colab": {
     "base_uri": "https://localhost:8080/"
    },
    "ExecuteTime": {
     "end_time": "2025-04-29T08:50:20.288689Z",
     "start_time": "2025-04-29T08:50:20.286101Z"
    }
   },
   "cell_type": "code",
   "source": [
    "# xgb_model = XGBClassifier(\n",
    "#     n_estimators=100,\n",
    "#     max_depth=10,\n",
    "#     learning_rate=0.005,\n",
    "#     subsample=0.9,\n",
    "#     colsample_bytree=0.8,\n",
    "#     eval_metric='logloss',\n",
    "# )\n",
    "# \n",
    "# xgb_model.fit(train_x, train_y)\n",
    "# \n",
    "# probs = xgb_model.predict_proba(test_x)\n",
    "# preds = xgb_model.predict(test_x)\n",
    "# \n",
    "# print(\"Evaluation:\")\n",
    "# print(f\"Accuracy: {accuracy_score(test_y, preds):.4f}\")\n",
    "# print(f\"F1 Score (macro): {f1_score(test_y, preds, average='macro'):.4f}\")\n",
    "# print(f\"F1 Score (weighted): {f1_score(test_y, preds, average='weighted'):.4f}\")"
   ],
   "id": "d1ec8c55c0ee3850",
   "outputs": [],
   "execution_count": 262
  },
  {
   "metadata": {
    "id": "f401a5d622e7d727",
    "outputId": "22dc05d0-5b04-4f98-fc5d-56fc5753268a",
    "colab": {
     "base_uri": "https://localhost:8080/"
    },
    "ExecuteTime": {
     "end_time": "2025-04-29T08:50:20.395585Z",
     "start_time": "2025-04-29T08:50:20.392401Z"
    }
   },
   "cell_type": "code",
   "source": [
    "# print(\"\\nPer-Class Classification Report:\")\n",
    "# print(classification_report(test_y, preds, digits=4))\n",
    "# \n",
    "# print(\"Confusion Matrix:\")\n",
    "# print(confusion_matrix(test_y, preds))\n"
   ],
   "id": "f401a5d622e7d727",
   "outputs": [],
   "execution_count": 263
  },
  {
   "metadata": {
    "id": "a21c4bf2892cb3fb",
    "outputId": "c67cffd6-844b-4fc4-f447-811b9ab51066",
    "colab": {
     "base_uri": "https://localhost:8080/",
     "height": 564
    },
    "ExecuteTime": {
     "end_time": "2025-04-29T08:50:20.575369Z",
     "start_time": "2025-04-29T08:50:20.572497Z"
    }
   },
   "cell_type": "code",
   "source": [
    "# y_bin = label_binarize(test_y, classes=[0, 1])\n",
    "# if y_bin.shape[1] == 1:\n",
    "#     y_bin = np.hstack((1 - y_bin, y_bin))\n",
    "# fpr = {}\n",
    "# tpr = {}\n",
    "# roc_auc = {}\n",
    "# \n",
    "# for i in range(2):\n",
    "#     fpr[i], tpr[i], _ = roc_curve(y_bin[:, i], probs[:, i])\n",
    "#     roc_auc[i] = auc(fpr[i], tpr[i])\n",
    "# \n",
    "# plt.figure(figsize=(8, 6))\n",
    "# colors = ['blue', 'green']\n",
    "# for i, color in zip(range(2), colors):\n",
    "#     plt.plot(fpr[i], tpr[i], color=color, lw=2,\n",
    "#              label=f\"Class {i} (AUC = {roc_auc[i]:.2f})\")\n",
    "# \n",
    "# plt.plot([0, 1], [0, 1], 'k--', lw=1)\n",
    "# plt.xlabel(\"False Positive Rate\")\n",
    "# plt.ylabel(\"True Positive Rate\")\n",
    "# plt.title(\"ROC Curves (Classes 0 and 1)\")\n",
    "# plt.legend(loc=\"lower right\")\n",
    "# plt.grid(True)\n",
    "# plt.show()\n"
   ],
   "id": "a21c4bf2892cb3fb",
   "outputs": [],
   "execution_count": 264
  },
  {
   "metadata": {
    "id": "bb1cd142dbdaf58d",
    "outputId": "c34f46c3-c569-47d7-82a6-c79d14a850c5",
    "colab": {
     "base_uri": "https://localhost:8080/",
     "height": 1000
    },
    "ExecuteTime": {
     "end_time": "2025-04-29T08:50:20.585267Z",
     "start_time": "2025-04-29T08:50:20.582006Z"
    }
   },
   "cell_type": "code",
   "source": [
    "# explainer = shap.TreeExplainer(xgb_model, train_x, feature_perturbation=\"interventional\", model_output=\"probability\")\n",
    "# shap_values = explainer.shap_values(test_x)\n",
    "# \n",
    "# preds = xgb_model.predict(test_x)\n",
    "# \n",
    "# idx_class_0 = np.where(preds == 0)[0][0]\n",
    "# idx_class_1 = np.where(preds == 1)[0][0]\n",
    "# \n",
    "# print(f\"Waterfall plot for predicted class 0 (index {idx_class_0}):\")\n",
    "# shap.plots.waterfall(shap.Explanation(\n",
    "#     values=shap_values[idx_class_0],\n",
    "#     base_values=explainer.expected_value,\n",
    "#     data=test_x[idx_class_0],\n",
    "#     feature_names=feature_columns,\n",
    "# ))\n",
    "# \n",
    "# print(f\"Waterfall plot for predicted class 1 (index {idx_class_1}):\")\n",
    "# shap.plots.waterfall(shap.Explanation(\n",
    "#     values=shap_values[idx_class_1],\n",
    "#     base_values=explainer.expected_value,\n",
    "#     data=test_x[idx_class_1],\n",
    "#     feature_names=feature_columns\n",
    "# ))\n"
   ],
   "id": "bb1cd142dbdaf58d",
   "outputs": [],
   "execution_count": 265
  },
  {
   "metadata": {
    "id": "926697f5dd6f1321",
    "outputId": "8e3098ce-97a9-4b9f-d052-4bc20af2395d",
    "colab": {
     "base_uri": "https://localhost:8080/",
     "height": 1000
    },
    "ExecuteTime": {
     "end_time": "2025-04-29T08:50:20.698842Z",
     "start_time": "2025-04-29T08:50:20.696242Z"
    }
   },
   "cell_type": "code",
   "source": [
    "# shap.plots.beeswarm(shap.Explanation(\n",
    "#     values=shap_values,\n",
    "#     base_values=np.repeat(explainer.expected_value, shap_values.shape[0]),\n",
    "#     data=test_x,\n",
    "#     feature_names=feature_columns\n",
    "# ))\n",
    "# shap_values_class_0 = -shap_values\n",
    "# \n",
    "# shap.plots.beeswarm(shap.Explanation(\n",
    "#     values=shap_values_class_0,\n",
    "#     base_values=np.repeat(1 - explainer.expected_value, shap_values.shape[0]),\n",
    "#     data=test_x,\n",
    "#     feature_names=feature_columns\n",
    "# ))\n"
   ],
   "id": "926697f5dd6f1321",
   "outputs": [],
   "execution_count": 266
  },
  {
   "metadata": {
    "ExecuteTime": {
     "end_time": "2025-04-29T08:51:10.102214Z",
     "start_time": "2025-04-29T08:50:20.771635Z"
    }
   },
   "cell_type": "code",
   "source": [
    "import torch\n",
    "import torch.nn as nn\n",
    "from torch.utils.data import Dataset, DataLoader\n",
    "from sklearn.metrics import accuracy_score, f1_score, classification_report, confusion_matrix\n",
    "from sklearn.model_selection import StratifiedShuffleSplit\n",
    "from sklearn.utils import shuffle\n",
    "from tqdm import tqdm\n",
    "import numpy as np\n",
    "import matplotlib.pyplot as plt\n",
    "# # \n",
    "# # # Custom Dataset\n",
    "class TabularDataset(Dataset):\n",
    "    def __init__(self, X, y):\n",
    "        self.X = torch.tensor(X, dtype=torch.float32)\n",
    "        self.y = torch.tensor(y, dtype=torch.long)\n",
    "\n",
    "    def __len__(self):\n",
    "        return len(self.X)\n",
    "\n",
    "    def __getitem__(self, idx):\n",
    "        return self.X[idx], self.y[idx]\n",
    "# \n",
    "# Autoencoder with classifier head\n",
    "class AutoencoderClassifier(nn.Module):\n",
    "    def __init__(self, input_dim, hidden_dim=128, bottleneck_dim=64, num_classes=2, dropout_rate=0.2):\n",
    "        super().__init__()\n",
    "        self.encoder = nn.Sequential(\n",
    "            nn.Linear(input_dim, hidden_dim),\n",
    "            nn.BatchNorm1d(hidden_dim),\n",
    "            nn.ReLU(),\n",
    "            nn.Dropout(dropout_rate),\n",
    "            nn.Linear(hidden_dim, bottleneck_dim),\n",
    "            nn.BatchNorm1d(bottleneck_dim),\n",
    "            nn.ReLU(),\n",
    "            nn.Dropout(dropout_rate)\n",
    "        )\n",
    "        self.decoder = nn.Sequential(\n",
    "            nn.Linear(bottleneck_dim, hidden_dim),\n",
    "            nn.ReLU(),\n",
    "            nn.Linear(hidden_dim, input_dim)\n",
    "        )\n",
    "        self.classifier = nn.Linear(bottleneck_dim, num_classes)\n",
    "\n",
    "    def forward(self, x):\n",
    "        encoded = self.encoder(x)\n",
    "        reconstructed = self.decoder(encoded)\n",
    "        logits = self.classifier(encoded)\n",
    "        return reconstructed, logits\n",
    "\n",
    "# Load your train_x, train_y, val_x, val_y, test_x, test_y before this point\n",
    "train_dataset = TabularDataset(train_x, train_y)\n",
    "val_dataset = TabularDataset(val_x, val_y)\n",
    "test_dataset = TabularDataset(test_x, test_y)\n",
    "\n",
    "train_loader = DataLoader(train_dataset, batch_size=16, shuffle=True)\n",
    "val_loader = DataLoader(val_dataset, batch_size=16, shuffle=False)\n",
    "test_loader = DataLoader(test_dataset, batch_size=16, shuffle=False)\n",
    "\n",
    "# Model setup\n",
    "input_dim = train_x.shape[1]\n",
    "device = torch.device(\"cuda\" if torch.cuda.is_available() else \"cpu\")\n",
    "model = AutoencoderClassifier(input_dim, dropout_rate=0.2).to(device)\n",
    "\n",
    "criterion_recon = nn.MSELoss()\n",
    "criterion_cls = nn.CrossEntropyLoss()\n",
    "optimizer = torch.optim.Adam(model.parameters(), lr=1e-3)\n",
    "scheduler = torch.optim.lr_scheduler.ReduceLROnPlateau(optimizer, mode='max', factor=0.5, patience=3, verbose=True)\n",
    "\n",
    "# For plotting\n",
    "train_losses, val_losses = [], []\n",
    "train_accs, val_accs = [], []\n",
    "val_f1s = []\n",
    "\n",
    "# Training loop\n",
    "best_val_f1 = 0\n",
    "for epoch in range(50):\n",
    "    model.train()\n",
    "    total_loss = 0\n",
    "    total_recon_loss = 0\n",
    "    total_cls_loss = 0\n",
    "    correct = 0\n",
    "    total = 0\n",
    "    for xb, yb in tqdm(train_loader, desc=f\"Epoch {epoch+1}/50\", leave=False):\n",
    "        xb, yb = xb.to(device), yb.to(device)\n",
    "        recon, logits = model(xb)\n",
    "        recon_loss = criterion_recon(recon, xb)\n",
    "        cls_loss = criterion_cls(logits, yb)\n",
    "        loss = 0.3 * recon_loss + 0.7 * cls_loss\n",
    "\n",
    "        optimizer.zero_grad()\n",
    "        loss.backward()\n",
    "        optimizer.step()\n",
    "\n",
    "        total_loss += loss.item()\n",
    "        total_recon_loss += recon_loss.item()\n",
    "        total_cls_loss += cls_loss.item()\n",
    "        preds = logits.argmax(1)\n",
    "        correct += (preds == yb).sum().item()\n",
    "        total += yb.size(0)\n",
    "\n",
    "    train_acc = correct / total\n",
    "\n",
    "    # Validation loop\n",
    "    model.eval()\n",
    "    val_loss, val_correct, val_total = 0, 0, 0\n",
    "    val_preds, val_labels = [], []\n",
    "    with torch.no_grad():\n",
    "        for xb, yb in val_loader:\n",
    "            xb, yb = xb.to(device), yb.to(device)\n",
    "            recon, logits = model(xb)\n",
    "            recon_loss = criterion_recon(recon, xb)\n",
    "            cls_loss = criterion_cls(logits, yb)\n",
    "            loss = 0.3 * recon_loss + 0.7 * cls_loss\n",
    "\n",
    "            val_loss += loss.item()\n",
    "            preds = logits.argmax(1)\n",
    "            val_preds.extend(preds.cpu().numpy())\n",
    "            val_labels.extend(yb.cpu().numpy())\n",
    "            val_correct += (preds == yb).sum().item()\n",
    "            val_total += yb.size(0)\n",
    "\n",
    "    val_acc = val_correct / val_total\n",
    "    val_f1 = f1_score(val_labels, val_preds, average='macro')\n",
    "    scheduler.step(val_f1)\n",
    "\n",
    "    # Save best model\n",
    "    if val_f1 > best_val_f1:\n",
    "        best_val_f1 = val_f1\n",
    "        torch.save(model.state_dict(), \"best_model.pt\")\n",
    "\n",
    "    # Log for plotting\n",
    "    train_losses.append(total_loss / len(train_loader))\n",
    "    val_losses.append(val_loss / len(val_loader))\n",
    "    train_accs.append(train_acc)\n",
    "    val_accs.append(val_acc)\n",
    "    val_f1s.append(val_f1)\n",
    "\n",
    "    print(f\"\\nEpoch {epoch+1} Summary:\")\n",
    "    print(f\"Train Acc: {train_acc:.4f}, Train Loss: {train_losses[-1]:.4f}\")\n",
    "    print(f\"Val Acc: {val_acc:.4f}, Val F1 (macro): {val_f1:.4f}, Val Loss: {val_losses[-1]:.4f}\")\n",
    "\n",
    "# Plotting curves\n",
    "plt.figure(figsize=(12, 5))\n",
    "\n",
    "plt.subplot(1, 2, 1)\n",
    "plt.plot(train_losses, label='Train Loss')\n",
    "plt.plot(val_losses, label='Val Loss')\n",
    "plt.xlabel('Epoch')\n",
    "plt.ylabel('Loss')\n",
    "plt.title('Loss Curve')\n",
    "plt.legend()\n",
    "\n",
    "plt.subplot(1, 2, 2)\n",
    "plt.plot(train_accs, label='Train Acc')\n",
    "plt.plot(val_accs, label='Val Acc')\n",
    "plt.xlabel('Epoch')\n",
    "plt.ylabel('Metric')\n",
    "plt.title('Accuracy')\n",
    "plt.legend()\n",
    "\n",
    "plt.tight_layout()\n",
    "plt.savefig(\"training_curves_ae.pdf\", dpi=300)\n",
    "plt.show()\n",
    "\n",
    "# Final evaluation on test set\n",
    "model.load_state_dict(torch.load(\"best_model.pt\"))\n",
    "model.eval()\n",
    "test_preds, test_labels = [], []\n",
    "with torch.no_grad():\n",
    "    for xb, yb in test_loader:\n",
    "        xb = xb.to(device)\n",
    "        _, logits = model(xb)\n",
    "        preds = logits.argmax(1).cpu().numpy()\n",
    "        test_preds.extend(preds)\n",
    "        test_labels.extend(yb.numpy())\n",
    "\n",
    "print(\"\\nFinal Test Evaluation:\")\n",
    "print(f\"Accuracy: {accuracy_score(test_labels, test_preds):.4f}\")\n",
    "print(f\"F1 Score (macro): {f1_score(test_labels, test_preds, average='macro'):.4f}\")\n",
    "print(f\"F1 Score (weighted): {f1_score(test_labels, test_preds, average='weighted'):.4f}\")\n",
    "print(\"\\nPer-Class Classification Report:\")\n",
    "print(classification_report(test_labels, test_preds, digits=4))\n",
    "print(\"Confusion Matrix:\")\n",
    "print(confusion_matrix(test_labels, test_preds))\n"
   ],
   "id": "14daac873e1fc5db",
   "outputs": [
    {
     "name": "stderr",
     "output_type": "stream",
     "text": [
      "C:\\Users\\Admin\\AppData\\Local\\Programs\\Python\\Python313\\Lib\\site-packages\\torch\\optim\\lr_scheduler.py:62: UserWarning: The verbose parameter is deprecated. Please use get_last_lr() to access the learning rate.\n",
      "  warnings.warn(\n",
      "                                                              \r"
     ]
    },
    {
     "name": "stdout",
     "output_type": "stream",
     "text": [
      "\n",
      "Epoch 1 Summary:\n",
      "Train Acc: 0.9024, Train Loss: 0.3565\n",
      "Val Acc: 0.9461, Val F1 (macro): 0.9461, Val Loss: 0.1978\n"
     ]
    },
    {
     "name": "stderr",
     "output_type": "stream",
     "text": [
      "                                                              \r"
     ]
    },
    {
     "name": "stdout",
     "output_type": "stream",
     "text": [
      "\n",
      "Epoch 2 Summary:\n",
      "Train Acc: 0.9240, Train Loss: 0.2573\n",
      "Val Acc: 0.9494, Val F1 (macro): 0.9494, Val Loss: 0.1722\n"
     ]
    },
    {
     "name": "stderr",
     "output_type": "stream",
     "text": [
      "                                                              \r"
     ]
    },
    {
     "name": "stdout",
     "output_type": "stream",
     "text": [
      "\n",
      "Epoch 3 Summary:\n",
      "Train Acc: 0.9248, Train Loss: 0.2463\n",
      "Val Acc: 0.9456, Val F1 (macro): 0.9455, Val Loss: 0.1673\n"
     ]
    },
    {
     "name": "stderr",
     "output_type": "stream",
     "text": [
      "                                                              \r"
     ]
    },
    {
     "name": "stdout",
     "output_type": "stream",
     "text": [
      "\n",
      "Epoch 4 Summary:\n",
      "Train Acc: 0.9240, Train Loss: 0.2358\n",
      "Val Acc: 0.9533, Val F1 (macro): 0.9533, Val Loss: 0.1617\n"
     ]
    },
    {
     "name": "stderr",
     "output_type": "stream",
     "text": [
      "                                                              \r"
     ]
    },
    {
     "name": "stdout",
     "output_type": "stream",
     "text": [
      "\n",
      "Epoch 5 Summary:\n",
      "Train Acc: 0.9338, Train Loss: 0.2233\n",
      "Val Acc: 0.9517, Val F1 (macro): 0.9516, Val Loss: 0.1576\n"
     ]
    },
    {
     "name": "stderr",
     "output_type": "stream",
     "text": [
      "                                                              \r"
     ]
    },
    {
     "name": "stdout",
     "output_type": "stream",
     "text": [
      "\n",
      "Epoch 6 Summary:\n",
      "Train Acc: 0.9260, Train Loss: 0.2179\n",
      "Val Acc: 0.9533, Val F1 (macro): 0.9533, Val Loss: 0.1528\n"
     ]
    },
    {
     "name": "stderr",
     "output_type": "stream",
     "text": [
      "                                                              \r"
     ]
    },
    {
     "name": "stdout",
     "output_type": "stream",
     "text": [
      "\n",
      "Epoch 7 Summary:\n",
      "Train Acc: 0.9279, Train Loss: 0.2068\n",
      "Val Acc: 0.9494, Val F1 (macro): 0.9494, Val Loss: 0.1482\n"
     ]
    },
    {
     "name": "stderr",
     "output_type": "stream",
     "text": [
      "                                                              \r"
     ]
    },
    {
     "name": "stdout",
     "output_type": "stream",
     "text": [
      "\n",
      "Epoch 8 Summary:\n",
      "Train Acc: 0.9333, Train Loss: 0.2060\n",
      "Val Acc: 0.9494, Val F1 (macro): 0.9494, Val Loss: 0.1620\n"
     ]
    },
    {
     "name": "stderr",
     "output_type": "stream",
     "text": [
      "                                                              \r"
     ]
    },
    {
     "name": "stdout",
     "output_type": "stream",
     "text": [
      "\n",
      "Epoch 9 Summary:\n",
      "Train Acc: 0.9414, Train Loss: 0.1906\n",
      "Val Acc: 0.9533, Val F1 (macro): 0.9533, Val Loss: 0.1741\n"
     ]
    },
    {
     "name": "stderr",
     "output_type": "stream",
     "text": [
      "                                                               \r"
     ]
    },
    {
     "name": "stdout",
     "output_type": "stream",
     "text": [
      "\n",
      "Epoch 10 Summary:\n",
      "Train Acc: 0.9371, Train Loss: 0.1879\n",
      "Val Acc: 0.9494, Val F1 (macro): 0.9494, Val Loss: 0.1549\n"
     ]
    },
    {
     "name": "stderr",
     "output_type": "stream",
     "text": [
      "                                                               \r"
     ]
    },
    {
     "name": "stdout",
     "output_type": "stream",
     "text": [
      "\n",
      "Epoch 11 Summary:\n",
      "Train Acc: 0.9364, Train Loss: 0.1938\n",
      "Val Acc: 0.9517, Val F1 (macro): 0.9516, Val Loss: 0.1489\n"
     ]
    },
    {
     "name": "stderr",
     "output_type": "stream",
     "text": [
      "                                                               \r"
     ]
    },
    {
     "name": "stdout",
     "output_type": "stream",
     "text": [
      "\n",
      "Epoch 12 Summary:\n",
      "Train Acc: 0.9388, Train Loss: 0.1820\n",
      "Val Acc: 0.9544, Val F1 (macro): 0.9544, Val Loss: 0.1392\n"
     ]
    },
    {
     "name": "stderr",
     "output_type": "stream",
     "text": [
      "                                                               \r"
     ]
    },
    {
     "name": "stdout",
     "output_type": "stream",
     "text": [
      "\n",
      "Epoch 13 Summary:\n",
      "Train Acc: 0.9398, Train Loss: 0.1847\n",
      "Val Acc: 0.9539, Val F1 (macro): 0.9539, Val Loss: 0.1523\n"
     ]
    },
    {
     "name": "stderr",
     "output_type": "stream",
     "text": [
      "                                                               \r"
     ]
    },
    {
     "name": "stdout",
     "output_type": "stream",
     "text": [
      "\n",
      "Epoch 14 Summary:\n",
      "Train Acc: 0.9426, Train Loss: 0.1802\n",
      "Val Acc: 0.9522, Val F1 (macro): 0.9522, Val Loss: 0.1455\n"
     ]
    },
    {
     "name": "stderr",
     "output_type": "stream",
     "text": [
      "                                                               \r"
     ]
    },
    {
     "name": "stdout",
     "output_type": "stream",
     "text": [
      "\n",
      "Epoch 15 Summary:\n",
      "Train Acc: 0.9386, Train Loss: 0.1818\n",
      "Val Acc: 0.9539, Val F1 (macro): 0.9538, Val Loss: 0.1459\n"
     ]
    },
    {
     "name": "stderr",
     "output_type": "stream",
     "text": [
      "                                                               \r"
     ]
    },
    {
     "name": "stdout",
     "output_type": "stream",
     "text": [
      "\n",
      "Epoch 16 Summary:\n",
      "Train Acc: 0.9405, Train Loss: 0.1773\n",
      "Val Acc: 0.9539, Val F1 (macro): 0.9539, Val Loss: 0.1720\n"
     ]
    },
    {
     "name": "stderr",
     "output_type": "stream",
     "text": [
      "                                                               \r"
     ]
    },
    {
     "name": "stdout",
     "output_type": "stream",
     "text": [
      "\n",
      "Epoch 17 Summary:\n",
      "Train Acc: 0.9448, Train Loss: 0.1764\n",
      "Val Acc: 0.9544, Val F1 (macro): 0.9544, Val Loss: 0.1470\n"
     ]
    },
    {
     "name": "stderr",
     "output_type": "stream",
     "text": [
      "                                                               \r"
     ]
    },
    {
     "name": "stdout",
     "output_type": "stream",
     "text": [
      "\n",
      "Epoch 18 Summary:\n",
      "Train Acc: 0.9421, Train Loss: 0.1701\n",
      "Val Acc: 0.9556, Val F1 (macro): 0.9555, Val Loss: 0.1547\n"
     ]
    },
    {
     "name": "stderr",
     "output_type": "stream",
     "text": [
      "                                                               \r"
     ]
    },
    {
     "name": "stdout",
     "output_type": "stream",
     "text": [
      "\n",
      "Epoch 19 Summary:\n",
      "Train Acc: 0.9407, Train Loss: 0.1782\n",
      "Val Acc: 0.9556, Val F1 (macro): 0.9555, Val Loss: 0.1409\n"
     ]
    },
    {
     "name": "stderr",
     "output_type": "stream",
     "text": [
      "                                                               \r"
     ]
    },
    {
     "name": "stdout",
     "output_type": "stream",
     "text": [
      "\n",
      "Epoch 20 Summary:\n",
      "Train Acc: 0.9414, Train Loss: 0.1786\n",
      "Val Acc: 0.9561, Val F1 (macro): 0.9561, Val Loss: 0.1493\n"
     ]
    },
    {
     "name": "stderr",
     "output_type": "stream",
     "text": [
      "                                                               \r"
     ]
    },
    {
     "name": "stdout",
     "output_type": "stream",
     "text": [
      "\n",
      "Epoch 21 Summary:\n",
      "Train Acc: 0.9443, Train Loss: 0.1708\n",
      "Val Acc: 0.9578, Val F1 (macro): 0.9578, Val Loss: 0.1555\n"
     ]
    },
    {
     "name": "stderr",
     "output_type": "stream",
     "text": [
      "                                                               \r"
     ]
    },
    {
     "name": "stdout",
     "output_type": "stream",
     "text": [
      "\n",
      "Epoch 22 Summary:\n",
      "Train Acc: 0.9452, Train Loss: 0.1780\n",
      "Val Acc: 0.9550, Val F1 (macro): 0.9550, Val Loss: 0.1431\n"
     ]
    },
    {
     "name": "stderr",
     "output_type": "stream",
     "text": [
      "                                                               \r"
     ]
    },
    {
     "name": "stdout",
     "output_type": "stream",
     "text": [
      "\n",
      "Epoch 23 Summary:\n",
      "Train Acc: 0.9455, Train Loss: 0.1674\n",
      "Val Acc: 0.9550, Val F1 (macro): 0.9550, Val Loss: 0.1443\n"
     ]
    },
    {
     "name": "stderr",
     "output_type": "stream",
     "text": [
      "                                                               \r"
     ]
    },
    {
     "name": "stdout",
     "output_type": "stream",
     "text": [
      "\n",
      "Epoch 24 Summary:\n",
      "Train Acc: 0.9460, Train Loss: 0.1658\n",
      "Val Acc: 0.9528, Val F1 (macro): 0.9528, Val Loss: 0.1419\n"
     ]
    },
    {
     "name": "stderr",
     "output_type": "stream",
     "text": [
      "                                                               \r"
     ]
    },
    {
     "name": "stdout",
     "output_type": "stream",
     "text": [
      "\n",
      "Epoch 25 Summary:\n",
      "Train Acc: 0.9433, Train Loss: 0.1707\n",
      "Val Acc: 0.9550, Val F1 (macro): 0.9550, Val Loss: 0.1449\n"
     ]
    },
    {
     "name": "stderr",
     "output_type": "stream",
     "text": [
      "                                                               \r"
     ]
    },
    {
     "name": "stdout",
     "output_type": "stream",
     "text": [
      "\n",
      "Epoch 26 Summary:\n",
      "Train Acc: 0.9460, Train Loss: 0.1651\n",
      "Val Acc: 0.9550, Val F1 (macro): 0.9550, Val Loss: 0.1522\n"
     ]
    },
    {
     "name": "stderr",
     "output_type": "stream",
     "text": [
      "                                                               \r"
     ]
    },
    {
     "name": "stdout",
     "output_type": "stream",
     "text": [
      "\n",
      "Epoch 27 Summary:\n",
      "Train Acc: 0.9407, Train Loss: 0.1697\n",
      "Val Acc: 0.9533, Val F1 (macro): 0.9533, Val Loss: 0.1516\n"
     ]
    },
    {
     "name": "stderr",
     "output_type": "stream",
     "text": [
      "                                                               \r"
     ]
    },
    {
     "name": "stdout",
     "output_type": "stream",
     "text": [
      "\n",
      "Epoch 28 Summary:\n",
      "Train Acc: 0.9443, Train Loss: 0.1666\n",
      "Val Acc: 0.9556, Val F1 (macro): 0.9555, Val Loss: 0.1455\n"
     ]
    },
    {
     "name": "stderr",
     "output_type": "stream",
     "text": [
      "                                                               \r"
     ]
    },
    {
     "name": "stdout",
     "output_type": "stream",
     "text": [
      "\n",
      "Epoch 29 Summary:\n",
      "Train Acc: 0.9474, Train Loss: 0.1617\n",
      "Val Acc: 0.9561, Val F1 (macro): 0.9561, Val Loss: 0.1483\n"
     ]
    },
    {
     "name": "stderr",
     "output_type": "stream",
     "text": [
      "                                                               \r"
     ]
    },
    {
     "name": "stdout",
     "output_type": "stream",
     "text": [
      "\n",
      "Epoch 30 Summary:\n",
      "Train Acc: 0.9505, Train Loss: 0.1634\n",
      "Val Acc: 0.9467, Val F1 (macro): 0.9466, Val Loss: 0.1621\n"
     ]
    },
    {
     "name": "stderr",
     "output_type": "stream",
     "text": [
      "                                                               \r"
     ]
    },
    {
     "name": "stdout",
     "output_type": "stream",
     "text": [
      "\n",
      "Epoch 31 Summary:\n",
      "Train Acc: 0.9398, Train Loss: 0.1741\n",
      "Val Acc: 0.9550, Val F1 (macro): 0.9550, Val Loss: 0.1360\n"
     ]
    },
    {
     "name": "stderr",
     "output_type": "stream",
     "text": [
      "                                                               \r"
     ]
    },
    {
     "name": "stdout",
     "output_type": "stream",
     "text": [
      "\n",
      "Epoch 32 Summary:\n",
      "Train Acc: 0.9431, Train Loss: 0.1693\n",
      "Val Acc: 0.9556, Val F1 (macro): 0.9556, Val Loss: 0.1440\n"
     ]
    },
    {
     "name": "stderr",
     "output_type": "stream",
     "text": [
      "                                                               \r"
     ]
    },
    {
     "name": "stdout",
     "output_type": "stream",
     "text": [
      "\n",
      "Epoch 33 Summary:\n",
      "Train Acc: 0.9421, Train Loss: 0.1630\n",
      "Val Acc: 0.9567, Val F1 (macro): 0.9567, Val Loss: 0.1458\n"
     ]
    },
    {
     "name": "stderr",
     "output_type": "stream",
     "text": [
      "                                                               \r"
     ]
    },
    {
     "name": "stdout",
     "output_type": "stream",
     "text": [
      "\n",
      "Epoch 34 Summary:\n",
      "Train Acc: 0.9479, Train Loss: 0.1601\n",
      "Val Acc: 0.9544, Val F1 (macro): 0.9544, Val Loss: 0.1384\n"
     ]
    },
    {
     "name": "stderr",
     "output_type": "stream",
     "text": [
      "                                                               \r"
     ]
    },
    {
     "name": "stdout",
     "output_type": "stream",
     "text": [
      "\n",
      "Epoch 35 Summary:\n",
      "Train Acc: 0.9460, Train Loss: 0.1681\n",
      "Val Acc: 0.9489, Val F1 (macro): 0.9488, Val Loss: 0.1517\n"
     ]
    },
    {
     "name": "stderr",
     "output_type": "stream",
     "text": [
      "                                                               \r"
     ]
    },
    {
     "name": "stdout",
     "output_type": "stream",
     "text": [
      "\n",
      "Epoch 36 Summary:\n",
      "Train Acc: 0.9417, Train Loss: 0.1714\n",
      "Val Acc: 0.9544, Val F1 (macro): 0.9544, Val Loss: 0.1396\n"
     ]
    },
    {
     "name": "stderr",
     "output_type": "stream",
     "text": [
      "                                                               \r"
     ]
    },
    {
     "name": "stdout",
     "output_type": "stream",
     "text": [
      "\n",
      "Epoch 37 Summary:\n",
      "Train Acc: 0.9481, Train Loss: 0.1647\n",
      "Val Acc: 0.9533, Val F1 (macro): 0.9533, Val Loss: 0.1408\n"
     ]
    },
    {
     "name": "stderr",
     "output_type": "stream",
     "text": [
      "                                                               \r"
     ]
    },
    {
     "name": "stdout",
     "output_type": "stream",
     "text": [
      "\n",
      "Epoch 38 Summary:\n",
      "Train Acc: 0.9438, Train Loss: 0.1626\n",
      "Val Acc: 0.9539, Val F1 (macro): 0.9539, Val Loss: 0.1398\n"
     ]
    },
    {
     "name": "stderr",
     "output_type": "stream",
     "text": [
      "                                                               \r"
     ]
    },
    {
     "name": "stdout",
     "output_type": "stream",
     "text": [
      "\n",
      "Epoch 39 Summary:\n",
      "Train Acc: 0.9486, Train Loss: 0.1526\n",
      "Val Acc: 0.9572, Val F1 (macro): 0.9572, Val Loss: 0.1380\n"
     ]
    },
    {
     "name": "stderr",
     "output_type": "stream",
     "text": [
      "                                                               \r"
     ]
    },
    {
     "name": "stdout",
     "output_type": "stream",
     "text": [
      "\n",
      "Epoch 40 Summary:\n",
      "Train Acc: 0.9469, Train Loss: 0.1624\n",
      "Val Acc: 0.9567, Val F1 (macro): 0.9566, Val Loss: 0.1405\n"
     ]
    },
    {
     "name": "stderr",
     "output_type": "stream",
     "text": [
      "                                                               \r"
     ]
    },
    {
     "name": "stdout",
     "output_type": "stream",
     "text": [
      "\n",
      "Epoch 41 Summary:\n",
      "Train Acc: 0.9490, Train Loss: 0.1549\n",
      "Val Acc: 0.9544, Val F1 (macro): 0.9544, Val Loss: 0.1378\n"
     ]
    },
    {
     "name": "stderr",
     "output_type": "stream",
     "text": [
      "                                                               \r"
     ]
    },
    {
     "name": "stdout",
     "output_type": "stream",
     "text": [
      "\n",
      "Epoch 42 Summary:\n",
      "Train Acc: 0.9479, Train Loss: 0.1656\n",
      "Val Acc: 0.9539, Val F1 (macro): 0.9538, Val Loss: 0.1409\n"
     ]
    },
    {
     "name": "stderr",
     "output_type": "stream",
     "text": [
      "                                                               \r"
     ]
    },
    {
     "name": "stdout",
     "output_type": "stream",
     "text": [
      "\n",
      "Epoch 43 Summary:\n",
      "Train Acc: 0.9505, Train Loss: 0.1613\n",
      "Val Acc: 0.9567, Val F1 (macro): 0.9566, Val Loss: 0.1402\n"
     ]
    },
    {
     "name": "stderr",
     "output_type": "stream",
     "text": [
      "                                                               \r"
     ]
    },
    {
     "name": "stdout",
     "output_type": "stream",
     "text": [
      "\n",
      "Epoch 44 Summary:\n",
      "Train Acc: 0.9448, Train Loss: 0.1655\n",
      "Val Acc: 0.9561, Val F1 (macro): 0.9561, Val Loss: 0.1421\n"
     ]
    },
    {
     "name": "stderr",
     "output_type": "stream",
     "text": [
      "                                                               \r"
     ]
    },
    {
     "name": "stdout",
     "output_type": "stream",
     "text": [
      "\n",
      "Epoch 45 Summary:\n",
      "Train Acc: 0.9448, Train Loss: 0.1621\n",
      "Val Acc: 0.9556, Val F1 (macro): 0.9555, Val Loss: 0.1443\n"
     ]
    },
    {
     "name": "stderr",
     "output_type": "stream",
     "text": [
      "                                                               \r"
     ]
    },
    {
     "name": "stdout",
     "output_type": "stream",
     "text": [
      "\n",
      "Epoch 46 Summary:\n",
      "Train Acc: 0.9476, Train Loss: 0.1690\n",
      "Val Acc: 0.9494, Val F1 (macro): 0.9494, Val Loss: 0.1633\n"
     ]
    },
    {
     "name": "stderr",
     "output_type": "stream",
     "text": [
      "                                                               \r"
     ]
    },
    {
     "name": "stdout",
     "output_type": "stream",
     "text": [
      "\n",
      "Epoch 47 Summary:\n",
      "Train Acc: 0.9479, Train Loss: 0.1643\n",
      "Val Acc: 0.9561, Val F1 (macro): 0.9561, Val Loss: 0.1417\n"
     ]
    },
    {
     "name": "stderr",
     "output_type": "stream",
     "text": [
      "                                                               \r"
     ]
    },
    {
     "name": "stdout",
     "output_type": "stream",
     "text": [
      "\n",
      "Epoch 48 Summary:\n",
      "Train Acc: 0.9440, Train Loss: 0.1674\n",
      "Val Acc: 0.9556, Val F1 (macro): 0.9555, Val Loss: 0.1472\n"
     ]
    },
    {
     "name": "stderr",
     "output_type": "stream",
     "text": [
      "                                                               \r"
     ]
    },
    {
     "name": "stdout",
     "output_type": "stream",
     "text": [
      "\n",
      "Epoch 49 Summary:\n",
      "Train Acc: 0.9510, Train Loss: 0.1582\n",
      "Val Acc: 0.9522, Val F1 (macro): 0.9522, Val Loss: 0.1412\n"
     ]
    },
    {
     "name": "stderr",
     "output_type": "stream",
     "text": [
      "                                                               \r"
     ]
    },
    {
     "name": "stdout",
     "output_type": "stream",
     "text": [
      "\n",
      "Epoch 50 Summary:\n",
      "Train Acc: 0.9455, Train Loss: 0.1595\n",
      "Val Acc: 0.9561, Val F1 (macro): 0.9561, Val Loss: 0.1400\n"
     ]
    },
    {
     "data": {
      "text/plain": [
       "<Figure size 1200x500 with 2 Axes>"
      ],
      "image/png": "[encoded data removed]"
     },
     "metadata": {},
     "output_type": "display_data"
    },
    {
     "name": "stdout",
     "output_type": "stream",
     "text": [
      "\n",
      "Final Test Evaluation:\n",
      "Accuracy: 0.9750\n",
      "F1 Score (macro): 0.9750\n",
      "F1 Score (weighted): 0.9750\n",
      "\n",
      "Per-Class Classification Report:\n",
      "              precision    recall  f1-score   support\n",
      "\n",
      "           0     0.9524    1.0000    0.9756        20\n",
      "           1     1.0000    0.9500    0.9744        20\n",
      "\n",
      "    accuracy                         0.9750        40\n",
      "   macro avg     0.9762    0.9750    0.9750        40\n",
      "weighted avg     0.9762    0.9750    0.9750        40\n",
      "\n",
      "Confusion Matrix:\n",
      "[[20  0]\n",
      " [ 1 19]]\n"
     ]
    }
   ],
   "execution_count": 267
  },
  {
   "metadata": {
    "ExecuteTime": {
     "end_time": "2025-04-29T08:51:14.858679Z",
     "start_time": "2025-04-29T08:51:10.246504Z"
    }
   },
   "cell_type": "code",
   "source": [
    "import torch\n",
    "import torch.nn as nn\n",
    "from torch.utils.data import DataLoader\n",
    "\n",
    "# Simple MLP model\n",
    "import torch\n",
    "import torch.nn as nn\n",
    "\n",
    "class MLPClassifier(nn.Module):\n",
    "    def __init__(self, input_dim, hidden_dims, num_classes=2, dropout_rate=0.2):\n",
    "        \"\"\"\n",
    "        Args:\n",
    "            input_dim (int): Number of input features.\n",
    "            hidden_dims (list[int]): Sizes of hidden layers, e.g., [128, 64].\n",
    "            num_classes (int): Number of output classes.\n",
    "            dropout_rate (float): Dropout probability.\n",
    "        \"\"\"\n",
    "        super(MLPClassifier, self).__init__()\n",
    "        \n",
    "        self.input_dim = input_dim\n",
    "        self.hidden_dims = hidden_dims\n",
    "        self.num_classes = num_classes\n",
    "        self.dropout_rate = dropout_rate\n",
    "        \n",
    "        self.model = self._build_model()\n",
    "    \n",
    "    def _build_model(self):\n",
    "        layers = []\n",
    "        dims = [self.input_dim] + self.hidden_dims\n",
    "        \n",
    "        for i in range(len(self.hidden_dims)):\n",
    "            layers.append(nn.Linear(dims[i], dims[i+1]))\n",
    "            layers.append(nn.BatchNorm1d(dims[i+1]))\n",
    "            layers.append(nn.ReLU())\n",
    "            layers.append(nn.Dropout(self.dropout_rate))\n",
    "        \n",
    "        # Output layer\n",
    "        layers.append(nn.Linear(dims[-1], self.num_classes))\n",
    "        \n",
    "        return nn.Sequential(*layers)\n",
    "\n",
    "    def forward(self, x):\n",
    "        return self.model(x)\n",
    "\n",
    "\n",
    "train_dataset = TabularDataset(train_x, train_y)\n",
    "val_dataset = TabularDataset(val_x, val_y)\n",
    "test_dataset = TabularDataset(test_x, test_y)\n",
    "\n",
    "train_loader = DataLoader(train_dataset, batch_size=64, shuffle=True)\n",
    "val_loader = DataLoader(val_dataset, batch_size=64, shuffle=False)\n",
    "test_loader = DataLoader(test_dataset, batch_size=64, shuffle=False)\n",
    "\n",
    "# Initialize model\n",
    "mlp_model = MLPClassifier(input_dim=train_x.shape[1], hidden_dims=[64]).to(device)\n",
    "\n",
    "# Loss, optimizer, scheduler\n",
    "criterion = nn.CrossEntropyLoss()\n",
    "optimizer = torch.optim.Adam(mlp_model.parameters(), lr=1e-3)\n",
    "scheduler = torch.optim.lr_scheduler.ReduceLROnPlateau(optimizer, mode='min', factor=0.5, patience=2)\n",
    "# For plotting\n",
    "train_losses, val_losses = [], []\n",
    "train_accs, val_accs = [], []\n",
    "val_f1s = []\n",
    "\n",
    "# Training loop\n",
    "best_val_f1 = 0\n",
    "for epoch in range(20):\n",
    "    mlp_model.train()\n",
    "    total_loss, correct, total = 0, 0, 0\n",
    "    for xb, yb in tqdm(train_loader, desc=f\"Epoch {epoch+1}/20\", leave=False):\n",
    "        xb, yb = xb.to(device), yb.to(device)\n",
    "        logits = mlp_model(xb)\n",
    "        loss = criterion(logits, yb)\n",
    "\n",
    "        optimizer.zero_grad()\n",
    "        loss.backward()\n",
    "        optimizer.step()\n",
    "\n",
    "        total_loss += loss.item()\n",
    "        preds = logits.argmax(1)\n",
    "        correct += (preds == yb).sum().item()\n",
    "        total += yb.size(0)\n",
    "\n",
    "    train_acc = correct / total\n",
    "\n",
    "    # Validation\n",
    "    mlp_model.eval()\n",
    "    val_loss, val_correct, val_total = 0, 0, 0\n",
    "    val_preds, val_labels = [], []\n",
    "    with torch.no_grad():\n",
    "        for xb, yb in val_loader:\n",
    "            xb, yb = xb.to(device), yb.to(device)\n",
    "            logits = mlp_model(xb)\n",
    "            loss = criterion(logits, yb)\n",
    "            val_loss += loss.item()\n",
    "\n",
    "            preds = logits.argmax(1)\n",
    "            val_preds.extend(preds.cpu().numpy())\n",
    "            val_labels.extend(yb.cpu().numpy())\n",
    "            val_correct += (preds == yb).sum().item()\n",
    "            val_total += yb.size(0)\n",
    "\n",
    "    val_acc = val_correct / val_total\n",
    "    val_f1 = f1_score(val_labels, val_preds, average='macro')\n",
    "    scheduler.step(val_loss)\n",
    "\n",
    "    # Log for plotting\n",
    "    train_losses.append(total_loss / len(train_loader))\n",
    "    val_losses.append(val_loss / len(val_loader))\n",
    "    train_accs.append(train_acc)\n",
    "    val_accs.append(val_acc)\n",
    "    val_f1s.append(val_f1)\n",
    "    print(f\"\\nEpoch {epoch+1} Summary:\")\n",
    "    print(f\"Train Acc: {train_acc:.4f}, Train Loss: {total_loss/len(train_loader):.4f}\")\n",
    "    print(f\"Val Acc: {val_acc:.4f}, Val F1 (macro): {val_f1:.4f}, Val Loss: {val_loss/len(val_loader):.4f}\")\n",
    "\n",
    "    if val_f1 > best_val_f1:\n",
    "        best_val_f1 = val_f1\n",
    "        torch.save(mlp_model.state_dict(), \"best_mlp_model.pt\")\n",
    "\n",
    "plt.figure(figsize=(12, 5))\n",
    "\n",
    "plt.subplot(1, 2, 1)\n",
    "plt.plot(train_losses, label='Train Loss')\n",
    "plt.plot(val_losses, label='Val Loss')\n",
    "plt.xlabel('Epoch')\n",
    "plt.ylabel('Loss')\n",
    "plt.title('Loss Curve (MLP)')\n",
    "plt.legend()\n",
    "\n",
    "plt.subplot(1, 2, 2)\n",
    "plt.plot(train_accs, label='Train Acc')\n",
    "plt.plot(val_accs, label='Val Acc')\n",
    "plt.xlabel('Epoch')\n",
    "plt.ylabel('Metric')\n",
    "plt.title('Accuracy')\n",
    "plt.legend()\n",
    "\n",
    "plt.tight_layout()\n",
    "plt.savefig(\"training_curves_mlp.pdf\", dpi=300)\n",
    "plt.show()\n",
    "# Final evaluation on test set\n",
    "mlp_model.load_state_dict(torch.load(\"best_mlp_model.pt\"))\n",
    "mlp_model.eval()\n",
    "test_preds, test_labels = [], []\n",
    "with torch.no_grad():\n",
    "    for xb, yb in test_loader:\n",
    "        xb = xb.to(device)\n",
    "        logits = mlp_model(xb)\n",
    "        preds = logits.argmax(1).cpu().numpy()\n",
    "        test_preds.extend(preds)\n",
    "        test_labels.extend(yb.numpy())\n",
    "\n",
    "print(\"\\nFinal Test Evaluation (MLP):\")\n",
    "print(f\"Accuracy: {accuracy_score(test_labels, test_preds):.4f}\")\n",
    "print(f\"F1 Score (macro): {f1_score(test_labels, test_preds, average='macro'):.4f}\")\n",
    "print(f\"F1 Score (weighted): {f1_score(test_labels, test_preds, average='weighted'):.4f}\")\n",
    "\n",
    "print(\"\\nClassification Report:\")\n",
    "print(classification_report(test_labels, test_preds, digits=4))\n",
    "\n",
    "print(\"Confusion Matrix:\")\n",
    "print(confusion_matrix(test_labels, test_preds))\n"
   ],
   "id": "bb44f36d6e2adea6",
   "outputs": [
    {
     "name": "stderr",
     "output_type": "stream",
     "text": [
      "                                                            \r"
     ]
    },
    {
     "name": "stdout",
     "output_type": "stream",
     "text": [
      "\n",
      "Epoch 1 Summary:\n",
      "Train Acc: 0.8314, Train Loss: 0.4163\n",
      "Val Acc: 0.9067, Val F1 (macro): 0.9063, Val Loss: 0.2685\n"
     ]
    },
    {
     "name": "stderr",
     "output_type": "stream",
     "text": [
      "                                                            \r"
     ]
    },
    {
     "name": "stdout",
     "output_type": "stream",
     "text": [
      "\n",
      "Epoch 2 Summary:\n",
      "Train Acc: 0.9117, Train Loss: 0.2354\n",
      "Val Acc: 0.9294, Val F1 (macro): 0.9293, Val Loss: 0.2088\n"
     ]
    },
    {
     "name": "stderr",
     "output_type": "stream",
     "text": [
      "                                                            \r"
     ]
    },
    {
     "name": "stdout",
     "output_type": "stream",
     "text": [
      "\n",
      "Epoch 3 Summary:\n",
      "Train Acc: 0.9236, Train Loss: 0.1995\n",
      "Val Acc: 0.9406, Val F1 (macro): 0.9405, Val Loss: 0.1831\n"
     ]
    },
    {
     "name": "stderr",
     "output_type": "stream",
     "text": [
      "                                                            \r"
     ]
    },
    {
     "name": "stdout",
     "output_type": "stream",
     "text": [
      "\n",
      "Epoch 4 Summary:\n",
      "Train Acc: 0.9362, Train Loss: 0.1790\n",
      "Val Acc: 0.9450, Val F1 (macro): 0.9449, Val Loss: 0.1698\n"
     ]
    },
    {
     "name": "stderr",
     "output_type": "stream",
     "text": [
      "                                                            \r"
     ]
    },
    {
     "name": "stdout",
     "output_type": "stream",
     "text": [
      "\n",
      "Epoch 5 Summary:\n",
      "Train Acc: 0.9398, Train Loss: 0.1679\n",
      "Val Acc: 0.9500, Val F1 (macro): 0.9499, Val Loss: 0.1610\n"
     ]
    },
    {
     "name": "stderr",
     "output_type": "stream",
     "text": [
      "                                                            \r"
     ]
    },
    {
     "name": "stdout",
     "output_type": "stream",
     "text": [
      "\n",
      "Epoch 6 Summary:\n",
      "Train Acc: 0.9414, Train Loss: 0.1613\n",
      "Val Acc: 0.9461, Val F1 (macro): 0.9460, Val Loss: 0.1567\n"
     ]
    },
    {
     "name": "stderr",
     "output_type": "stream",
     "text": [
      "                                                            \r"
     ]
    },
    {
     "name": "stdout",
     "output_type": "stream",
     "text": [
      "\n",
      "Epoch 7 Summary:\n",
      "Train Acc: 0.9414, Train Loss: 0.1569\n",
      "Val Acc: 0.9539, Val F1 (macro): 0.9539, Val Loss: 0.1504\n"
     ]
    },
    {
     "name": "stderr",
     "output_type": "stream",
     "text": [
      "                                                            \r"
     ]
    },
    {
     "name": "stdout",
     "output_type": "stream",
     "text": [
      "\n",
      "Epoch 8 Summary:\n",
      "Train Acc: 0.9414, Train Loss: 0.1547\n",
      "Val Acc: 0.9533, Val F1 (macro): 0.9533, Val Loss: 0.1475\n"
     ]
    },
    {
     "name": "stderr",
     "output_type": "stream",
     "text": [
      "                                                            \r"
     ]
    },
    {
     "name": "stdout",
     "output_type": "stream",
     "text": [
      "\n",
      "Epoch 9 Summary:\n",
      "Train Acc: 0.9481, Train Loss: 0.1475\n",
      "Val Acc: 0.9544, Val F1 (macro): 0.9544, Val Loss: 0.1437\n"
     ]
    },
    {
     "name": "stderr",
     "output_type": "stream",
     "text": [
      "                                                             \r"
     ]
    },
    {
     "name": "stdout",
     "output_type": "stream",
     "text": [
      "\n",
      "Epoch 10 Summary:\n",
      "Train Acc: 0.9438, Train Loss: 0.1505\n",
      "Val Acc: 0.9528, Val F1 (macro): 0.9527, Val Loss: 0.1425\n"
     ]
    },
    {
     "name": "stderr",
     "output_type": "stream",
     "text": [
      "                                                             \r"
     ]
    },
    {
     "name": "stdout",
     "output_type": "stream",
     "text": [
      "\n",
      "Epoch 11 Summary:\n",
      "Train Acc: 0.9474, Train Loss: 0.1463\n",
      "Val Acc: 0.9544, Val F1 (macro): 0.9544, Val Loss: 0.1430\n"
     ]
    },
    {
     "name": "stderr",
     "output_type": "stream",
     "text": [
      "                                                             \r"
     ]
    },
    {
     "name": "stdout",
     "output_type": "stream",
     "text": [
      "\n",
      "Epoch 12 Summary:\n",
      "Train Acc: 0.9481, Train Loss: 0.1473\n",
      "Val Acc: 0.9556, Val F1 (macro): 0.9555, Val Loss: 0.1392\n"
     ]
    },
    {
     "name": "stderr",
     "output_type": "stream",
     "text": [
      "                                                             \r"
     ]
    },
    {
     "name": "stdout",
     "output_type": "stream",
     "text": [
      "\n",
      "Epoch 13 Summary:\n",
      "Train Acc: 0.9512, Train Loss: 0.1357\n",
      "Val Acc: 0.9550, Val F1 (macro): 0.9550, Val Loss: 0.1381\n"
     ]
    },
    {
     "name": "stderr",
     "output_type": "stream",
     "text": [
      "                                                             \r"
     ]
    },
    {
     "name": "stdout",
     "output_type": "stream",
     "text": [
      "\n",
      "Epoch 14 Summary:\n",
      "Train Acc: 0.9495, Train Loss: 0.1415\n",
      "Val Acc: 0.9567, Val F1 (macro): 0.9566, Val Loss: 0.1364\n"
     ]
    },
    {
     "name": "stderr",
     "output_type": "stream",
     "text": [
      "                                                             \r"
     ]
    },
    {
     "name": "stdout",
     "output_type": "stream",
     "text": [
      "\n",
      "Epoch 15 Summary:\n",
      "Train Acc: 0.9460, Train Loss: 0.1388\n",
      "Val Acc: 0.9556, Val F1 (macro): 0.9555, Val Loss: 0.1363\n"
     ]
    },
    {
     "name": "stderr",
     "output_type": "stream",
     "text": [
      "                                                             \r"
     ]
    },
    {
     "name": "stdout",
     "output_type": "stream",
     "text": [
      "\n",
      "Epoch 16 Summary:\n",
      "Train Acc: 0.9495, Train Loss: 0.1376\n",
      "Val Acc: 0.9561, Val F1 (macro): 0.9561, Val Loss: 0.1336\n"
     ]
    },
    {
     "name": "stderr",
     "output_type": "stream",
     "text": [
      "                                                             \r"
     ]
    },
    {
     "name": "stdout",
     "output_type": "stream",
     "text": [
      "\n",
      "Epoch 17 Summary:\n",
      "Train Acc: 0.9476, Train Loss: 0.1332\n",
      "Val Acc: 0.9544, Val F1 (macro): 0.9544, Val Loss: 0.1345\n"
     ]
    },
    {
     "name": "stderr",
     "output_type": "stream",
     "text": [
      "                                                             \r"
     ]
    },
    {
     "name": "stdout",
     "output_type": "stream",
     "text": [
      "\n",
      "Epoch 18 Summary:\n",
      "Train Acc: 0.9538, Train Loss: 0.1327\n",
      "Val Acc: 0.9556, Val F1 (macro): 0.9555, Val Loss: 0.1333\n"
     ]
    },
    {
     "name": "stderr",
     "output_type": "stream",
     "text": [
      "                                                             \r"
     ]
    },
    {
     "name": "stdout",
     "output_type": "stream",
     "text": [
      "\n",
      "Epoch 19 Summary:\n",
      "Train Acc: 0.9505, Train Loss: 0.1365\n",
      "Val Acc: 0.9550, Val F1 (macro): 0.9550, Val Loss: 0.1334\n"
     ]
    },
    {
     "name": "stderr",
     "output_type": "stream",
     "text": [
      "                                                             \r"
     ]
    },
    {
     "name": "stdout",
     "output_type": "stream",
     "text": [
      "\n",
      "Epoch 20 Summary:\n",
      "Train Acc: 0.9476, Train Loss: 0.1360\n",
      "Val Acc: 0.9561, Val F1 (macro): 0.9561, Val Loss: 0.1328\n"
     ]
    },
    {
     "data": {
      "text/plain": [
       "<Figure size 1200x500 with 2 Axes>"
      ],
      "image/png": "[encoded data removed]"
     },
     "metadata": {},
     "output_type": "display_data"
    },
    {
     "name": "stdout",
     "output_type": "stream",
     "text": [
      "\n",
      "Final Test Evaluation (MLP):\n",
      "Accuracy: 0.9750\n",
      "F1 Score (macro): 0.9750\n",
      "F1 Score (weighted): 0.9750\n",
      "\n",
      "Classification Report:\n",
      "              precision    recall  f1-score   support\n",
      "\n",
      "           0     0.9524    1.0000    0.9756        20\n",
      "           1     1.0000    0.9500    0.9744        20\n",
      "\n",
      "    accuracy                         0.9750        40\n",
      "   macro avg     0.9762    0.9750    0.9750        40\n",
      "weighted avg     0.9762    0.9750    0.9750        40\n",
      "\n",
      "Confusion Matrix:\n",
      "[[20  0]\n",
      " [ 1 19]]\n"
     ]
    }
   ],
   "execution_count": 268
  },
  {
   "metadata": {
    "ExecuteTime": {
     "end_time": "2025-04-29T08:51:16.556738Z",
     "start_time": "2025-04-29T08:51:16.551649Z"
    }
   },
   "cell_type": "code",
   "source": [
    "feature_columns = [\n",
    "        'ClksThisMin', 'medianKHz', 'avSPL', 'avPkAt',\n",
    "        'AvPRF', 'avEndF', 'tWUTrisk', 'nActualClx', 'nRisingIPIs',\n",
    "        'TrDur_us', 'nICIrising',\n",
    "        'MinICI_us', 'midpointICI', 'MaxICI_us', 'ClkNofMinICI',\n",
    "        'ClkNofMaxICI', 'NofClstrs',\n",
    "        'avClstrNx8', 'avPkIPI', 'BeforeIPIratio', 'PreIPIratio',\n",
    "        'Post1IPIratio', 'Post2IPIratio', 'EndIPIratio'\n",
    "    ]\n",
    "\n"
   ],
   "id": "6d12c04ce1166489",
   "outputs": [],
   "execution_count": 269
  },
  {
   "metadata": {
    "ExecuteTime": {
     "end_time": "2025-04-29T08:52:23.193076Z",
     "start_time": "2025-04-29T08:51:16.807054Z"
    }
   },
   "cell_type": "code",
   "source": [
    "from sklearn.ensemble import IsolationForest\n",
    "\n",
    "def filter_unlabeled(isolation, meta):\n",
    "    iso = IsolationForest(contamination=0.08, random_state=42)\n",
    "    outliers = iso.fit_predict(isolation)\n",
    "    filtered_signals = isolation[np.where(outliers == -1)[0]]\n",
    "    filtered_meta = meta[np.where(outliers == -1)[0]]\n",
    "    return filtered_signals, filtered_meta\n",
    "\n",
    "filtered_unlabeled, filtered_meta = filter_unlabeled(unlabeled_x, unlabeled_meta)\n",
    "# idx_class_1 = np.where(preds == 1)[0][0]\n",
    "\n",
    "# print(f\"Waterfall plot for predicted class 0 (index {idx_class_0}):\")\n",
    "# shap.plots.waterfall(shap.Explanation(\n",
    "#     values=shap_values[idx_class_0],\n",
    "#     base_values=explainer.expected_value,\n",
    "#     data=isolation[idx_class_0],\n",
    "#     feature_names=feature_columns,\n",
    "# ))\n",
    "# \n",
    "# print(f\"Waterfall plot for predicted class 1 (index {idx_class_1}):\")\n",
    "# shap.plots.waterfall(shap.Explanation(\n",
    "#     values=shap_values[idx_class_1],\n",
    "#     base_values=explainer.expected_value,\n",
    "#     data=isolation[idx_class_1],\n",
    "#     feature_names=feature_columns\n",
    "# ))\n",
    "print(len(unlabeled_x), len(filtered_unlabeled))"
   ],
   "id": "35701ca1e21b4787",
   "outputs": [
    {
     "name": "stdout",
     "output_type": "stream",
     "text": [
      "5232172 418574\n"
     ]
    }
   ],
   "execution_count": 270
  },
  {
   "metadata": {
    "ExecuteTime": {
     "end_time": "2025-04-29T08:52:23.418013Z",
     "start_time": "2025-04-29T08:52:23.406513Z"
    }
   },
   "cell_type": "code",
   "source": [
    "import numpy as np\n",
    "\n",
    "# def predict(model, x, device='cuda'):\n",
    "#     \"\"\"\n",
    "#     Predict class labels for input x.\n",
    "#     Args:\n",
    "#         model (nn.Module): Trained model.\n",
    "#         x (torch.Tensor or np.ndarray): Input data.\n",
    "#         device (str): Device to run the model on.\n",
    "#     Returns:\n",
    "#         np.ndarray: Predicted class labels.\n",
    "#     \"\"\"\n",
    "#     model.eval()\n",
    "#     if isinstance(x, np.ndarray):\n",
    "#         x = torch.from_numpy(x).float()\n",
    "#     x = x.to(device)\n",
    "#     with torch.no_grad():\n",
    "#         logits = model(x)\n",
    "#         preds = logits.argmax(dim=1)\n",
    "#     return preds.cpu().numpy()\n",
    "# \n",
    "# def predict_proba(model, x, device='cuda'):\n",
    "#     \"\"\"\n",
    "#     Predict class probabilities for input x.\n",
    "#     Args:\n",
    "#         model (nn.Module): Trained model.\n",
    "#         x (torch.Tensor or np.ndarray): Input data.\n",
    "#         device (str): Device to run the model on.\n",
    "#     Returns:\n",
    "#         np.ndarray: Predicted class probabilities (softmax output).\n",
    "#     \"\"\"\n",
    "#     model.eval()\n",
    "#     if isinstance(x, np.ndarray):\n",
    "#         x = torch.from_numpy(x).float()\n",
    "#     x = x.to(device)\n",
    "#     with torch.no_grad():\n",
    "#         logits = model(x)\n",
    "#         probs = torch.softmax(logits, dim=1)\n",
    "#     return probs.cpu().numpy()\n",
    "\n",
    "def predict(model, x, device='cuda'):\n",
    "    \"\"\"\n",
    "    Predict class labels for input x.\n",
    "    Args:\n",
    "        model (nn.Module): Trained model that returns (features, logits).\n",
    "        x (torch.Tensor or np.ndarray): Input data.\n",
    "        device (str): Device to run the model on.\n",
    "    Returns:\n",
    "        np.ndarray: Predicted class labels.\n",
    "    \"\"\"\n",
    "    model.eval()\n",
    "    if isinstance(x, np.ndarray):\n",
    "        x = torch.from_numpy(x).float()\n",
    "    x = x.to(device)\n",
    "    with torch.no_grad():\n",
    "        _, logits = model(x)\n",
    "        preds = logits.argmax(dim=1)\n",
    "    return preds.cpu().numpy()\n",
    "def predict_proba(model, x, device='cuda'):\n",
    "    \"\"\"\n",
    "    Predict class probabilities for input x.\n",
    "    Args:\n",
    "        model (nn.Module): Trained model that returns (features, logits).\n",
    "        x (torch.Tensor or np.ndarray): Input data.\n",
    "        device (str): Device to run the model on.\n",
    "    Returns:\n",
    "        np.ndarray: Predicted class probabilities (softmax output).\n",
    "    \"\"\"\n",
    "    model.eval()\n",
    "    if isinstance(x, np.ndarray):\n",
    "        x = torch.from_numpy(x).float()\n",
    "    x = x.to(device)\n",
    "    with torch.no_grad():\n",
    "        _, logits = model(x)\n",
    "        probs = torch.softmax(logits, dim=1)\n",
    "    return probs.cpu().numpy()\n"
   ],
   "id": "67c9045cb1d144ac",
   "outputs": [],
   "execution_count": 271
  },
  {
   "metadata": {
    "id": "44ce2638a0e635bf",
    "outputId": "c35a7c71-5c30-44cf-9c86-9ce635ca0f3c",
    "colab": {
     "base_uri": "https://localhost:8080/"
    },
    "ExecuteTime": {
     "end_time": "2025-04-29T08:52:26.020861Z",
     "start_time": "2025-04-29T08:52:23.565523Z"
    }
   },
   "cell_type": "code",
   "source": [
    "from collections import Counter\n",
    "import numpy as np\n",
    "\n",
    "# === Predict on full unlabeled set ===\n",
    "filtered_unlabeled = scaler.transform(filtered_unlabeled)\n",
    "unlabeled_probs = predict_proba(model, filtered_unlabeled, device=device)\n",
    "unlabeled_preds = predict(model, filtered_unlabeled, device=device)\n",
    "\n",
    "confidence_threshold = 0.95\n",
    "\n",
    "# Generate final predictions and mask for confident samples\n",
    "final_unlabeled_preds = []\n",
    "final_unlabeled_meta = []\n",
    "for pred, prob, meta in zip(unlabeled_preds, unlabeled_probs, filtered_meta):\n",
    "    if max(prob) >= confidence_threshold:\n",
    "        final_unlabeled_preds.append(pred)\n",
    "        final_unlabeled_meta.append(meta)\n",
    "    else:\n",
    "        final_unlabeled_preds.append(2)  # Assign to class 2 (noise)\n",
    "        final_unlabeled_meta.append(meta)\n",
    "\n",
    "final_unlabeled_preds = np.array(final_unlabeled_preds)\n",
    "final_unlabeled_meta = np.array(final_unlabeled_meta)\n",
    "\n",
    "# === Print stats ===\n",
    "distribution = Counter(final_unlabeled_preds)\n",
    "total = len(final_unlabeled_preds)\n",
    "print(\"\\nFinal Unlabeled Predictions Distribution:\")\n",
    "for label, count in distribution.items():\n",
    "    pct = (count / total) * 100\n",
    "    print(f\"Class {label}: {count} ({pct:.2f}%)\")\n",
    "print(len(final_unlabeled_preds), len(final_unlabeled_meta))"
   ],
   "id": "44ce2638a0e635bf",
   "outputs": [
    {
     "name": "stdout",
     "output_type": "stream",
     "text": [
      "\n",
      "Final Unlabeled Predictions Distribution:\n",
      "Class 0: 211890 (50.62%)\n",
      "Class 2: 141060 (33.70%)\n",
      "Class 1: 65624 (15.68%)\n",
      "418574 418574\n"
     ]
    }
   ],
   "execution_count": 272
  },
  {
   "metadata": {
    "id": "cabfb129b22aa3d1",
    "ExecuteTime": {
     "end_time": "2025-04-29T08:52:30.574254Z",
     "start_time": "2025-04-29T08:52:26.237053Z"
    }
   },
   "cell_type": "code",
   "source": [
    "def postprocess_class1_sequences(unlabeled_x, unlabeled_y, unlabeled_meta, time_gap_threshold_us=15_000_000):\n",
    "    feature_column_names = [\n",
    "        'ClksThisMin', 'medianKHz', 'avSPL', 'avPkAt',\n",
    "        'AvPRF', 'avEndF', 'tWUTrisk', 'nActualClx', 'nRisingIPIs',\n",
    "        'TrDur_us', 'nICIrising',\n",
    "        'MinICI_us', 'midpointICI', 'MaxICI_us', 'ClkNofMinICI',\n",
    "        'ClkNofMaxICI', 'NofClstrs',\n",
    "        'avClstrNx8', 'avPkIPI', 'BeforeIPIratio', 'PreIPIratio',\n",
    "        'Post1IPIratio', 'Post2IPIratio', 'EndIPIratio'\n",
    "    ]\n",
    "    trdur_idx =  feature_column_names.index('TrDur_us')\n",
    "\n",
    "    data_by_location = defaultdict(list)\n",
    "    for idx, meta in enumerate(unlabeled_meta):\n",
    "        location, minute_str, micro_str = meta\n",
    "        start_us = np.int64(int(minute_str)) * 60 * 1_000_000 + np.int64(int(micro_str))\n",
    "        duration_us = np.int64(unlabeled_x[idx, trdur_idx])\n",
    "        end_us = start_us + duration_us\n",
    "        data_by_location[location].append((start_us, end_us, idx))\n",
    "    for loc in data_by_location:\n",
    "        data_by_location[loc].sort()\n",
    "    new_labels = unlabeled_y.copy()\n",
    "\n",
    "    for loc, entries in data_by_location.items():\n",
    "        class1_entries = [(s, e, i) for (s, e, i) in entries if unlabeled_y[i] == 1]\n",
    "        class1_entries.sort()\n",
    "\n",
    "        current_sequence = []\n",
    "        for j in range(len(class1_entries)):\n",
    "            s, e, idx = class1_entries[j]\n",
    "            if not current_sequence:\n",
    "                current_sequence.append((s, e, idx))\n",
    "            else:\n",
    "                prev_s, prev_e, _ = current_sequence[-1]\n",
    "                if s - prev_e <= time_gap_threshold_us:\n",
    "                    current_sequence.append((s, e, idx))\n",
    "                else:\n",
    "                    if len(current_sequence) >= 2:\n",
    "                        for _, _, seq_idx in current_sequence:\n",
    "                            new_labels[seq_idx] = 1\n",
    "                    else:\n",
    "                        for _, _, seq_idx in current_sequence:\n",
    "                            new_labels[seq_idx] = 2\n",
    "                    current_sequence = [(s, e, idx)]\n",
    "\n",
    "        if current_sequence:\n",
    "            if len(current_sequence) >= 2:\n",
    "                for _, _, seq_idx in current_sequence:\n",
    "                    new_labels[seq_idx] = 1\n",
    "            else:\n",
    "                for _, _, seq_idx in current_sequence:\n",
    "                    new_labels[seq_idx] = 2\n",
    "\n",
    "    return new_labels\n",
    "\n",
    "new_labels = postprocess_class1_sequences(filtered_unlabeled, final_unlabeled_preds, filtered_meta)"
   ],
   "id": "cabfb129b22aa3d1",
   "outputs": [],
   "execution_count": 273
  },
  {
   "metadata": {
    "id": "4992a71826108d65",
    "outputId": "80ed208b-19a5-4812-8287-950d900b870d",
    "colab": {
     "base_uri": "https://localhost:8080/"
    },
    "ExecuteTime": {
     "end_time": "2025-04-29T08:52:30.713886Z",
     "start_time": "2025-04-29T08:52:30.672217Z"
    }
   },
   "cell_type": "code",
   "source": [
    "distribution = Counter(new_labels)\n",
    "total = len(new_labels)\n",
    "print(\"\\nFinal Unlabeled Predictions Distribution:\")\n",
    "for label, count in distribution.items():\n",
    "    pct = (count / total) * 100\n",
    "    print(f\"Class {label}: {count} ({pct:.2f}%)\")"
   ],
   "id": "4992a71826108d65",
   "outputs": [
    {
     "name": "stdout",
     "output_type": "stream",
     "text": [
      "\n",
      "Final Unlabeled Predictions Distribution:\n",
      "Class 0: 211890 (50.62%)\n",
      "Class 2: 182645 (43.64%)\n",
      "Class 1: 24039 (5.74%)\n"
     ]
    }
   ],
   "execution_count": 274
  },
  {
   "metadata": {
    "id": "50b837a46552bde4",
    "ExecuteTime": {
     "end_time": "2025-04-29T08:52:37.493407Z",
     "start_time": "2025-04-29T08:52:30.794351Z"
    }
   },
   "cell_type": "code",
   "source": [
    "data = np.load(\"fixed_click_dataset.npz\", allow_pickle=True)\n",
    "labeled_sx = data['labeled_x']\n",
    "labeled_sy = data['labeled_y']\n",
    "signal_x = data['unlabeled_x']\n",
    "signal_meta = data['unlabeled_meta']\n",
    "labeled_smeta = data['labeled_meta']"
   ],
   "id": "50b837a46552bde4",
   "outputs": [],
   "execution_count": 275
  },
  {
   "metadata": {
    "ExecuteTime": {
     "end_time": "2025-04-29T08:52:37.581703Z",
     "start_time": "2025-04-29T08:52:37.578633Z"
    }
   },
   "cell_type": "code",
   "source": "print(signal_meta[0], final_unlabeled_meta[0])",
   "id": "51eeb445a74a4477",
   "outputs": [
    {
     "name": "stdout",
     "output_type": "stream",
     "text": [
      "['B Balchik' 63575466 12531720] ['B Balchik' '63575468' '57852715']\n"
     ]
    }
   ],
   "execution_count": 276
  },
  {
   "metadata": {
    "id": "4ec3498f70d7ab01",
    "ExecuteTime": {
     "end_time": "2025-04-29T08:52:37.665327Z",
     "start_time": "2025-04-29T08:52:37.662456Z"
    }
   },
   "cell_type": "code",
   "source": [
    "# special_areas = ['U Dzha Bay', 'U Dzha Sea']\n",
    "# \n",
    "# signal_meta = np.array(signal_meta)\n",
    "# def extract_area_name(entry):\n",
    "#     entry_str = str(entry)\n",
    "#     for area in special_areas:\n",
    "#         if entry_str.startswith(area):\n",
    "#             return area\n",
    "#     match = re.match(r'^(\\w+ \\w+)', entry_str)\n",
    "#     return match.group(1) if match else entry_str\n",
    "# \n",
    "# vectorized_extractor = np.vectorize(extract_area_name)\n",
    "# \n",
    "# clean_unlabeled_meta = vectorized_extractor(signal_meta[:, 0])\n",
    "# meta_signal = np.column_stack((clean_unlabeled_meta, signal_meta[:, 1:3]))"
   ],
   "id": "4ec3498f70d7ab01",
   "outputs": [],
   "execution_count": 277
  },
  {
   "metadata": {
    "id": "565976b6ee5f4e3c",
    "ExecuteTime": {
     "end_time": "2025-04-29T08:54:09.201334Z",
     "start_time": "2025-04-29T08:52:37.772438Z"
    }
   },
   "cell_type": "code",
   "source": [
    "def save_labeled_visuals_by_location(\n",
    "    labeled_x, labeled_y, labeled_meta,\n",
    "    signal_x, signal_meta,\n",
    "    location_filter='U Dzha Bay',\n",
    "    save_dir='labeled_data_visuals',\n",
    "    save_waveform_plot=True,\n",
    "    max_per_class=30\n",
    "):\n",
    "    os.makedirs(save_dir, exist_ok=True)\n",
    "\n",
    "    feature_column_names = [\n",
    "        'ClksThisMin', 'medianKHz', 'avSPL', 'avPkAt',\n",
    "        'AvPRF', 'avEndF', 'tWUTrisk', 'nActualClx', 'nRisingIPIs',\n",
    "        'TrDur_us', 'nICIrising',\n",
    "        'MinICI_us', 'midpointICI', 'MaxICI_us', 'ClkNofMinICI',\n",
    "        'ClkNofMaxICI', 'NofClstrs',\n",
    "        'avClstrNx8', 'avPkIPI', 'BeforeIPIratio', 'PreIPIratio',\n",
    "        'Post1IPIratio', 'Post2IPIratio', 'EndIPIratio'\n",
    "    ]\n",
    "\n",
    "    class_dirs = {\n",
    "        0: os.path.join(save_dir, \"class_0\"),\n",
    "        1: os.path.join(save_dir, \"class_1\"),\n",
    "        2: os.path.join(save_dir, \"noise\")\n",
    "    }\n",
    "    for d in class_dirs.values():\n",
    "        os.makedirs(d, exist_ok=True)\n",
    "\n",
    "    filtered = [\n",
    "        (x, y, meta) for x, y, meta in zip(labeled_x, labeled_y, labeled_meta)\n",
    "        if meta[0] == location_filter\n",
    "    ]\n",
    "\n",
    "    if not filtered:\n",
    "        print(f\"No labeled instances found for location: {location_filter}\")\n",
    "        return\n",
    "\n",
    "    signal_lookup = {tuple(m): s for s, m in zip(signal_x, signal_meta)}\n",
    "    saved_counts = {0: 0, 1: 0, 2: 0}\n",
    "\n",
    "    for i, (x, y, meta) in enumerate(tqdm(filtered)):\n",
    "        identity = tuple([meta[0], int(meta[1]), int(meta[2])])\n",
    "        raw_signal = signal_lookup.get(identity, None)\n",
    "\n",
    "        if raw_signal is None:\n",
    "            continue\n",
    "\n",
    "        final_class = y if y in [0, 1] else 2\n",
    "        if saved_counts[final_class] >= max_per_class:\n",
    "            continue\n",
    "\n",
    "        label_dir = class_dirs[final_class]\n",
    "        base_name = f\"{i}_{identity[0].replace(' ', '_')}_{identity[1]}_{identity[2]}\"\n",
    "\n",
    "        df_feat = pd.DataFrame([x, meta], columns=feature_column_names)\n",
    "        df_feat.to_csv(os.path.join(label_dir, f\"{base_name}_features.csv\"), index=False)\n",
    "\n",
    "        if save_waveform_plot:\n",
    "            plt.figure(figsize=(6, 3))\n",
    "            plt.plot(raw_signal, lw=1)\n",
    "            plt.title(f\"Label: Class {final_class}\")\n",
    "            plt.xlabel(\"Time (sampled)\")\n",
    "            plt.ylabel(\"Clk/s\")\n",
    "            plt.tight_layout()\n",
    "            plt.savefig(os.path.join(label_dir, f\"{base_name}_waveform.png\"))\n",
    "            plt.close()\n",
    "\n",
    "        saved_counts[final_class] += 1\n",
    "\n",
    "        if all(saved_counts[c] >= max_per_class for c in saved_counts):\n",
    "            print(\"Saved max limit for all classes. Stopping.\")\n",
    "            break\n",
    "\n",
    "    print(f\"Saved labeled data for location: {location_filter} to: {save_dir}\")\n",
    "    print(f\"Saved counts: {saved_counts}\")\n",
    "\n",
    "save_labeled_visuals_by_location(\n",
    "    filtered_unlabeled, new_labels, final_unlabeled_meta,\n",
    "    signal_x, signal_meta,\n",
    "    location_filter='B Ravda',\n",
    "    save_dir='data_files/Ravda_data_visuals_2',\n",
    "    save_waveform_plot=True,\n",
    "    max_per_class=100\n",
    ")"
   ],
   "id": "565976b6ee5f4e3c",
   "outputs": [
    {
     "name": "stderr",
     "output_type": "stream",
     "text": [
      "  2%|▏         | 988/59559 [01:12<1:11:35, 13.64it/s]"
     ]
    },
    {
     "name": "stdout",
     "output_type": "stream",
     "text": [
      "Saved max limit for all classes. Stopping.\n",
      "Saved labeled data for location: B Ravda to: data_files/Ravda_data_visuals_2\n",
      "Saved counts: {0: 100, 1: 100, 2: 100}\n"
     ]
    },
    {
     "name": "stderr",
     "output_type": "stream",
     "text": [
      "\n"
     ]
    }
   ],
   "execution_count": 278
  },
  {
   "metadata": {
    "id": "6f1fed22b60249db",
    "ExecuteTime": {
     "end_time": "2025-04-29T08:54:09.317736Z",
     "start_time": "2025-04-29T08:54:09.315808Z"
    }
   },
   "cell_type": "code",
   "source": "",
   "id": "6f1fed22b60249db",
   "outputs": [],
   "execution_count": null
  },
  {
   "metadata": {
    "ExecuteTime": {
     "end_time": "2025-04-29T08:54:09.400092Z",
     "start_time": "2025-04-29T08:54:09.397606Z"
    }
   },
   "cell_type": "code",
   "source": "# shap.summary_plot(shap_values, isolation, feature_names=feature_columns, plot_type=\"bar\")\n",
   "id": "a55e0e2d6e62cdf6",
   "outputs": [],
   "execution_count": 279
  },
  {
   "metadata": {
    "ExecuteTime": {
     "end_time": "2025-04-29T08:54:09.489030Z",
     "start_time": "2025-04-29T08:54:09.485108Z"
    }
   },
   "cell_type": "code",
   "source": [
    "# from sklearn.ensemble import IsolationForest\n",
    "# import matplotlib.pyplot as plt\n",
    "# import numpy as np\n",
    "# import umap\n",
    "# \n",
    "# def plot_umap(labeled_x, unlabeled_x=None, labeled_y=None, title=\"UMAP Visualization\", figsize=(8, 6), \n",
    "#               n_neighbors=15, min_dist=0.1, random_state=42, save_path=None, save_path_outliers=None, \n",
    "#               perform_outlier_detection=False):\n",
    "#     \"\"\"Plots and optionally saves UMAP projection and outlier detection with Isolation Forest.\"\"\"\n",
    "#     \n",
    "#     if unlabeled_x is not None:\n",
    "#         combined_x = np.vstack((labeled_x, unlabeled_x))\n",
    "#     else:\n",
    "#         combined_x = labeled_x\n",
    "# \n",
    "#     # Step 1: Compute UMAP projection\n",
    "#     reducer = umap.UMAP(n_components=2, n_neighbors=n_neighbors, min_dist=min_dist, random_state=random_state)\n",
    "#     reduced = reducer.fit_transform(combined_x)\n",
    "# \n",
    "#     # Step 2: Plot normal UMAP\n",
    "#     plt.figure(figsize=figsize)\n",
    "#     if unlabeled_x is not None:\n",
    "#         n_labeled = len(labeled_x)\n",
    "#         unlabeled_reduced = reduced[n_labeled:]\n",
    "#         labeled_reduced = reduced[:n_labeled]\n",
    "#         plt.scatter(unlabeled_reduced[:, 0], unlabeled_reduced[:, 1], c='gray', alpha=0.4, label='Unlabeled', s=20)\n",
    "#         if labeled_y is not None:\n",
    "#             for class_id in np.unique(labeled_y):\n",
    "#                 idx = labeled_y == class_id\n",
    "#                 plt.scatter(labeled_reduced[idx, 0], labeled_reduced[idx, 1], label=f'Class {class_id}', s=30)\n",
    "#         else:\n",
    "#             plt.scatter(labeled_reduced[:, 0], labeled_reduced[:, 1], label='Labeled', s=30)\n",
    "#     else:\n",
    "#         if labeled_y is not None:\n",
    "#             for class_id in np.unique(labeled_y):\n",
    "#                 idx = labeled_y == class_id\n",
    "#                 plt.scatter(reduced[idx, 0], reduced[idx, 1], label=f'Class {class_id}', s=30)\n",
    "#         else:\n",
    "#             plt.scatter(reduced[:, 0], reduced[:, 1], s=30)\n",
    "# \n",
    "#     plt.title(title)\n",
    "#     plt.xlabel(\"UMAP 1\")\n",
    "#     plt.ylabel(\"UMAP 2\")\n",
    "#     plt.legend()\n",
    "#     plt.grid(True)\n",
    "#     \n",
    "#     if save_path:\n",
    "#         plt.savefig(save_path, bbox_inches='tight', format='pdf')\n",
    "#         print(f\"UMAP plot saved to {save_path}\")\n",
    "#     else:\n",
    "#         plt.show()\n",
    "# \n",
    "#     # Step 3: Outlier detection (if requested)\n",
    "#     if perform_outlier_detection and save_path_outliers:\n",
    "#         iso = IsolationForest(contamination=0.05, random_state=random_state)\n",
    "#         outliers = iso.fit_predict(combined_x)\n",
    "#         is_outlier = (outliers == -1)\n",
    "# \n",
    "#         plt.figure(figsize=figsize)\n",
    "#         plt.scatter(reduced[~is_outlier, 0], reduced[~is_outlier, 1], c='blue', label='Inlier', s=5, alpha=0.6)\n",
    "#         plt.scatter(reduced[is_outlier, 0], reduced[is_outlier, 1], c='red', label='Outlier', s=10)\n",
    "#         plt.title(\"UMAP with Outlier Detection (Isolation Forest)\")\n",
    "#         plt.xlabel(\"UMAP 1\")\n",
    "#         plt.ylabel(\"UMAP 2\")\n",
    "#         plt.legend()\n",
    "#         plt.grid(True)\n",
    "# \n",
    "#         plt.savefig(save_path_outliers, bbox_inches='tight', format='pdf')\n",
    "#         print(f\"UMAP with outliers plot saved to {save_path_outliers}\")\n",
    "# \n",
    "# plot_umap(labeled_x, unlabeled_x[:500000], labeled_y, title=\"UMAP Visualization\", save_path_outliers=\"umap_plot_outliers.pdf\", save_path=\"umap_plot.pdf\", perform_outlier_detection=True)\n"
   ],
   "id": "dc436a4b9a659a66",
   "outputs": [],
   "execution_count": 280
  },
  {
   "metadata": {
    "ExecuteTime": {
     "end_time": "2025-04-29T08:54:09.565911Z",
     "start_time": "2025-04-29T08:54:09.563728Z"
    }
   },
   "cell_type": "code",
   "source": [
    "# shap.plots.heatmap(shap.Explanation(\n",
    "#     values=shap_values,\n",
    "#     base_values=explainer.expected_value,\n",
    "#     data=isolation,\n",
    "#     feature_names=feature_columns\n",
    "# ))"
   ],
   "id": "e4bf95523328c61b",
   "outputs": [],
   "execution_count": 281
  },
  {
   "metadata": {
    "ExecuteTime": {
     "end_time": "2025-04-29T08:54:09.636192Z",
     "start_time": "2025-04-29T08:54:09.634097Z"
    }
   },
   "cell_type": "code",
   "source": [
    "# import pandas as pd\n",
    "# \n",
    "# # Create a DataFrame to make this easier\n",
    "# df = pd.DataFrame(isolation, columns=feature_columns)\n",
    "# df['predicted_class'] = preds  # from your IsolationForest\n",
    "# \n",
    "# # Group by class and calculate mean\n",
    "# feature_means_by_class = df.groupby('predicted_class').mean()\n",
    "# \n",
    "# feature_means_by_class\n"
   ],
   "id": "7705b5fe854708d5",
   "outputs": [],
   "execution_count": 282
  }
 ],
 "metadata": {
  "kernelspec": {
   "display_name": "Python (Torch + CUDA)",
   "language": "python",
   "name": "mytorchenv"
  },
  "language_info": {
   "codemirror_mode": {
    "name": "ipython",
    "version": 2
   },
   "file_extension": ".py",
   "mimetype": "text/x-python",
   "name": "python",
   "nbconvert_exporter": "python",
   "pygments_lexer": "ipython2",
   "version": "2.7.6"
  },
  "colab": {
   "provenance": []
  }
 },
 "nbformat": 4,
 "nbformat_minor": 5
}
