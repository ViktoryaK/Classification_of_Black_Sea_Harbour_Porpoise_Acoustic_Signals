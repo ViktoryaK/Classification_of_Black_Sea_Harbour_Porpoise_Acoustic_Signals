{
 "cells": [
  {
   "metadata": {},
   "cell_type": "markdown",
   "source": "## Imports",
   "id": "341274901ba456ae"
  },
  {
   "metadata": {
    "ExecuteTime": {
     "end_time": "2025-04-23T06:15:01.018773Z",
     "start_time": "2025-04-23T06:15:01.012893Z"
    }
   },
   "cell_type": "code",
   "source": [
    "from sklearn.ensemble import RandomForestClassifier\n",
    "from sklearn.model_selection import train_test_split\n",
    "from sklearn.metrics import accuracy_score, f1_score, roc_curve, auc, roc_auc_score, classification_report, confusion_matrix\n",
    "from utils import find_knn_per_class, apply_smote\n",
    "import re\n",
    "from collections import defaultdict\n",
    "from torch.utils.data import Dataset\n",
    "from sklearn.preprocessing import LabelEncoder\n",
    "from datetime import datetime\n",
    "from collections import Counter\n",
    "from xgboost import XGBClassifier\n",
    "from sklearn.preprocessing import label_binarize\n",
    "import numpy as np\n",
    "from matplotlib import pyplot as plt\n",
    "import pandas as pd\n",
    "import os\n",
    "from tqdm import tqdm\n",
    "\n"
   ],
   "id": "a8d9b6b64db34b36",
   "outputs": [],
   "execution_count": 26
  },
  {
   "metadata": {},
   "cell_type": "markdown",
   "source": "## Data preprocessing",
   "id": "d1d7fe402a001e66"
  },
  {
   "metadata": {
    "ExecuteTime": {
     "end_time": "2025-04-23T06:15:12.323140Z",
     "start_time": "2025-04-23T06:15:02.537074Z"
    }
   },
   "cell_type": "code",
   "source": [
    "data = np.load(\"data_files/full_acoustic_dataset.npz\", allow_pickle=True)\n",
    "labeled_x = data['labeled_x']\n",
    "labeled_y = data['labeled_y']\n",
    "unlabeled_x = data['unlabeled_x']\n",
    "unlabeled_meta = data['unlabeled_meta']\n",
    "labeled_meta = data['labeled_meta']\n"
   ],
   "id": "d38964462c91e753",
   "outputs": [],
   "execution_count": 27
  },
  {
   "metadata": {
    "ExecuteTime": {
     "end_time": "2025-04-23T06:16:43.447175Z",
     "start_time": "2025-04-23T06:15:12.336679Z"
    }
   },
   "cell_type": "code",
   "source": [
    "# === Split original labeled data for validation ===\n",
    "train_labeled_x, val_x, train_labeled_y, val_y = train_test_split(\n",
    "    labeled_x, labeled_y, test_size=0.2, stratify=labeled_y, random_state=35\n",
    ")\n",
    "\n",
    "# === Pseudo-labeling from training set only ===\n",
    "all_new_x = []\n",
    "all_new_y = []\n",
    "\n",
    "for cls in np.unique(train_labeled_y):\n",
    "    results, new_x, new_y, unlabeled_x, unlabeled_meta = find_knn_per_class(\n",
    "        train_labeled_x, train_labeled_y,\n",
    "        unlabeled_x, unlabeled_meta,\n",
    "        target_class=cls,\n",
    "        max_K=10,\n",
    "        distance_threshold=500\n",
    "    )\n",
    "    print(f\"Class {cls}: added {len(new_y)} new samples.\")\n",
    "    all_new_x.append(new_x)\n",
    "    all_new_y.append(new_y)\n",
    "\n",
    "pseudo_x = np.vstack(all_new_x)\n",
    "pseudo_y = np.concatenate(all_new_y)\n",
    "\n",
    "print(\"Final up-sampled size:\", pseudo_x.shape)\n",
    "print(\"Remaining unlabeled:\", unlabeled_x.shape)\n",
    "\n",
    "# === Combine and apply SMOTE ===\n",
    "all_train_x = np.concatenate([train_labeled_x, pseudo_x])\n",
    "all_train_y = np.concatenate([train_labeled_y, pseudo_y])\n",
    "\n",
    "print(\"Original class distribution:\", Counter(all_train_y))\n",
    "X_resampled, y_resampled = apply_smote(all_train_x, all_train_y)\n",
    "print(\"Resampled class distribution:\", Counter(y_resampled))"
   ],
   "id": "b8cd2ea2814e9cc1",
   "outputs": [
    {
     "name": "stdout",
     "output_type": "stream",
     "text": [
      "Class 0: added 118 new samples.\n",
      "Class 1: added 2208 new samples.\n",
      "Final up-sampled size: (2326, 25)\n",
      "Remaining unlabeled: (13142157, 25)\n",
      "Original class distribution: Counter({np.int64(1): 2470, np.int64(0): 256})\n",
      "Original class distribution: Counter({np.int64(1): 2470, np.int64(0): 256})\n",
      "Resampled class distribution: Counter({np.int64(0): 2470, np.int64(1): 2470})\n",
      "Resampled class distribution: Counter({np.int64(0): 2470, np.int64(1): 2470})\n"
     ]
    }
   ],
   "execution_count": 28
  },
  {
   "metadata": {},
   "cell_type": "markdown",
   "source": "## Random forest",
   "id": "8754a1ffde2047f3"
  },
  {
   "cell_type": "code",
   "id": "initial_id",
   "metadata": {
    "collapsed": true,
    "ExecuteTime": {
     "end_time": "2025-04-23T06:16:44.115591Z",
     "start_time": "2025-04-23T06:16:43.474959Z"
    }
   },
   "source": [
    "rf_model = RandomForestClassifier(\n",
    "    n_estimators=50,\n",
    "    max_depth=10,\n",
    "    class_weight='balanced',\n",
    "    random_state=42\n",
    ")\n",
    "rf_model.fit(X_resampled, y_resampled)\n",
    "\n",
    "probs = rf_model.predict_proba(val_x)\n",
    "preds = rf_model.predict(val_x)\n",
    "\n",
    "print(\"Evaluation:\")\n",
    "print(f\"Accuracy: {accuracy_score(val_y, preds):.4f}\")\n",
    "print(f\"F1 Score (macro): {f1_score(val_y, preds, average='macro'):.4f}\")\n",
    "print(f\"F1 Score (weighted): {f1_score(val_y, preds, average='weighted'):.4f}\")"
   ],
   "outputs": [
    {
     "name": "stdout",
     "output_type": "stream",
     "text": [
      "Evaluation:\n",
      "Accuracy: 0.9208\n",
      "F1 Score (macro): 0.9137\n",
      "F1 Score (weighted): 0.9213\n"
     ]
    }
   ],
   "execution_count": 29
  },
  {
   "metadata": {
    "ExecuteTime": {
     "end_time": "2025-04-23T06:16:44.147856Z",
     "start_time": "2025-04-23T06:16:44.137517Z"
    }
   },
   "cell_type": "code",
   "source": [
    "print(\"\\nPer-Class Classification Report:\")\n",
    "print(classification_report(val_y, preds, digits=4))\n",
    "\n",
    "print(\"Confusion Matrix:\")\n",
    "print(confusion_matrix(val_y, preds))\n"
   ],
   "id": "4d96fe3730a5ac4b",
   "outputs": [
    {
     "name": "stdout",
     "output_type": "stream",
     "text": [
      "\n",
      "Per-Class Classification Report:\n",
      "              precision    recall  f1-score   support\n",
      "\n",
      "           0     0.8649    0.9143    0.8889        35\n",
      "           1     0.9531    0.9242    0.9385        66\n",
      "\n",
      "    accuracy                         0.9208       101\n",
      "   macro avg     0.9090    0.9193    0.9137       101\n",
      "weighted avg     0.9225    0.9208    0.9213       101\n",
      "\n",
      "Confusion Matrix:\n",
      "[[32  3]\n",
      " [ 5 61]]\n"
     ]
    }
   ],
   "execution_count": 30
  },
  {
   "metadata": {
    "ExecuteTime": {
     "end_time": "2025-04-23T06:16:44.274182Z",
     "start_time": "2025-04-23T06:16:44.169248Z"
    }
   },
   "cell_type": "code",
   "source": [
    "y_bin = label_binarize(val_y, classes=[0, 1])\n",
    "if y_bin.shape[1] == 1:\n",
    "    y_bin = np.hstack((1 - y_bin, y_bin))\n",
    "fpr = {}\n",
    "tpr = {}\n",
    "roc_auc = {}\n",
    "\n",
    "for i in range(2):\n",
    "    fpr[i], tpr[i], _ = roc_curve(y_bin[:, i], probs[:, i])\n",
    "    roc_auc[i] = auc(fpr[i], tpr[i])\n",
    "\n",
    "plt.figure(figsize=(8, 6))\n",
    "colors = ['blue', 'green']\n",
    "for i, color in zip(range(2), colors):\n",
    "    plt.plot(fpr[i], tpr[i], color=color, lw=2,\n",
    "             label=f\"Class {i} (AUC = {roc_auc[i]:.2f})\")\n",
    "\n",
    "plt.plot([0, 1], [0, 1], 'k--', lw=1)\n",
    "plt.xlabel(\"False Positive Rate\")\n",
    "plt.ylabel(\"True Positive Rate\")\n",
    "plt.title(\"ROC Curves (Classes 0 and 1)\")\n",
    "plt.legend(loc=\"lower right\")\n",
    "plt.grid(True)\n",
    "plt.show()\n"
   ],
   "id": "95d2bf236faaae07",
   "outputs": [
    {
     "data": {
      "text/plain": [
       "<Figure size 800x600 with 1 Axes>"
      ],
      "image/png": "[encoded data removed]"
     },
     "metadata": {},
     "output_type": "display_data"
    }
   ],
   "execution_count": 31
  },
  {
   "metadata": {},
   "cell_type": "markdown",
   "source": "## XGBoost",
   "id": "e8d1e269a4cebf3d"
  },
  {
   "metadata": {
    "ExecuteTime": {
     "end_time": "2025-04-23T06:16:46.436841Z",
     "start_time": "2025-04-23T06:16:44.296792Z"
    }
   },
   "cell_type": "code",
   "source": [
    "xgb_model = XGBClassifier(\n",
    "    n_estimators=100,\n",
    "    max_depth=10,\n",
    "    learning_rate=0.005,\n",
    "    subsample=0.9,\n",
    "    colsample_bytree=0.8,\n",
    "    eval_metric='logloss'\n",
    ")\n",
    "\n",
    "xgb_model.fit(X_resampled, y_resampled)\n",
    "\n",
    "probs = xgb_model.predict_proba(val_x)\n",
    "preds = xgb_model.predict(val_x)\n",
    "\n",
    "print(\"Evaluation:\")\n",
    "print(f\"Accuracy: {accuracy_score(val_y, preds):.4f}\")\n",
    "print(f\"F1 Score (macro): {f1_score(val_y, preds, average='macro'):.4f}\")\n",
    "print(f\"F1 Score (weighted): {f1_score(val_y, preds, average='weighted'):.4f}\")"
   ],
   "id": "d1ec8c55c0ee3850",
   "outputs": [
    {
     "name": "stdout",
     "output_type": "stream",
     "text": [
      "Evaluation:\n",
      "Accuracy: 0.9307\n",
      "F1 Score (macro): 0.9249\n",
      "F1 Score (weighted): 0.9313\n"
     ]
    }
   ],
   "execution_count": 32
  },
  {
   "metadata": {
    "ExecuteTime": {
     "end_time": "2025-04-23T06:16:46.510813Z",
     "start_time": "2025-04-23T06:16:46.491260Z"
    }
   },
   "cell_type": "code",
   "source": [
    "print(\"\\nPer-Class Classification Report:\")\n",
    "print(classification_report(val_y, preds, digits=4))\n",
    "\n",
    "print(\"Confusion Matrix:\")\n",
    "print(confusion_matrix(val_y, preds))\n"
   ],
   "id": "f401a5d622e7d727",
   "outputs": [
    {
     "name": "stdout",
     "output_type": "stream",
     "text": [
      "\n",
      "Per-Class Classification Report:\n",
      "              precision    recall  f1-score   support\n",
      "\n",
      "           0     0.8684    0.9429    0.9041        35\n",
      "           1     0.9683    0.9242    0.9457        66\n",
      "\n",
      "    accuracy                         0.9307       101\n",
      "   macro avg     0.9183    0.9335    0.9249       101\n",
      "weighted avg     0.9337    0.9307    0.9313       101\n",
      "\n",
      "Confusion Matrix:\n",
      "[[33  2]\n",
      " [ 5 61]]\n"
     ]
    }
   ],
   "execution_count": 33
  },
  {
   "metadata": {
    "ExecuteTime": {
     "end_time": "2025-04-23T06:16:46.676345Z",
     "start_time": "2025-04-23T06:16:46.567598Z"
    }
   },
   "cell_type": "code",
   "source": [
    "from sklearn.preprocessing import label_binarize\n",
    "from sklearn.metrics import roc_curve, auc\n",
    "import matplotlib.pyplot as plt\n",
    "import numpy as np\n",
    "\n",
    "y_bin = label_binarize(val_y, classes=[0, 1])\n",
    "if y_bin.shape[1] == 1:\n",
    "    y_bin = np.hstack((1 - y_bin, y_bin))\n",
    "fpr = {}\n",
    "tpr = {}\n",
    "roc_auc = {}\n",
    "\n",
    "for i in range(2):\n",
    "    fpr[i], tpr[i], _ = roc_curve(y_bin[:, i], probs[:, i])\n",
    "    roc_auc[i] = auc(fpr[i], tpr[i])\n",
    "\n",
    "plt.figure(figsize=(8, 6))\n",
    "colors = ['blue', 'green']\n",
    "for i, color in zip(range(2), colors):\n",
    "    plt.plot(fpr[i], tpr[i], color=color, lw=2,\n",
    "             label=f\"Class {i} (AUC = {roc_auc[i]:.2f})\")\n",
    "\n",
    "plt.plot([0, 1], [0, 1], 'k--', lw=1)\n",
    "plt.xlabel(\"False Positive Rate\")\n",
    "plt.ylabel(\"True Positive Rate\")\n",
    "plt.title(\"ROC Curves (Classes 0 and 1)\")\n",
    "plt.legend(loc=\"lower right\")\n",
    "plt.grid(True)\n",
    "plt.show()\n"
   ],
   "id": "a21c4bf2892cb3fb",
   "outputs": [
    {
     "data": {
      "text/plain": [
       "<Figure size 800x600 with 1 Axes>"
      ],
      "image/png": "[encoded data removed]"
     },
     "metadata": {},
     "output_type": "display_data"
    }
   ],
   "execution_count": 34
  },
  {
   "metadata": {
    "ExecuteTime": {
     "end_time": "2025-04-23T06:24:16.584262Z",
     "start_time": "2025-04-23T06:22:58.661586Z"
    }
   },
   "cell_type": "code",
   "source": [
    "# === Predict on full unlabeled set ===\n",
    "unlabeled_probs = rf_model.predict_proba(unlabeled_x)\n",
    "unlabeled_preds = rf_model.predict(unlabeled_x)\n",
    "confidence_threshold = 0.95\n",
    "\n",
    "final_unlabeled_preds = np.array([\n",
    "    p if max(prob) >= confidence_threshold else 2\n",
    "    for p, prob in zip(unlabeled_preds, unlabeled_probs)\n",
    "])\n",
    "\n",
    "# === Print stats ===\n",
    "distribution = Counter(final_unlabeled_preds)\n",
    "total = len(final_unlabeled_preds)\n",
    "print(\"\\nFinal Unlabeled Predictions Distribution:\")\n",
    "for label, count in distribution.items():\n",
    "    pct = (count / total) * 100\n",
    "    print(f\"Class {label}: {count} ({pct:.2f}%)\")\n"
   ],
   "id": "44ce2638a0e635bf",
   "outputs": [
    {
     "name": "stdout",
     "output_type": "stream",
     "text": [
      "\n",
      "Final Unlabeled Predictions Distribution:\n",
      "Class 1: 2160801 (16.44%)\n",
      "Class 2: 10914221 (83.05%)\n",
      "Class 0: 67135 (0.51%)\n"
     ]
    }
   ],
   "execution_count": 42
  },
  {
   "metadata": {
    "ExecuteTime": {
     "end_time": "2025-04-23T06:32:59.424865Z",
     "start_time": "2025-04-23T06:32:06.935913Z"
    }
   },
   "cell_type": "code",
   "source": [
    "def postprocess_class1_sequences(unlabeled_x, unlabeled_y, unlabeled_meta, time_gap_threshold_us=5_000_000):\n",
    "    feature_column_names = [\n",
    "        'ClksThisMin', 'NofClx', 'medianKHz', 'avSPL', 'avPkAt',\n",
    "        'AvPRF', 'avEndF', 'tWUTrisk', 'nActualClx', 'nRisingIPIs',\n",
    "        'TrDur_us', 'nICIrising',\n",
    "        'MinICI_us', 'midpointICI', 'MaxICI_us', 'ClkNofMinICI',\n",
    "        'ClkNofMaxICI', 'NofClstrs',\n",
    "        'avClstrNx8', 'avPkIPI', 'BeforeIPIratio', 'PreIPIratio',\n",
    "        'Post1IPIratio', 'Post2IPIratio', 'EndIPIratio'\n",
    "    ]\n",
    "    trdur_idx =  feature_column_names.index('TrDur_us') \n",
    "    \n",
    "    data_by_location = defaultdict(list)\n",
    "    for idx, meta in enumerate(unlabeled_meta):\n",
    "        location, minute_str, micro_str = meta\n",
    "        start_us = np.int64(int(minute_str)) * 60 * 1_000_000 + np.int64(int(micro_str))\n",
    "        duration_us = np.int64(unlabeled_x[idx, trdur_idx])\n",
    "        end_us = start_us + duration_us\n",
    "        data_by_location[location].append((start_us, end_us, idx))\n",
    "    for loc in data_by_location:\n",
    "        data_by_location[loc].sort()\n",
    "    new_labels = unlabeled_y.copy()\n",
    "    \n",
    "    for loc, entries in data_by_location.items():\n",
    "        class1_entries = [(s, e, i) for (s, e, i) in entries if unlabeled_y[i] == 1]\n",
    "        class1_entries.sort()\n",
    "        \n",
    "        current_sequence = []\n",
    "        for j in range(len(class1_entries)):\n",
    "            s, e, idx = class1_entries[j]\n",
    "            if not current_sequence:\n",
    "                current_sequence.append((s, e, idx))\n",
    "            else:\n",
    "                prev_s, prev_e, _ = current_sequence[-1]\n",
    "                if s - prev_e <= time_gap_threshold_us:\n",
    "                    current_sequence.append((s, e, idx))\n",
    "                else:\n",
    "                    if len(current_sequence) >= 2:\n",
    "                        for _, _, seq_idx in current_sequence:\n",
    "                            new_labels[seq_idx] = 1\n",
    "                    else:\n",
    "                        for _, _, seq_idx in current_sequence:\n",
    "                            new_labels[seq_idx] = 2\n",
    "                    current_sequence = [(s, e, idx)]\n",
    "        \n",
    "        if current_sequence:\n",
    "            if len(current_sequence) >= 2:\n",
    "                for _, _, seq_idx in current_sequence:\n",
    "                    new_labels[seq_idx] = 1\n",
    "            else:\n",
    "                for _, _, seq_idx in current_sequence:\n",
    "                    new_labels[seq_idx] = 2\n",
    "                    \n",
    "    return new_labels\n",
    "\n",
    "new_labels = postprocess_class1_sequences(unlabeled_x, final_unlabeled_preds, unlabeled_meta)"
   ],
   "id": "cabfb129b22aa3d1",
   "outputs": [],
   "execution_count": 49
  },
  {
   "metadata": {
    "ExecuteTime": {
     "end_time": "2025-04-23T06:34:22.926759Z",
     "start_time": "2025-04-23T06:34:21.474321Z"
    }
   },
   "cell_type": "code",
   "source": [
    "distribution = Counter(new_labels)\n",
    "total = len(new_labels)\n",
    "print(\"\\nFinal Unlabeled Predictions Distribution:\")\n",
    "for label, count in distribution.items():\n",
    "    pct = (count / total) * 100\n",
    "    print(f\"Class {label}: {count} ({pct:.2f}%)\")"
   ],
   "id": "4992a71826108d65",
   "outputs": [
    {
     "name": "stdout",
     "output_type": "stream",
     "text": [
      "\n",
      "Final Unlabeled Predictions Distribution:\n",
      "Class 2: 11860451 (90.25%)\n",
      "Class 1: 1214571 (9.24%)\n",
      "Class 0: 67135 (0.51%)\n"
     ]
    }
   ],
   "execution_count": 51
  },
  {
   "metadata": {},
   "cell_type": "code",
   "source": [
    "class AcousticSequenceDataset(Dataset):\n",
    "    def __init__(self, data_dir, excel_path=None, target_length=128, click_filter=None,\n",
    "                 id_columns=('File', 'Minute', 'Time')):\n",
    "        self.data_dir = data_dir\n",
    "        self.target_length = target_length\n",
    "        self.click_filter = click_filter\n",
    "        self.id_columns = id_columns\n",
    "        self.label_encoder = LabelEncoder()\n",
    "\n",
    "        self.labeled_timeseries = []\n",
    "        self.identities = []\n",
    "        self.labels_for_labeled_data = []\n",
    "\n",
    "        self.labeled_data = pd.DataFrame()\n",
    "        self.labels = []\n",
    "        self.labeled_indices = set()\n",
    "        self.identity_to_label = {}\n",
    "\n",
    "        if excel_path:\n",
    "            self._load_labeled_data(excel_path)\n",
    "\n",
    "        self.unlabeled_sequences, self.unlabeled_metadata = self._load_and_process_files()\n",
    "\n",
    "    def _load_labeled_data(self, excel_path):\n",
    "        xl = pd.ExcelFile(excel_path)\n",
    "        dfs = []\n",
    "        for sheet in xl.sheet_names:\n",
    "            df = xl.parse(sheet)\n",
    "            df['label'] = sheet  \n",
    "            dfs.append(df)\n",
    "        full_labeled = pd.concat(dfs, ignore_index=True)\n",
    "\n",
    "        full_labeled[self.id_columns[0]] = full_labeled[self.id_columns[0]].astype(str)\n",
    "        full_labeled[self.id_columns[1]] = full_labeled[self.id_columns[1]].astype(int)\n",
    "        full_labeled[self.id_columns[2]] = full_labeled[self.id_columns[2]].astype(int)\n",
    "\n",
    "        self.labeled_data = full_labeled\n",
    "        self.labels = self.label_encoder.fit_transform(full_labeled['label'])\n",
    "        self.labeled_indices = set(full_labeled[list(self.id_columns)].apply(tuple, axis=1))\n",
    "\n",
    "        self.identity_to_label = {\n",
    "            tuple(row[col] for col in self.id_columns): label\n",
    "            for row, label in zip(full_labeled.to_dict(orient=\"records\"), self.labels)\n",
    "        }\n",
    "\n",
    "    def _load_and_process_files(self):\n",
    "        sequences = []\n",
    "        metadata = []\n",
    "\n",
    "        for file in os.listdir(self.data_dir):\n",
    "            path = os.path.join(self.data_dir, file)\n",
    "            try:\n",
    "                df = pd.read_csv(path, sep=\"\\t\", usecols=['Minute', 'microsec', 'ICI', 'File'])\n",
    "            except Exception as e:\n",
    "                print(f\"Failed to read {file}: {e}\")\n",
    "                continue\n",
    "            if df.empty:\n",
    "                continue\n",
    "            file_name = df['File'][0]\n",
    "            df[\"Datetime\"] = datetime(1899, 12, 30) + pd.to_timedelta(df[\"Minute\"], unit=\"m\") + pd.to_timedelta(\n",
    "                df[\"microsec\"], unit=\"us\")\n",
    "            df[\"Clk/s\"] = (1 / df[\"ICI\"]) * 10 ** 6\n",
    "\n",
    "            df.drop(columns=['File'], inplace=True)\n",
    "            df['Datetime'] = pd.to_datetime(df['Datetime'])\n",
    "            df.set_index('Datetime', inplace=True)\n",
    "\n",
    "            clk_values = df['Clk/s'].values\n",
    "            is_inf = np.isinf(clk_values)\n",
    "            split_indices = np.where(is_inf)[0]\n",
    "            start_idx = 0\n",
    "            for end_idx in split_indices:\n",
    "                instance = df.iloc[start_idx:end_idx]\n",
    "\n",
    "                if len(instance) < 3:\n",
    "                    start_idx = end_idx + 1\n",
    "                    continue\n",
    "\n",
    "                if self.click_filter and not self.click_filter(instance):\n",
    "                    start_idx = end_idx + 1\n",
    "                    continue\n",
    "\n",
    "                if start_idx > 0:\n",
    "                    anchor_row = df.iloc[start_idx - 1]\n",
    "                    minute = int(anchor_row['Minute'])\n",
    "                    microsec = int(anchor_row['microsec'])\n",
    "                else:\n",
    "                    minute = int(df['Minute'].iloc[start_idx])\n",
    "                    microsec = int(df['microsec'].iloc[start_idx])\n",
    "\n",
    "                if instance.isnull().all().any():\n",
    "                    start_idx = end_idx + 1\n",
    "                    continue\n",
    "\n",
    "                time_values = (instance.index - instance.index[0]).total_seconds().astype(np.float32)\n",
    "                clk_values = instance['Clk/s'].values.astype(np.float32)\n",
    "\n",
    "                if len(time_values) < 2 or np.all(time_values == time_values[0]):\n",
    "                    start_idx = end_idx + 1\n",
    "                    continue\n",
    "                    \n",
    "                identity = (file_name, minute, microsec)\n",
    "\n",
    "                if identity in self.identity_to_label:\n",
    "                    self.labeled_timeseries.append(clk_values)\n",
    "                    self.identities.append(identity)\n",
    "                    self.labels_for_labeled_data.append(self.identity_to_label[identity])\n",
    "                else:\n",
    "                    sequences.append(clk_values)\n",
    "                    metadata.append(identity)\n",
    "\n",
    "                start_idx = end_idx + 1\n",
    "\n",
    "        return sequences, metadata\n",
    "\n",
    "    def get_labeled(self):\n",
    "        return (\n",
    "            self.labeled_timeseries,\n",
    "            np.array(self.labels_for_labeled_data, dtype=np.int64),\n",
    "            self.labeled_data[list(self.id_columns)],\n",
    "            np.array(self.identities),\n",
    "        )\n",
    "\n",
    "    def get_unlabeled(self):\n",
    "        return self.unlabeled_sequences, self.unlabeled_metadata\n",
    "\n",
    "    def __len__(self):\n",
    "        return len(self.labeled_timeseries)\n",
    "\n",
    "    def __getitem__(self, idx):\n",
    "        return self.labeled_timeseries[idx]\n",
    "\n",
    "click_dataset = AcousticSequenceDataset(\n",
    "    'data_files/unlabeled_data',\n",
    "    excel_path=\"data_files/datasets/CLICK TRAINS.xlsx\",\n",
    "    target_length=64,\n",
    "    click_filter=None,\n",
    "    id_columns=('File', 'Minute', 'Time')\n",
    ")\n",
    "\n",
    "signal_x, signal_meta = click_dataset.get_unlabeled()"
   ],
   "id": "c08a7f61eb01781f",
   "outputs": [],
   "execution_count": null
  },
  {
   "metadata": {
    "ExecuteTime": {
     "end_time": "2025-04-19T07:55:16.478351Z",
     "start_time": "2025-04-19T07:55:16.467805Z"
    }
   },
   "cell_type": "code",
   "source": [
    "special_areas = ['U Dzha Bay', 'U Dzha Sea']\n",
    "\n",
    "signal_meta = np.array(signal_meta)\n",
    "def extract_area_name(entry):\n",
    "    entry_str = str(entry)\n",
    "    for area in special_areas:\n",
    "        if entry_str.startswith(area):\n",
    "            return area\n",
    "    match = re.match(r'^(\\w+ \\w+)', entry_str)\n",
    "    return match.group(1) if match else entry_str\n",
    "\n",
    "vectorized_extractor = np.vectorize(extract_area_name)\n",
    "\n",
    "clean_unlabeled_meta = vectorized_extractor(signal_meta[:, 0])\n",
    "meta_signal = np.column_stack((clean_unlabeled_meta, signal_meta[:, 1:3]))"
   ],
   "id": "4ec3498f70d7ab01",
   "outputs": [],
   "execution_count": 34
  },
  {
   "metadata": {
    "ExecuteTime": {
     "end_time": "2025-04-18T23:36:55.608993Z",
     "start_time": "2025-04-18T23:36:36.681442Z"
    }
   },
   "cell_type": "code",
   "source": [
    "def save_labeled_visuals_by_location(\n",
    "    labeled_x, labeled_y, labeled_meta,\n",
    "    signal_x, signal_meta,\n",
    "    location_filter='U Dzha Bay',\n",
    "    save_dir='labeled_data_visuals',\n",
    "    save_waveform_plot=True,\n",
    "    max_per_class=30\n",
    "):\n",
    "    os.makedirs(save_dir, exist_ok=True)\n",
    "\n",
    "    feature_column_names = [\n",
    "        'ClksThisMin', 'NofClx', 'medianKHz', 'avSPL', 'avPkAt',\n",
    "        'AvPRF', 'avEndF', 'tWUTrisk', 'nActualClx', 'nRisingIPIs',\n",
    "        'TrDur_us', 'nICIrising',\n",
    "        'MinICI_us', 'midpointICI', 'MaxICI_us', 'ClkNofMinICI',\n",
    "        'ClkNofMaxICI', 'NofClstrs',\n",
    "        'avClstrNx8', 'avPkIPI', 'BeforeIPIratio', 'PreIPIratio',\n",
    "        'Post1IPIratio', 'Post2IPIratio', 'EndIPIratio'\n",
    "    ]\n",
    "\n",
    "    class_dirs = {\n",
    "        0: os.path.join(save_dir, \"class_0\"),\n",
    "        1: os.path.join(save_dir, \"class_1\"),\n",
    "        2: os.path.join(save_dir, \"noise\")\n",
    "    }\n",
    "    for d in class_dirs.values():\n",
    "        os.makedirs(d, exist_ok=True)\n",
    "\n",
    "    # Filter labeled samples by location\n",
    "    filtered = [\n",
    "        (x, y, meta) for x, y, meta in zip(labeled_x, labeled_y, labeled_meta)\n",
    "        if meta[0] == location_filter\n",
    "    ]\n",
    "\n",
    "    if not filtered:\n",
    "        print(f\"No labeled instances found for location: {location_filter}\")\n",
    "        return\n",
    "\n",
    "    signal_lookup = {tuple(m): s for s, m in zip(signal_x, signal_meta)}\n",
    "    saved_counts = {0: 0, 1: 0, 2: 0}\n",
    "\n",
    "    for i, (x, y, meta) in enumerate(tqdm(filtered)):\n",
    "        identity = tuple(meta)\n",
    "        raw_signal = signal_lookup.get(identity, None)\n",
    "\n",
    "        if raw_signal is None:\n",
    "            continue\n",
    "\n",
    "        final_class = y if y in [0, 1] else 2\n",
    "        if saved_counts[final_class] >= max_per_class:\n",
    "            continue\n",
    "\n",
    "        label_dir = class_dirs[final_class]\n",
    "        base_name = f\"{i}_{identity[0].replace(' ', '_')}_{identity[1]}_{identity[2]}\"\n",
    "\n",
    "        # Save feature vector\n",
    "        df_feat = pd.DataFrame([x], columns=feature_column_names)\n",
    "        df_feat.to_csv(os.path.join(label_dir, f\"{base_name}_features.csv\"), index=False)\n",
    "\n",
    "        # Save waveform CSV\n",
    "        # np.savetxt(os.path.join(label_dir, f\"{base_name}_waveform.csv\"), raw_signal, delimiter=\",\")\n",
    "\n",
    "        # Save waveform PNG\n",
    "        if save_waveform_plot:\n",
    "            plt.figure(figsize=(6, 3))\n",
    "            plt.plot(raw_signal, lw=1)\n",
    "            plt.title(f\"Label: Class {final_class}\")\n",
    "            plt.xlabel(\"Time (sampled)\")\n",
    "            plt.ylabel(\"Clk/s\")\n",
    "            plt.tight_layout()\n",
    "            plt.savefig(os.path.join(label_dir, f\"{base_name}_waveform.png\"))\n",
    "            plt.close()\n",
    "\n",
    "        saved_counts[final_class] += 1\n",
    "\n",
    "        if all(saved_counts[c] >= max_per_class for c in saved_counts):\n",
    "            print(\"Saved max limit for all classes. Stopping.\")\n",
    "            break\n",
    "\n",
    "    print(f\"Saved labeled data for location: {location_filter} to: {save_dir}\")\n",
    "    print(f\"Saved counts: {saved_counts}\")\n",
    "    \n",
    "save_labeled_visuals_by_location(\n",
    "    unlabeled_x, final_unlabeled_preds, unlabeled_meta,\n",
    "    signal_x, meta_signal,\n",
    "    location_filter='U Kinburn',\n",
    "    save_dir='Kinburn_data_visuals',\n",
    "    save_waveform_plot=True,\n",
    "    max_per_class=100\n",
    ")"
   ],
   "id": "565976b6ee5f4e3c",
   "outputs": [
    {
     "name": "stderr",
     "output_type": "stream",
     "text": [
      "  7%|▋         | 15885/237447 [00:08<01:59, 1854.49it/s]\n"
     ]
    },
    {
     "name": "stdout",
     "output_type": "stream",
     "text": [
      "Saved max limit for all classes. Stopping.\n",
      "Saved per-class predictions for location: G Anaklia to: anaklia_predictions\n",
      "Saved counts: {0: 20, 1: 20, 2: 20}\n"
     ]
    }
   ],
   "execution_count": 13
  }
 ],
 "metadata": {
  "kernelspec": {
   "display_name": "Python (Torch + CUDA)",
   "language": "python",
   "name": "mytorchenv"
  },
  "language_info": {
   "codemirror_mode": {
    "name": "ipython",
    "version": 2
   },
   "file_extension": ".py",
   "mimetype": "text/x-python",
   "name": "python",
   "nbconvert_exporter": "python",
   "pygments_lexer": "ipython2",
   "version": "2.7.6"
  }
 },
 "nbformat": 4,
 "nbformat_minor": 5
}
